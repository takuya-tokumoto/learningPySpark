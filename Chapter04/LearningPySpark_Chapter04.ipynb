{
  "nbformat": 4,
  "nbformat_minor": 0,
  "metadata": {
    "kernelspec": {
      "display_name": "Python 3",
      "language": "python",
      "name": "python3"
    },
    "language_info": {
      "codemirror_mode": {
        "name": "ipython",
        "version": 3
      },
      "file_extension": ".py",
      "mimetype": "text/x-python",
      "name": "python",
      "nbconvert_exporter": "python",
      "pygments_lexer": "ipython3",
      "version": "3.5.2"
    },
    "colab": {
      "name": "LearningPySpark_Chapter04.ipynb",
      "provenance": [],
      "collapsed_sections": []
    }
  },
  "cells": [
    {
      "cell_type": "code",
      "metadata": {
        "colab": {
          "base_uri": "https://localhost:8080/",
          "height": 762
        },
        "id": "EYEzcMjvhVv2",
        "outputId": "5c0df29e-f0d3-46bd-98e4-4442372acc0b"
      },
      "source": [
        "!apt-get update\n",
        "!apt-get install openjdk-8-jdk-headless -qq > /dev/null\n",
        "!wget -q http://archive.apache.org/dist/spark/spark-2.3.1/spark-2.3.1-bin-hadoop2.7.tgz\n",
        "!tar xf spark-2.3.1-bin-hadoop2.7.tgz\n",
        "!pip install -q findspark\n",
        "\n",
        "import os\n",
        "os.environ[\"JAVA_HOME\"] = \"/usr/lib/jvm/java-8-openjdk-amd64\"\n",
        "os.environ[\"SPARK_HOME\"] = \"/content/spark-2.3.1-bin-hadoop2.7\"\n",
        "\n",
        "import findspark\n",
        "findspark.init()\n",
        "\n",
        "import pyspark\n",
        "\n",
        "# SparkContext\n",
        "from pyspark import SparkConf, SparkContext\n",
        "conf = SparkConf().setMaster(\"local\").setAppName(\"My App\")\n",
        "sc = SparkContext(conf=conf)\n",
        "\n",
        "# SparkSession\n",
        "from pyspark.sql import SparkSession\n",
        "\n",
        "#spark = SparkSession.builder.getOrCreate() \n",
        "spark = SparkSession.builder.appName(\"My App\").getOrCreate()\n",
        "spark"
      ],
      "execution_count": null,
      "outputs": [
        {
          "output_type": "stream",
          "text": [
            "\r0% [Working]\r            \rGet:1 http://security.ubuntu.com/ubuntu bionic-security InRelease [88.7 kB]\n",
            "\r0% [Connecting to archive.ubuntu.com (91.189.88.152)] [1 InRelease 14.2 kB/88.7\r                                                                               \rGet:2 https://cloud.r-project.org/bin/linux/ubuntu bionic-cran40/ InRelease [3,626 B]\n",
            "Ign:3 https://developer.download.nvidia.com/compute/cuda/repos/ubuntu1804/x86_64  InRelease\n",
            "Get:4 http://ppa.launchpad.net/c2d4u.team/c2d4u4.0+/ubuntu bionic InRelease [15.9 kB]\n",
            "Ign:5 https://developer.download.nvidia.com/compute/machine-learning/repos/ubuntu1804/x86_64  InRelease\n",
            "Get:6 https://developer.download.nvidia.com/compute/cuda/repos/ubuntu1804/x86_64  Release [697 B]\n",
            "Hit:7 https://developer.download.nvidia.com/compute/machine-learning/repos/ubuntu1804/x86_64  Release\n",
            "Get:8 https://developer.download.nvidia.com/compute/cuda/repos/ubuntu1804/x86_64  Release.gpg [836 B]\n",
            "Hit:9 http://archive.ubuntu.com/ubuntu bionic InRelease\n",
            "Get:10 http://archive.ubuntu.com/ubuntu bionic-updates InRelease [88.7 kB]\n",
            "Hit:11 http://ppa.launchpad.net/cran/libgit2/ubuntu bionic InRelease\n",
            "Get:12 http://ppa.launchpad.net/deadsnakes/ppa/ubuntu bionic InRelease [15.9 kB]\n",
            "Get:13 https://cloud.r-project.org/bin/linux/ubuntu bionic-cran40/ Packages [66.2 kB]\n",
            "Get:14 http://archive.ubuntu.com/ubuntu bionic-backports InRelease [74.6 kB]\n",
            "Get:15 http://ppa.launchpad.net/graphics-drivers/ppa/ubuntu bionic InRelease [21.3 kB]\n",
            "Get:16 http://security.ubuntu.com/ubuntu bionic-security/main amd64 Packages [2,263 kB]\n",
            "Get:17 http://security.ubuntu.com/ubuntu bionic-security/restricted amd64 Packages [510 kB]\n",
            "Get:18 http://security.ubuntu.com/ubuntu bionic-security/universe amd64 Packages [1,421 kB]\n",
            "Get:19 http://security.ubuntu.com/ubuntu bionic-security/multiverse amd64 Packages [26.7 kB]\n",
            "Ign:21 https://developer.download.nvidia.com/compute/cuda/repos/ubuntu1804/x86_64  Packages\n",
            "Get:21 https://developer.download.nvidia.com/compute/cuda/repos/ubuntu1804/x86_64  Packages [695 kB]\n",
            "Get:22 http://ppa.launchpad.net/c2d4u.team/c2d4u4.0+/ubuntu bionic/main Sources [1,786 kB]\n",
            "Get:23 http://archive.ubuntu.com/ubuntu bionic-updates/restricted amd64 Packages [544 kB]\n",
            "Get:24 http://archive.ubuntu.com/ubuntu bionic-updates/multiverse amd64 Packages [39.4 kB]\n",
            "Get:25 http://archive.ubuntu.com/ubuntu bionic-updates/main amd64 Packages [2,699 kB]\n",
            "Get:26 http://ppa.launchpad.net/c2d4u.team/c2d4u4.0+/ubuntu bionic/main amd64 Packages [914 kB]\n",
            "Get:27 http://archive.ubuntu.com/ubuntu bionic-updates/universe amd64 Packages [2,196 kB]\n",
            "Get:28 http://ppa.launchpad.net/deadsnakes/ppa/ubuntu bionic/main amd64 Packages [40.9 kB]\n",
            "Get:29 http://ppa.launchpad.net/graphics-drivers/ppa/ubuntu bionic/main amd64 Packages [44.1 kB]\n",
            "Fetched 13.6 MB in 5s (2,932 kB/s)\n",
            "Reading package lists... Done\n"
          ],
          "name": "stdout"
        },
        {
          "output_type": "execute_result",
          "data": {
            "text/html": [
              "\n",
              "            <div>\n",
              "                <p><b>SparkSession - in-memory</b></p>\n",
              "                \n",
              "        <div>\n",
              "            <p><b>SparkContext</b></p>\n",
              "\n",
              "            <p><a href=\"http://9c10cf980549:4040\">Spark UI</a></p>\n",
              "\n",
              "            <dl>\n",
              "              <dt>Version</dt>\n",
              "                <dd><code>v2.3.1</code></dd>\n",
              "              <dt>Master</dt>\n",
              "                <dd><code>local</code></dd>\n",
              "              <dt>AppName</dt>\n",
              "                <dd><code>My App</code></dd>\n",
              "            </dl>\n",
              "        </div>\n",
              "        \n",
              "            </div>\n",
              "        "
            ],
            "text/plain": [
              "<pyspark.sql.session.SparkSession at 0x7fddb306f3d0>"
            ]
          },
          "metadata": {
            "tags": []
          },
          "execution_count": 1
        }
      ]
    },
    {
      "cell_type": "markdown",
      "metadata": {
        "id": "e1GhDN-DhUac"
      },
      "source": [
        "# Prepare and understand data for modeling"
      ]
    },
    {
      "cell_type": "markdown",
      "metadata": {
        "id": "QXL4OCp1hUad"
      },
      "source": [
        "### Duplicates\n",
        "\n",
        "Consider the following example."
      ]
    },
    {
      "cell_type": "code",
      "metadata": {
        "id": "fwb1HWFThUad"
      },
      "source": [
        "df = spark.createDataFrame([\n",
        "        (1, 144.5, 5.9, 33, 'M'),\n",
        "        (2, 167.2, 5.4, 45, 'M'),\n",
        "        (3, 124.1, 5.2, 23, 'F'),\n",
        "        (4, 144.5, 5.9, 33, 'M'),\n",
        "        (5, 133.2, 5.7, 54, 'F'),\n",
        "        (3, 124.1, 5.2, 23, 'F'),\n",
        "        (5, 129.2, 5.3, 42, 'M'),\n",
        "    ], ['id', 'weight', 'height', 'age', 'gender'])"
      ],
      "execution_count": null,
      "outputs": []
    },
    {
      "cell_type": "markdown",
      "metadata": {
        "id": "eKMQSKkmhUad"
      },
      "source": [
        "Check for duplicates."
      ]
    },
    {
      "cell_type": "code",
      "metadata": {
        "colab": {
          "base_uri": "https://localhost:8080/"
        },
        "id": "KEBmOsC4hUad",
        "outputId": "0dd4035d-fa25-429a-ded7-a2603a3ffb31"
      },
      "source": [
        "print('Count of rows: {0}'.format(df.count()))\n",
        "print('Count of distinct rows: {0}'.format(df.distinct().count()))"
      ],
      "execution_count": null,
      "outputs": [
        {
          "output_type": "stream",
          "text": [
            "Count of rows: 7\n",
            "Count of distinct rows: 6\n"
          ],
          "name": "stdout"
        }
      ]
    },
    {
      "cell_type": "markdown",
      "metadata": {
        "id": "Hvoq0n_HhUae"
      },
      "source": [
        "この2つの数値が異なる場合、お互いに完全なコピーである行があることになります。これらの行を削除するには、`.dropDuplicates(...)`メソッドを使用します。"
      ]
    },
    {
      "cell_type": "code",
      "metadata": {
        "colab": {
          "base_uri": "https://localhost:8080/"
        },
        "id": "3JVvwcH-hUae",
        "outputId": "553d7923-d759-4707-db75-794f74411ae2"
      },
      "source": [
        "df = df.dropDuplicates()\n",
        "df.show()"
      ],
      "execution_count": null,
      "outputs": [
        {
          "output_type": "stream",
          "text": [
            "+---+------+------+---+------+\n",
            "| id|weight|height|age|gender|\n",
            "+---+------+------+---+------+\n",
            "|  5| 133.2|   5.7| 54|     F|\n",
            "|  5| 129.2|   5.3| 42|     M|\n",
            "|  1| 144.5|   5.9| 33|     M|\n",
            "|  4| 144.5|   5.9| 33|     M|\n",
            "|  2| 167.2|   5.4| 45|     M|\n",
            "|  3| 124.1|   5.2| 23|     F|\n",
            "+---+------+------+---+------+\n",
            "\n"
          ],
          "name": "stdout"
        }
      ]
    },
    {
      "cell_type": "markdown",
      "metadata": {
        "id": "ge87RZNShUae"
      },
      "source": [
        "Let's confirm."
      ]
    },
    {
      "cell_type": "code",
      "metadata": {
        "colab": {
          "base_uri": "https://localhost:8080/"
        },
        "id": "72QCUqTchUae",
        "outputId": "a78c18fe-5f81-4737-cc2f-8f529f0d7d75"
      },
      "source": [
        "print('Count of ids: {0}'.format(df.count()))\n",
        "print('Count of distinct ids: {0}'.format(df.select([c for c in df.columns if c != 'id']).distinct().count()))"
      ],
      "execution_count": null,
      "outputs": [
        {
          "output_type": "stream",
          "text": [
            "Count of ids: 6\n",
            "Count of distinct ids: 5\n"
          ],
          "name": "stdout"
        }
      ]
    },
    {
      "cell_type": "markdown",
      "metadata": {
        "id": "q7Bu-WsehUae"
      },
      "source": [
        "まだ1つ重複しています。`.dropDuplicates(...)`を使用しますが、subsetパラメータを追加します。"
      ]
    },
    {
      "cell_type": "code",
      "metadata": {
        "colab": {
          "base_uri": "https://localhost:8080/"
        },
        "id": "sJ_F7bVhhUae",
        "outputId": "46382ae1-c2e2-44eb-fa0f-73b4e9f64898"
      },
      "source": [
        "df = df.dropDuplicates(subset=[c for c in df.columns if c != 'id']) # id以外のカラム指定\n",
        "df.show()"
      ],
      "execution_count": null,
      "outputs": [
        {
          "output_type": "stream",
          "text": [
            "+---+------+------+---+------+\n",
            "| id|weight|height|age|gender|\n",
            "+---+------+------+---+------+\n",
            "|  5| 133.2|   5.7| 54|     F|\n",
            "|  1| 144.5|   5.9| 33|     M|\n",
            "|  2| 167.2|   5.4| 45|     M|\n",
            "|  3| 124.1|   5.2| 23|     F|\n",
            "|  5| 129.2|   5.3| 42|     M|\n",
            "+---+------+------+---+------+\n",
            "\n"
          ],
          "name": "stdout"
        }
      ]
    },
    {
      "cell_type": "markdown",
      "metadata": {
        "id": "mpIYjuwYhUaf"
      },
      "source": [
        "IDの総数と識別番号を一度に計算するには、`.agg(...)`メソッドを使用します。"
      ]
    },
    {
      "cell_type": "code",
      "metadata": {
        "colab": {
          "base_uri": "https://localhost:8080/"
        },
        "id": "XwIam3xXhUaf",
        "outputId": "77762a25-e91d-4192-c986-18d9038976fe"
      },
      "source": [
        "import pyspark.sql.functions as fn\n",
        "\n",
        "df.agg(\n",
        "    fn.count('id').alias('count'),\n",
        "    fn.countDistinct('id').alias('distinct')\n",
        ").show()"
      ],
      "execution_count": null,
      "outputs": [
        {
          "output_type": "stream",
          "text": [
            "+-----+--------+\n",
            "|count|distinct|\n",
            "+-----+--------+\n",
            "|    5|       4|\n",
            "+-----+--------+\n",
            "\n"
          ],
          "name": "stdout"
        }
      ]
    },
    {
      "cell_type": "markdown",
      "metadata": {
        "id": "BOCHIOKXhUaf"
      },
      "source": [
        "Give each row a unique ID. "
      ]
    },
    {
      "cell_type": "code",
      "metadata": {
        "colab": {
          "base_uri": "https://localhost:8080/"
        },
        "id": "1jSjzZ9_hUaf",
        "outputId": "b2721d49-5fb5-4724-90c4-7d2b659e94fe"
      },
      "source": [
        "df.withColumn('new_id', fn.monotonically_increasing_id()).show()"
      ],
      "execution_count": null,
      "outputs": [
        {
          "output_type": "stream",
          "text": [
            "+---+------+------+---+------+-------------+\n",
            "| id|weight|height|age|gender|       new_id|\n",
            "+---+------+------+---+------+-------------+\n",
            "|  5| 133.2|   5.7| 54|     F|  25769803776|\n",
            "|  1| 144.5|   5.9| 33|     M| 171798691840|\n",
            "|  2| 167.2|   5.4| 45|     M| 592705486848|\n",
            "|  3| 124.1|   5.2| 23|     F|1236950581248|\n",
            "|  5| 129.2|   5.3| 42|     M|1365799600128|\n",
            "+---+------+------+---+------+-------------+\n",
            "\n"
          ],
          "name": "stdout"
        }
      ]
    },
    {
      "cell_type": "markdown",
      "metadata": {
        "id": "759ft0v_hUaf"
      },
      "source": [
        "### Missing observations\n",
        "\n",
        "上で紹介したのと似たような例を考えてみましょう。"
      ]
    },
    {
      "cell_type": "code",
      "metadata": {
        "collapsed": true,
        "id": "jjk3YDZ1hUaf"
      },
      "source": [
        "df_miss = spark.createDataFrame([\n",
        "        (1, 143.5, 5.6, 28,   'M',  100000),\n",
        "        (2, 167.2, 5.4, 45,   'M',  None),\n",
        "        (3, None , 5.2, None, None, None),\n",
        "        (4, 144.5, 5.9, 33,   'M',  None),\n",
        "        (5, 133.2, 5.7, 54,   'F',  None),\n",
        "        (6, 124.1, 5.2, None, 'F',  None),\n",
        "        (7, 129.2, 5.3, 42,   'M',  76000),\n",
        "    ], ['id', 'weight', 'height', 'age', 'gender', 'income'])"
      ],
      "execution_count": null,
      "outputs": []
    },
    {
      "cell_type": "markdown",
      "metadata": {
        "id": "6KUPttChhUaf"
      },
      "source": [
        "行ごとの欠落値の数を求めるには、以下のsnippetを使用します。"
      ]
    },
    {
      "cell_type": "code",
      "metadata": {
        "colab": {
          "base_uri": "https://localhost:8080/"
        },
        "id": "RK8J3nMfhUaf",
        "outputId": "1ab9bbe9-28ca-4da5-a87e-c11b8692d748"
      },
      "source": [
        "df_miss.rdd.map(\n",
        "    lambda row: (row['id'], sum([c == None for c in row]))\n",
        ").collect()"
      ],
      "execution_count": null,
      "outputs": [
        {
          "output_type": "execute_result",
          "data": {
            "text/plain": [
              "[(1, 0), (2, 1), (3, 4), (4, 1), (5, 1), (6, 2), (7, 0)]"
            ]
          },
          "metadata": {
            "tags": []
          },
          "execution_count": 10
        }
      ]
    },
    {
      "cell_type": "markdown",
      "metadata": {
        "id": "3Bje_ACthUag"
      },
      "source": [
        "どのような値が欠落しているかを見てみましょう。そうすれば、欠落値を数えるときに、その欠損値を完全に削除するか、あるいは欠損値埋めするかを決めることができます。"
      ]
    },
    {
      "cell_type": "code",
      "metadata": {
        "colab": {
          "base_uri": "https://localhost:8080/"
        },
        "id": "JyXkxxG0hUag",
        "outputId": "aae60ba3-83ce-4cae-c2bb-c200a3e03c72"
      },
      "source": [
        "df_miss.where('id == 3').show()"
      ],
      "execution_count": null,
      "outputs": [
        {
          "output_type": "stream",
          "text": [
            "+---+------+------+----+------+------+\n",
            "| id|weight|height| age|gender|income|\n",
            "+---+------+------+----+------+------+\n",
            "|  3|  null|   5.2|null|  null|  null|\n",
            "+---+------+------+----+------+------+\n",
            "\n"
          ],
          "name": "stdout"
        }
      ]
    },
    {
      "cell_type": "markdown",
      "metadata": {
        "id": "4tZuA8F8hUag"
      },
      "source": [
        "各列に見られる欠損箇所の割合はいくつですか？"
      ]
    },
    {
      "cell_type": "code",
      "metadata": {
        "colab": {
          "base_uri": "https://localhost:8080/"
        },
        "id": "6NYwkn7Y3mB6",
        "outputId": "a8a0a3e5-e83f-4cce-b94b-df1329fc09fa"
      },
      "source": [
        "# * で全選択できる\n",
        "\n",
        "df_miss.select('*').show()"
      ],
      "execution_count": null,
      "outputs": [
        {
          "output_type": "stream",
          "text": [
            "+---+------+------+----+------+------+\n",
            "| id|weight|height| age|gender|income|\n",
            "+---+------+------+----+------+------+\n",
            "|  1| 143.5|   5.6|  28|     M|100000|\n",
            "|  2| 167.2|   5.4|  45|     M|  null|\n",
            "|  3|  null|   5.2|null|  null|  null|\n",
            "|  4| 144.5|   5.9|  33|     M|  null|\n",
            "|  5| 133.2|   5.7|  54|     F|  null|\n",
            "|  6| 124.1|   5.2|null|     F|  null|\n",
            "|  7| 129.2|   5.3|  42|     M| 76000|\n",
            "+---+------+------+----+------+------+\n",
            "\n"
          ],
          "name": "stdout"
        }
      ]
    },
    {
      "cell_type": "code",
      "metadata": {
        "colab": {
          "base_uri": "https://localhost:8080/"
        },
        "id": "khT1vunY39TO",
        "outputId": "730894d3-eba9-4783-8fce-aee1c561e8da"
      },
      "source": [
        "df_miss.agg(fn.count('*')).show()"
      ],
      "execution_count": null,
      "outputs": [
        {
          "output_type": "stream",
          "text": [
            "+--------+\n",
            "|count(1)|\n",
            "+--------+\n",
            "|       7|\n",
            "+--------+\n",
            "\n"
          ],
          "name": "stdout"
        }
      ]
    },
    {
      "cell_type": "code",
      "metadata": {
        "colab": {
          "base_uri": "https://localhost:8080/"
        },
        "id": "WZ_-rXKd3cOQ",
        "outputId": "30ca6ae4-41cb-4538-ddbf-e01c82b2a659"
      },
      "source": [
        "df_miss.agg(*[ # リスト宣言前の'*'は.agg(...)メソッドに対して渡されry個別のパラメータ集合としてリストを扱うように指示\n",
        "    (1 - (fn.count(c) / fn.count('*'))).alias(c + '_missing')\n",
        "    for c in df_miss.columns\n",
        "]).show()"
      ],
      "execution_count": null,
      "outputs": [
        {
          "output_type": "stream",
          "text": [
            "+----------+------------------+--------------+------------------+------------------+------------------+\n",
            "|id_missing|    weight_missing|height_missing|       age_missing|    gender_missing|    income_missing|\n",
            "+----------+------------------+--------------+------------------+------------------+------------------+\n",
            "|       0.0|0.1428571428571429|           0.0|0.2857142857142857|0.1428571428571429|0.7142857142857143|\n",
            "+----------+------------------+--------------+------------------+------------------+------------------+\n",
            "\n"
          ],
          "name": "stdout"
        }
      ]
    },
    {
      "cell_type": "markdown",
      "metadata": {
        "id": "H3pdZP_ehUag"
      },
      "source": [
        "We will drop the `'income'` feature as most of its values are missing."
      ]
    },
    {
      "cell_type": "code",
      "metadata": {
        "colab": {
          "base_uri": "https://localhost:8080/"
        },
        "id": "Q45iI1rYhUah",
        "outputId": "8a40568b-1bed-455d-8054-30d621f94524"
      },
      "source": [
        "df_miss_no_income = df_miss.select([c for c in df_miss.columns if c != 'income'])\n",
        "df_miss_no_income.show()"
      ],
      "execution_count": null,
      "outputs": [
        {
          "output_type": "stream",
          "text": [
            "+---+------+------+----+------+\n",
            "| id|weight|height| age|gender|\n",
            "+---+------+------+----+------+\n",
            "|  1| 143.5|   5.6|  28|     M|\n",
            "|  2| 167.2|   5.4|  45|     M|\n",
            "|  3|  null|   5.2|null|  null|\n",
            "|  4| 144.5|   5.9|  33|     M|\n",
            "|  5| 133.2|   5.7|  54|     F|\n",
            "|  6| 124.1|   5.2|null|     F|\n",
            "|  7| 129.2|   5.3|  42|     M|\n",
            "+---+------+------+----+------+\n",
            "\n"
          ],
          "name": "stdout"
        }
      ]
    },
    {
      "cell_type": "markdown",
      "metadata": {
        "id": "W0RqH1G6hUah"
      },
      "source": [
        "To drop the observations instead you can use the `.dropna(...)` method."
      ]
    },
    {
      "cell_type": "code",
      "metadata": {
        "colab": {
          "base_uri": "https://localhost:8080/"
        },
        "id": "UOO4ha_vhUah",
        "outputId": "52f2aba8-5e01-4bf7-9eee-1dd542b3a2c0"
      },
      "source": [
        "df_miss_no_income.dropna(thresh=3).show()"
      ],
      "execution_count": null,
      "outputs": [
        {
          "output_type": "stream",
          "text": [
            "+---+------+------+----+------+\n",
            "| id|weight|height| age|gender|\n",
            "+---+------+------+----+------+\n",
            "|  1| 143.5|   5.6|  28|     M|\n",
            "|  2| 167.2|   5.4|  45|     M|\n",
            "|  4| 144.5|   5.9|  33|     M|\n",
            "|  5| 133.2|   5.7|  54|     F|\n",
            "|  6| 124.1|   5.2|null|     F|\n",
            "|  7| 129.2|   5.3|  42|     M|\n",
            "+---+------+------+----+------+\n",
            "\n"
          ],
          "name": "stdout"
        }
      ]
    },
    {
      "cell_type": "markdown",
      "metadata": {
        "id": "uQPPNQLuhUah"
      },
      "source": [
        "平均値や中央値などの計算値を入力するには、まずその値を計算し、そのような値を含むdictを作成して、それを`.fillna(...)`メソッドに渡す必要があります。"
      ]
    },
    {
      "cell_type": "code",
      "metadata": {
        "id": "6hKo6J6BhUah",
        "outputId": "112e5dd9-28c9-4c79-fd0e-7cc60af7717f"
      },
      "source": [
        "means = df_miss_no_income.agg(\n",
        "    *[fn.mean(c).alias(c) for c in df_miss_no_income.columns if c != 'gender']\n",
        ").toPandas().to_dict('records')[0]\n",
        "\n",
        "means['gender'] = 'missing'\n",
        "\n",
        "df_miss_no_income.fillna(means).show()"
      ],
      "execution_count": null,
      "outputs": [
        {
          "output_type": "stream",
          "text": [
            "+---+-------------+------+---+-------+\n",
            "| id|       weight|height|age| gender|\n",
            "+---+-------------+------+---+-------+\n",
            "|  1|        143.5|   5.6| 28|      M|\n",
            "|  2|        167.2|   5.4| 45|      M|\n",
            "|  3|140.283333333|   5.2| 40|missing|\n",
            "|  4|        144.5|   5.9| 33|      M|\n",
            "|  5|        133.2|   5.7| 54|      F|\n",
            "|  6|        124.1|   5.2| 40|      F|\n",
            "|  7|        129.2|   5.3| 42|      M|\n",
            "+---+-------------+------+---+-------+\n",
            "\n"
          ],
          "name": "stdout"
        }
      ]
    },
    {
      "cell_type": "markdown",
      "metadata": {
        "id": "UgXnBhRYhUah"
      },
      "source": [
        "### Outliers\n",
        "\n",
        "Consider another simple example."
      ]
    },
    {
      "cell_type": "code",
      "metadata": {
        "id": "p7Lgi4wNhUah"
      },
      "source": [
        "df_outliers = spark.createDataFrame([\n",
        "        (1, 143.5, 5.3, 28),\n",
        "        (2, 154.2, 5.5, 45),\n",
        "        (3, 342.3, 5.1, 99),\n",
        "        (4, 144.5, 5.5, 33),\n",
        "        (5, 133.2, 5.4, 54),\n",
        "        (6, 124.1, 5.1, 21),\n",
        "        (7, 129.2, 5.3, 42),\n",
        "    ], ['id', 'weight', 'height', 'age'])"
      ],
      "execution_count": null,
      "outputs": []
    },
    {
      "cell_type": "markdown",
      "metadata": {
        "id": "8q_qeQlfhUah"
      },
      "source": [
        "まず、各特徴量の下限カットオフポイントと上限カットオフポイントを算出します。"
      ]
    },
    {
      "cell_type": "code",
      "metadata": {
        "id": "lUxxfZLyhUai"
      },
      "source": [
        "cols = ['weight', 'height', 'age']\n",
        "bounds = {}\n",
        "\n",
        "for col in cols:\n",
        "    quantiles = df_outliers.approxQuantile(col, [0.25, 0.75], 0.05)\n",
        "    IQR = quantiles[1] - quantiles[0]\n",
        "    bounds[col] = [quantiles[0] - 1.5 * IQR, quantiles[1] + 1.5 * IQR]"
      ],
      "execution_count": null,
      "outputs": []
    },
    {
      "cell_type": "markdown",
      "metadata": {
        "id": "Rw9qRlzhhUai"
      },
      "source": [
        "`bounds`辞書には，各フィーチャーの下限値と上限値が格納されています．"
      ]
    },
    {
      "cell_type": "code",
      "metadata": {
        "colab": {
          "base_uri": "https://localhost:8080/"
        },
        "id": "qQDpDx0mhUai",
        "outputId": "d2407dc9-15e4-4eea-8c13-514ecfb5dfc2"
      },
      "source": [
        "bounds"
      ],
      "execution_count": null,
      "outputs": [
        {
          "output_type": "execute_result",
          "data": {
            "text/plain": [
              "{'age': [-11.0, 93.0],\n",
              " 'height': [4.499999999999999, 6.1000000000000005],\n",
              " 'weight': [91.69999999999999, 191.7]}"
            ]
          },
          "metadata": {
            "tags": []
          },
          "execution_count": 33
        }
      ]
    },
    {
      "cell_type": "markdown",
      "metadata": {
        "id": "tU9OcgsChUai"
      },
      "source": [
        "これを使って外れ値のフラグを立ててみましょう。"
      ]
    },
    {
      "cell_type": "code",
      "metadata": {
        "colab": {
          "base_uri": "https://localhost:8080/"
        },
        "id": "G9ELj9vjhUai",
        "outputId": "7b033356-3ac5-4b2d-e59e-31fa2a433370"
      },
      "source": [
        "outliers = df_outliers.select(*['id'] + [\n",
        "    (\n",
        "        (df_outliers[c] < bounds[c][0]) | \n",
        "        (df_outliers[c] > bounds[c][1])\n",
        "    ).alias(c + '_o') for c in cols\n",
        "])\n",
        "outliers.show()"
      ],
      "execution_count": null,
      "outputs": [
        {
          "output_type": "stream",
          "text": [
            "+---+--------+--------+-----+\n",
            "| id|weight_o|height_o|age_o|\n",
            "+---+--------+--------+-----+\n",
            "|  1|   false|   false|false|\n",
            "|  2|   false|   false|false|\n",
            "|  3|    true|   false| true|\n",
            "|  4|   false|   false|false|\n",
            "|  5|   false|   false|false|\n",
            "|  6|   false|   false|false|\n",
            "|  7|   false|   false|false|\n",
            "+---+--------+--------+-----+\n",
            "\n"
          ],
          "name": "stdout"
        }
      ]
    },
    {
      "cell_type": "markdown",
      "metadata": {
        "id": "ILlPfvd1hUai"
      },
      "source": [
        "`height`の特徴では2つ、`age`の特徴では2つの外れ値があります。"
      ]
    },
    {
      "cell_type": "code",
      "metadata": {
        "colab": {
          "base_uri": "https://localhost:8080/"
        },
        "id": "uvyaZ8ejhUai",
        "outputId": "37e82ff6-bc35-4072-b9e7-3acb0852ef29"
      },
      "source": [
        "df_outliers = df_outliers.join(outliers, on='id')\n",
        "df_outliers.filter('weight_o').select('id', 'weight').show()\n",
        "df_outliers.filter('age_o').select('id', 'age').show()"
      ],
      "execution_count": null,
      "outputs": [
        {
          "output_type": "stream",
          "text": [
            "+---+------+\n",
            "| id|weight|\n",
            "+---+------+\n",
            "|  3| 342.3|\n",
            "+---+------+\n",
            "\n",
            "+---+---+\n",
            "| id|age|\n",
            "+---+---+\n",
            "|  3| 99|\n",
            "+---+---+\n",
            "\n"
          ],
          "name": "stdout"
        }
      ]
    },
    {
      "cell_type": "markdown",
      "metadata": {
        "id": "dagqEnQxhUai"
      },
      "source": [
        "## Understand your data\n",
        "\n",
        "### Descriptive statistics"
      ]
    },
    {
      "cell_type": "markdown",
      "metadata": {
        "id": "8pz1VSRehUai"
      },
      "source": [
        "Load our data and convert it to a Spark DataFrame."
      ]
    },
    {
      "cell_type": "code",
      "metadata": {
        "collapsed": true,
        "id": "XX7ZoyWzhUaj"
      },
      "source": [
        "import pyspark.sql.types as typ"
      ],
      "execution_count": null,
      "outputs": []
    },
    {
      "cell_type": "code",
      "metadata": {
        "colab": {
          "base_uri": "https://localhost:8080/"
        },
        "id": "893o8D_O9yRM",
        "outputId": "3d381958-077b-4ae6-cce4-89ad4f85801c"
      },
      "source": [
        "from google.colab import drive\n",
        "drive.mount('/content/drive')"
      ],
      "execution_count": null,
      "outputs": [
        {
          "output_type": "stream",
          "text": [
            "Mounted at /content/drive\n"
          ],
          "name": "stdout"
        }
      ]
    },
    {
      "cell_type": "markdown",
      "metadata": {
        "id": "Q724Oh8YhUaj"
      },
      "source": [
        "Next, we read the data in."
      ]
    },
    {
      "cell_type": "code",
      "metadata": {
        "collapsed": true,
        "id": "4t2Uj3bAhUaj"
      },
      "source": [
        "fraud = sc.textFile('/content/drive/MyDrive/Colab Notebooks/data/ccFraud.csv.gz')\n",
        "header = fraud.first()\n",
        "\n",
        "fraud = fraud \\\n",
        "    .filter(lambda row: row != header) \\\n",
        "    .map(lambda row: [int(elem) for elem in row.split(',')])"
      ],
      "execution_count": null,
      "outputs": []
    },
    {
      "cell_type": "markdown",
      "metadata": {
        "id": "nxd4VB2VhUaj"
      },
      "source": [
        "続いて、`DataFrame`のスキーマを作成します。"
      ]
    },
    {
      "cell_type": "code",
      "metadata": {
        "collapsed": true,
        "id": "OH0BgliEhUaj"
      },
      "source": [
        "fields = [\n",
        "    *[\n",
        "        typ.StructField(h[1:-1], typ.IntegerType(), True)\n",
        "        for h in header.split(',')\n",
        "    ]\n",
        "]\n",
        "\n",
        "schema = typ.StructType(fields)"
      ],
      "execution_count": null,
      "outputs": []
    },
    {
      "cell_type": "markdown",
      "metadata": {
        "id": "tGTh1o95hUaj"
      },
      "source": [
        "最後に、`DataFrame`を作成します。"
      ]
    },
    {
      "cell_type": "code",
      "metadata": {
        "id": "jHcOZ2CshUaj"
      },
      "source": [
        "fraud_df = spark.createDataFrame(fraud, schema)"
      ],
      "execution_count": null,
      "outputs": []
    },
    {
      "cell_type": "code",
      "metadata": {
        "colab": {
          "base_uri": "https://localhost:8080/"
        },
        "id": "A5RHiZQbB09w",
        "outputId": "a17f9e31-0bd5-4c41-b9a0-d18ff7875cd5"
      },
      "source": [
        "fraud_df.count()"
      ],
      "execution_count": null,
      "outputs": [
        {
          "output_type": "execute_result",
          "data": {
            "text/plain": [
              "10000000"
            ]
          },
          "metadata": {
            "tags": []
          },
          "execution_count": 58
        }
      ]
    },
    {
      "cell_type": "markdown",
      "metadata": {
        "id": "0qgaImf2hUak"
      },
      "source": [
        "データフレームの準備ができたので、データセットの基本的な記述統計を計算することができます。"
      ]
    },
    {
      "cell_type": "code",
      "metadata": {
        "colab": {
          "base_uri": "https://localhost:8080/"
        },
        "id": "yljLF9mHhUak",
        "outputId": "f5ab903a-bde7-413a-d160-84cc23bd07dd"
      },
      "source": [
        "fraud_df.printSchema()"
      ],
      "execution_count": null,
      "outputs": [
        {
          "output_type": "stream",
          "text": [
            "root\n",
            " |-- custID: integer (nullable = true)\n",
            " |-- gender: integer (nullable = true)\n",
            " |-- state: integer (nullable = true)\n",
            " |-- cardholder: integer (nullable = true)\n",
            " |-- balance: integer (nullable = true)\n",
            " |-- numTrans: integer (nullable = true)\n",
            " |-- numIntlTrans: integer (nullable = true)\n",
            " |-- creditLine: integer (nullable = true)\n",
            " |-- fraudRisk: integer (nullable = true)\n",
            "\n"
          ],
          "name": "stdout"
        }
      ]
    },
    {
      "cell_type": "markdown",
      "metadata": {
        "collapsed": true,
        "id": "dfTqbT-whUak"
      },
      "source": [
        "カテゴリカルな列については、`.groupby(...)`メソッドを使って値の頻度を数えます。"
      ]
    },
    {
      "cell_type": "code",
      "metadata": {
        "colab": {
          "base_uri": "https://localhost:8080/"
        },
        "id": "exwt8rbxhUak",
        "outputId": "0cc097b6-0fdc-49b6-d644-5608eae01b96"
      },
      "source": [
        "fraud_df.groupby('gender').count().show()"
      ],
      "execution_count": null,
      "outputs": [
        {
          "output_type": "stream",
          "text": [
            "+------+-------+\n",
            "|gender|  count|\n",
            "+------+-------+\n",
            "|     1|6178231|\n",
            "|     2|3821769|\n",
            "+------+-------+\n",
            "\n"
          ],
          "name": "stdout"
        }
      ]
    },
    {
      "cell_type": "markdown",
      "metadata": {
        "id": "AdZ0oez-hUak"
      },
      "source": [
        "数値的な機能については、`.describe()`メソッドを使うことができます。"
      ]
    },
    {
      "cell_type": "code",
      "metadata": {
        "collapsed": true,
        "id": "yZts5HMzhUak"
      },
      "source": [
        "numerical = ['balance', 'numTrans', 'numIntlTrans']"
      ],
      "execution_count": null,
      "outputs": []
    },
    {
      "cell_type": "code",
      "metadata": {
        "colab": {
          "base_uri": "https://localhost:8080/"
        },
        "id": "rP5InI0FhUak",
        "outputId": "984ef566-9948-41e0-9d69-d72140857666"
      },
      "source": [
        "desc = fraud_df.describe(numerical)\n",
        "desc.show()"
      ],
      "execution_count": null,
      "outputs": [
        {
          "output_type": "stream",
          "text": [
            "+-------+-----------------+------------------+-----------------+\n",
            "|summary|          balance|          numTrans|     numIntlTrans|\n",
            "+-------+-----------------+------------------+-----------------+\n",
            "|  count|         10000000|          10000000|         10000000|\n",
            "|   mean|     4109.9199193|        28.9351871|        4.0471899|\n",
            "| stddev|3996.847309737077|26.553781024522852|8.602970115863767|\n",
            "|    min|                0|                 0|                0|\n",
            "|    max|            41485|               100|               60|\n",
            "+-------+-----------------+------------------+-----------------+\n",
            "\n"
          ],
          "name": "stdout"
        }
      ]
    },
    {
      "cell_type": "markdown",
      "metadata": {
        "id": "ai6PRcnuhUal"
      },
      "source": [
        "ここでは、歪度をチェックする方法を紹介します（ここでは、「balance」のみで行います）。"
      ]
    },
    {
      "cell_type": "code",
      "metadata": {
        "colab": {
          "base_uri": "https://localhost:8080/"
        },
        "id": "N0aI7W48hUal",
        "outputId": "08319568-e23b-42b5-bcf1-8186e26c5270"
      },
      "source": [
        "fraud_df.agg({'balance': 'skewness'}).show()"
      ],
      "execution_count": null,
      "outputs": [
        {
          "output_type": "stream",
          "text": [
            "+------------------+\n",
            "| skewness(balance)|\n",
            "+------------------+\n",
            "|1.1818315552995033|\n",
            "+------------------+\n",
            "\n"
          ],
          "name": "stdout"
        }
      ]
    },
    {
      "cell_type": "markdown",
      "metadata": {
        "collapsed": true,
        "id": "h6brqkwPhUal"
      },
      "source": [
        "### Correlations"
      ]
    },
    {
      "cell_type": "markdown",
      "metadata": {
        "collapsed": true,
        "id": "srAWNJ14hUal"
      },
      "source": [
        "データがDataFrame形式であれば、PySparkでの相関関係の計算は非常に簡単です。"
      ]
    },
    {
      "cell_type": "code",
      "metadata": {
        "colab": {
          "base_uri": "https://localhost:8080/"
        },
        "id": "LNQ7MNaNhUal",
        "outputId": "2d7158e0-6189-44df-b85b-fb7b8360d4db"
      },
      "source": [
        "fraud_df.corr('balance', 'numTrans')"
      ],
      "execution_count": null,
      "outputs": [
        {
          "output_type": "execute_result",
          "data": {
            "text/plain": [
              "0.00044523140172659576"
            ]
          },
          "metadata": {
            "tags": []
          },
          "execution_count": 57
        }
      ]
    },
    {
      "cell_type": "markdown",
      "metadata": {
        "id": "9sQDovNPhUal"
      },
      "source": [
        "相関行列を作成するには、以下のスクリプトを使用します。"
      ]
    },
    {
      "cell_type": "code",
      "metadata": {
        "id": "LjidSLZ1hUal"
      },
      "source": [
        "n_numerical = len(numerical)\n",
        "\n",
        "corr = []\n",
        "\n",
        "for i in range(0, n_numerical):\n",
        "    temp = [None] * i\n",
        "    \n",
        "    for j in range(i, n_numerical):\n",
        "        temp.append(fraud_df.corr(numerical[i], numerical[j]))\n",
        "    corr.append(temp)\n",
        "    \n",
        "corr"
      ],
      "execution_count": null,
      "outputs": []
    },
    {
      "cell_type": "markdown",
      "metadata": {
        "collapsed": true,
        "id": "NpxJvRouhUam"
      },
      "source": [
        "### Visualization"
      ]
    },
    {
      "cell_type": "markdown",
      "metadata": {
        "collapsed": true,
        "id": "F18MXDd7hUam"
      },
      "source": [
        "First, let's load the modules and set them up."
      ]
    },
    {
      "cell_type": "code",
      "metadata": {
        "id": "YWvGWxxRhUam"
      },
      "source": [
        "%matplotlib inline\n",
        "import matplotlib.pyplot as plt\n",
        "plt.style.use('ggplot')\n",
        "\n",
        "# import bokeh.charts as chrt\n",
        "# from bokeh.io import output_notebook\n",
        "\n",
        "# output_notebook()"
      ],
      "execution_count": null,
      "outputs": []
    },
    {
      "cell_type": "markdown",
      "metadata": {
        "collapsed": true,
        "id": "7SBAqTMdhUan"
      },
      "source": [
        "### Histograms\n",
        "\n",
        "ワーカーのデータを集計し、カットオフポイントとヒストグラムの各ビンのカウント数を集計したリストをドライバーに返す。"
      ]
    },
    {
      "cell_type": "code",
      "metadata": {
        "id": "2CFyhJ8phUan"
      },
      "source": [
        "hists = fraud_df.select('balance').rdd.flatMap(lambda row: row).histogram(20)"
      ],
      "execution_count": null,
      "outputs": []
    },
    {
      "cell_type": "code",
      "metadata": {
        "colab": {
          "base_uri": "https://localhost:8080/"
        },
        "id": "XvK6U-BtF6vk",
        "outputId": "f73976ab-39ea-4f7a-816f-64488b186dd2"
      },
      "source": [
        "hists"
      ],
      "execution_count": null,
      "outputs": [
        {
          "output_type": "execute_result",
          "data": {
            "text/plain": [
              "([0.0,\n",
              "  2074.25,\n",
              "  4148.5,\n",
              "  6222.75,\n",
              "  8297.0,\n",
              "  10371.25,\n",
              "  12445.5,\n",
              "  14519.75,\n",
              "  16594.0,\n",
              "  18668.25,\n",
              "  20742.5,\n",
              "  22816.75,\n",
              "  24891.0,\n",
              "  26965.25,\n",
              "  29039.5,\n",
              "  31113.75,\n",
              "  33188.0,\n",
              "  35262.25,\n",
              "  37336.5,\n",
              "  39410.75,\n",
              "  41485],\n",
              " [3640021,\n",
              "  2258778,\n",
              "  1718633,\n",
              "  1035019,\n",
              "  601524,\n",
              "  343461,\n",
              "  192766,\n",
              "  104486,\n",
              "  54517,\n",
              "  27570,\n",
              "  13117,\n",
              "  5805,\n",
              "  2650,\n",
              "  1103,\n",
              "  358,\n",
              "  127,\n",
              "  45,\n",
              "  15,\n",
              "  1,\n",
              "  4])"
            ]
          },
          "metadata": {
            "tags": []
          },
          "execution_count": 68
        }
      ]
    },
    {
      "cell_type": "markdown",
      "metadata": {
        "id": "O6MUPyRAhUan"
      },
      "source": [
        "To plot the histogram you can simply call the matplotlib like below."
      ]
    },
    {
      "cell_type": "code",
      "metadata": {
        "colab": {
          "base_uri": "https://localhost:8080/",
          "height": 571
        },
        "id": "71S9dTadhUan",
        "outputId": "0c1d548b-8e3c-4b27-eb75-ece9f827488f"
      },
      "source": [
        "data = {\n",
        "    'bins': hists[0][:-1],\n",
        "    'freq': hists[1]\n",
        "}\n",
        "\n",
        "fig = plt.figure(figsize=(12,9))\n",
        "ax = fig.add_subplot(1, 1, 1)\n",
        "ax.bar(data['bins'], data['freq'], width=2000)\n",
        "ax.set_title('Histogram of \\'balance\\'')\n",
        "\n",
        "# plt.savefig('B05793_05_22.png', dpi=300)"
      ],
      "execution_count": null,
      "outputs": [
        {
          "output_type": "execute_result",
          "data": {
            "text/plain": [
              "Text(0.5, 1.0, \"Histogram of 'balance'\")"
            ]
          },
          "metadata": {
            "tags": []
          },
          "execution_count": 62
        },
        {
          "output_type": "display_data",
          "data": {
            "image/png": "[encoded data removed]",
            "text/plain": [
              "<Figure size 864x648 with 1 Axes>"
            ]
          },
          "metadata": {
            "tags": []
          }
        }
      ]
    },
    {
      "cell_type": "markdown",
      "metadata": {
        "id": "muwxGZBDhUan"
      },
      "source": [
        "In a similar manner, a histogram can be create with Bokeh."
      ]
    },
    {
      "cell_type": "code",
      "metadata": {
        "colab": {
          "base_uri": "https://localhost:8080/",
          "height": 188
        },
        "id": "61vw9NuZhUan",
        "outputId": "01eeb6e9-eada-41bb-b679-2ea7d6bfe471"
      },
      "source": [
        "# b_hist = chrt.Bar(data, values='freq', label='bins', title='Histogram of \\'balance\\'')\n",
        "# chrt.show(b_hist)"
      ],
      "execution_count": null,
      "outputs": [
        {
          "output_type": "error",
          "ename": "AttributeError",
          "evalue": "ignored",
          "traceback": [
            "\u001b[0;31m---------------------------------------------------------------------------\u001b[0m",
            "\u001b[0;31mAttributeError\u001b[0m                            Traceback (most recent call last)",
            "\u001b[0;32m<ipython-input-80-09095c46895e>\u001b[0m in \u001b[0;36m<module>\u001b[0;34m()\u001b[0m\n\u001b[0;32m----> 1\u001b[0;31m \u001b[0mb_hist\u001b[0m \u001b[0;34m=\u001b[0m \u001b[0mchrt\u001b[0m\u001b[0;34m.\u001b[0m\u001b[0mchrt\u001b[0m\u001b[0;34m.\u001b[0m\u001b[0mBar\u001b[0m\u001b[0;34m(\u001b[0m\u001b[0mdata\u001b[0m\u001b[0;34m,\u001b[0m \u001b[0mvalues\u001b[0m\u001b[0;34m=\u001b[0m\u001b[0;34m'freq'\u001b[0m\u001b[0;34m,\u001b[0m \u001b[0mlabel\u001b[0m\u001b[0;34m=\u001b[0m\u001b[0;34m'bins'\u001b[0m\u001b[0;34m,\u001b[0m \u001b[0mtitle\u001b[0m\u001b[0;34m=\u001b[0m\u001b[0;34m'Histogram of \\'balance\\''\u001b[0m\u001b[0;34m)\u001b[0m\u001b[0;34m\u001b[0m\u001b[0;34m\u001b[0m\u001b[0m\n\u001b[0m\u001b[1;32m      2\u001b[0m \u001b[0mchrt\u001b[0m\u001b[0;34m.\u001b[0m\u001b[0mshow\u001b[0m\u001b[0;34m(\u001b[0m\u001b[0mb_hist\u001b[0m\u001b[0;34m)\u001b[0m\u001b[0;34m\u001b[0m\u001b[0;34m\u001b[0m\u001b[0m\n",
            "\u001b[0;31mAttributeError\u001b[0m: module 'bokeh' has no attribute 'chrt'"
          ]
        }
      ]
    },
    {
      "cell_type": "markdown",
      "metadata": {
        "id": "KnARdU4KhUao"
      },
      "source": [
        "データがドライバーに収まるほど小さい場合は（通常は上に示した方法を使った方が早いと思いますが）、データを持ってきて、`.hist(...)` (from Matplotlib)または.`Histogram(...)` (from Bokeh)メソッドを使うことができます。"
      ]
    },
    {
      "cell_type": "code",
      "metadata": {
        "collapsed": true,
        "id": "BzrNee38hUao"
      },
      "source": [
        "data_driver = {'obs': fraud_df.select('balance').rdd.flatMap(lambda row: row).collect()}"
      ],
      "execution_count": null,
      "outputs": []
    },
    {
      "cell_type": "code",
      "metadata": {
        "colab": {
          "base_uri": "https://localhost:8080/",
          "height": 571
        },
        "id": "AKay9XEnhUao",
        "outputId": "88cafaf5-78dc-4fff-c2af-791115b6af11"
      },
      "source": [
        "fig = plt.figure(figsize=(12,9))\n",
        "ax = fig.add_subplot(1, 1, 1)\n",
        "\n",
        "ax.hist(data_driver['obs'], bins=20)\n",
        "ax.set_title('Histogram of \\'balance\\' using .hist()')\n",
        "\n",
        "\n",
        "# plt.savefig('B05793_05_24.png', dpi=300)"
      ],
      "execution_count": null,
      "outputs": [
        {
          "output_type": "execute_result",
          "data": {
            "text/plain": [
              "Text(0.5, 1.0, \"Histogram of 'balance' using .hist()\")"
            ]
          },
          "metadata": {
            "tags": []
          },
          "execution_count": 66
        },
        {
          "output_type": "display_data",
          "data": {
            "image/png": "[encoded data removed]",
            "text/plain": [
              "<Figure size 864x648 with 1 Axes>"
            ]
          },
          "metadata": {
            "tags": []
          }
        }
      ]
    },
    {
      "cell_type": "code",
      "metadata": {
        "id": "8CFymI-PhUao"
      },
      "source": [
        "# b_hist_driver = chrt.Histogram(data_driver, values='obs', title='Histogram of \\'balance\\' using .Histogram()', bins=20)\n",
        "# chrt.show(b_hist_driver)"
      ],
      "execution_count": null,
      "outputs": []
    },
    {
      "cell_type": "markdown",
      "metadata": {
        "id": "2vegaF1yhUao"
      },
      "source": [
        "### Interactions between features"
      ]
    },
    {
      "cell_type": "markdown",
      "metadata": {
        "id": "M29q2vJXhUap"
      },
      "source": [
        "In this example we will sample our fraud dataset at 1% given gender as strata.\n",
        "この例では、性別を層として与えられた1％の不正利用のデータセットをサンプリングします。"
      ]
    },
    {
      "cell_type": "code",
      "metadata": {
        "collapsed": true,
        "id": "9NxNnRjhhUap"
      },
      "source": [
        "data_sample = fraud_df.sampleBy('gender', {1: 0.0002, 2: 0.0002}).select(numerical)"
      ],
      "execution_count": null,
      "outputs": []
    },
    {
      "cell_type": "markdown",
      "metadata": {
        "id": "wAOe0OvvhUap"
      },
      "source": [
        "To put multiple 2D charts in one go you can use"
      ]
    },
    {
      "cell_type": "code",
      "metadata": {
        "id": "MDLScgoFhUap"
      },
      "source": [
        "# # import bokeh.charts as chrt\n",
        "\n",
        "# data_multi = dict([\n",
        "#     (elem, data_sample.select(elem).rdd.flatMap(lambda row: row).collect()) \n",
        "#     for elem in numerical\n",
        "# ])\n",
        "\n",
        "# sctr = chrt.Scatter(data_multi, x='balance', y='numTrans')\n",
        "\n",
        "# chrt.show(sctr)"
      ],
      "execution_count": null,
      "outputs": []
    },
    {
      "cell_type": "code",
      "metadata": {
        "id": "BPx3MjIvGfJk"
      },
      "source": [
        ""
      ],
      "execution_count": null,
      "outputs": []
    }
  ]
}