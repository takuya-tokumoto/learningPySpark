{
  "nbformat": 4,
  "nbformat_minor": 0,
  "metadata": {
    "name": "On-Time Flight Performance (Spark 2.0)",
    "notebookId": 969073022158310,
    "colab": {
      "name": "LearningPySpark_Chapter07.ipynb",
      "provenance": []
    },
    "language_info": {
      "name": "python"
    },
    "kernelspec": {
      "name": "python3",
      "display_name": "Python 3"
    }
  },
  "cells": [
    {
      "cell_type": "markdown",
      "metadata": {
        "id": "wqwKWHuJCHyw"
      },
      "source": [
        "*If you see ![](http://training.databricks.com/databricks_guide/ImportNotebookIcon3.png) at the top-left or top-right, click on the link to import this notebook in order to run it.*"
      ]
    },
    {
      "cell_type": "code",
      "metadata": {
        "id": "gJv8GRZOHP2i"
      },
      "source": [
        "# google colabで再現できず"
      ],
      "execution_count": 33,
      "outputs": []
    },
    {
      "cell_type": "code",
      "metadata": {
        "id": "MaPPXC00CoS8",
        "outputId": "65b8a0d2-ae8b-4d7a-a2d3-7719d3b3967b",
        "colab": {
          "base_uri": "https://localhost:8080/"
        }
      },
      "source": [
        "!apt-get update\n",
        "!apt-get install openjdk-8-jdk-headless -qq > /dev/null\n",
        "!wget -q http://archive.apache.org/dist/spark/spark-2.3.1/spark-2.3.1-bin-hadoop2.7.tgz\n",
        "!tar xf spark-2.3.1-bin-hadoop2.7.tgz\n",
        "!pip install -q findspark\n",
        "\n",
        "import os\n",
        "os.environ[\"JAVA_HOME\"] = \"/usr/lib/jvm/java-8-openjdk-amd64\"\n",
        "os.environ[\"SPARK_HOME\"] = \"/content/spark-2.3.1-bin-hadoop2.7\"\n",
        "\n",
        "import findspark\n",
        "findspark.init()\n",
        "\n",
        "import pyspark\n",
        "\n",
        "# SparkContext\n",
        "from pyspark import SparkConf, SparkContext\n",
        "conf = SparkConf().setMaster(\"local\").setAppName(\"My App\")\n",
        "sc = SparkContext(conf=conf)\n",
        "\n",
        "# SparkSession\n",
        "from pyspark.sql import SparkSession\n",
        "\n",
        "#spark = SparkSession.builder.getOrCreate() \n",
        "spark = SparkSession.builder.appName(\"My App\").getOrCreate()"
      ],
      "execution_count": 5,
      "outputs": [
        {
          "output_type": "stream",
          "text": [
            "\r0% [Working]\r            \rGet:1 http://security.ubuntu.com/ubuntu bionic-security InRelease [88.7 kB]\n",
            "Get:2 https://cloud.r-project.org/bin/linux/ubuntu bionic-cran40/ InRelease [3,626 B]\n",
            "Ign:3 https://developer.download.nvidia.com/compute/cuda/repos/ubuntu1804/x86_64  InRelease\n",
            "Get:4 http://ppa.launchpad.net/c2d4u.team/c2d4u4.0+/ubuntu bionic InRelease [15.9 kB]\n",
            "Hit:5 http://archive.ubuntu.com/ubuntu bionic InRelease\n",
            "Ign:6 https://developer.download.nvidia.com/compute/machine-learning/repos/ubuntu1804/x86_64  InRelease\n",
            "Get:7 https://developer.download.nvidia.com/compute/cuda/repos/ubuntu1804/x86_64  Release [697 B]\n",
            "Hit:8 https://developer.download.nvidia.com/compute/machine-learning/repos/ubuntu1804/x86_64  Release\n",
            "Get:9 https://developer.download.nvidia.com/compute/cuda/repos/ubuntu1804/x86_64  Release.gpg [836 B]\n",
            "Get:10 http://archive.ubuntu.com/ubuntu bionic-updates InRelease [88.7 kB]\n",
            "Hit:11 http://ppa.launchpad.net/cran/libgit2/ubuntu bionic InRelease\n",
            "Get:12 http://security.ubuntu.com/ubuntu bionic-security/universe amd64 Packages [1,421 kB]\n",
            "Get:13 http://security.ubuntu.com/ubuntu bionic-security/restricted amd64 Packages [510 kB]\n",
            "Get:14 http://archive.ubuntu.com/ubuntu bionic-backports InRelease [74.6 kB]\n",
            "Get:15 http://security.ubuntu.com/ubuntu bionic-security/main amd64 Packages [2,263 kB]\n",
            "Get:16 http://ppa.launchpad.net/deadsnakes/ppa/ubuntu bionic InRelease [15.9 kB]\n",
            "Get:17 http://security.ubuntu.com/ubuntu bionic-security/multiverse amd64 Packages [26.7 kB]\n",
            "Get:18 http://ppa.launchpad.net/graphics-drivers/ppa/ubuntu bionic InRelease [21.3 kB]\n",
            "Get:19 https://cloud.r-project.org/bin/linux/ubuntu bionic-cran40/ Packages [66.2 kB]\n",
            "Get:21 http://ppa.launchpad.net/c2d4u.team/c2d4u4.0+/ubuntu bionic/main Sources [1,786 kB]\n",
            "Ign:22 https://developer.download.nvidia.com/compute/cuda/repos/ubuntu1804/x86_64  Packages\n",
            "Get:22 https://developer.download.nvidia.com/compute/cuda/repos/ubuntu1804/x86_64  Packages [695 kB]\n",
            "Get:23 http://ppa.launchpad.net/c2d4u.team/c2d4u4.0+/ubuntu bionic/main amd64 Packages [914 kB]\n",
            "Get:24 http://archive.ubuntu.com/ubuntu bionic-updates/multiverse amd64 Packages [39.4 kB]\n",
            "Get:25 http://archive.ubuntu.com/ubuntu bionic-updates/main amd64 Packages [2,699 kB]\n",
            "Get:26 http://archive.ubuntu.com/ubuntu bionic-updates/universe amd64 Packages [2,196 kB]\n",
            "Get:27 http://archive.ubuntu.com/ubuntu bionic-updates/restricted amd64 Packages [544 kB]\n",
            "Get:28 http://ppa.launchpad.net/deadsnakes/ppa/ubuntu bionic/main amd64 Packages [40.9 kB]\n",
            "Get:29 http://ppa.launchpad.net/graphics-drivers/ppa/ubuntu bionic/main amd64 Packages [44.1 kB]\n",
            "Fetched 13.6 MB in 4s (3,796 kB/s)\n",
            "Reading package lists... Done\n"
          ],
          "name": "stdout"
        }
      ]
    },
    {
      "cell_type": "code",
      "metadata": {
        "id": "-fd_VkoxIQUE",
        "outputId": "2baba3a4-8478-42e2-c042-bc2140c1a594",
        "colab": {
          "base_uri": "https://localhost:8080/"
        }
      },
      "source": [
        "import pyspark\n",
        "print(pyspark.__path__)\n",
        "# ['/usr/local/lib/python3.6/dist-packages/pyspark'] のような形式で返ってくる"
      ],
      "execution_count": 23,
      "outputs": [
        {
          "output_type": "stream",
          "text": [
            "['/content/spark-2.3.1-bin-hadoop2.7/python/pyspark']\n"
          ],
          "name": "stdout"
        }
      ]
    },
    {
      "cell_type": "code",
      "metadata": {
        "id": "kCUcdWEnFVCZ",
        "outputId": "bfa52432-c825-4b57-df38-9c762898cddc",
        "colab": {
          "base_uri": "https://localhost:8080/"
        }
      },
      "source": [
        "! pip install graphframes"
      ],
      "execution_count": 15,
      "outputs": [
        {
          "output_type": "stream",
          "text": [
            "Collecting graphframes\n",
            "  Downloading graphframes-0.6-py2.py3-none-any.whl (18 kB)\n",
            "Requirement already satisfied: numpy in /usr/local/lib/python3.7/dist-packages (from graphframes) (1.19.5)\n",
            "Collecting nose\n",
            "  Downloading nose-1.3.7-py3-none-any.whl (154 kB)\n",
            "\u001b[K     |████████████████████████████████| 154 kB 33.7 MB/s \n",
            "\u001b[?25hInstalling collected packages: nose, graphframes\n",
            "Successfully installed graphframes-0.6 nose-1.3.7\n"
          ],
          "name": "stdout"
        }
      ]
    },
    {
      "cell_type": "code",
      "metadata": {
        "id": "cMhVFokTCs7W",
        "outputId": "1e52eb1f-9bfb-4a48-9154-1599d396d4cc",
        "colab": {
          "base_uri": "https://localhost:8080/"
        }
      },
      "source": [
        "from google.colab import drive\n",
        "drive.mount('/content/drive')"
      ],
      "execution_count": 1,
      "outputs": [
        {
          "output_type": "stream",
          "text": [
            "Mounted at /content/drive\n"
          ],
          "name": "stdout"
        }
      ]
    },
    {
      "cell_type": "markdown",
      "metadata": {
        "id": "mUtcDNBnCHyy"
      },
      "source": [
        "# On-Time Flight Performance with GraphFrames for Apache Spark\n",
        "This notebook provides an analysis of On-Time Flight Performance and Departure Delays data using GraphFrames for Apache Spark.  This notebook has been updated to use Apache Spark 2.0 and GraphFrames 0.3.\n",
        "* Original blog post: [On-Time Flight Performance with GraphFrames with Apache Spark Blog Post](https://databricks.com/blog/2016/03/16/on-time-flight-performance-with-graphframes-for-apache-spark.html)\n",
        "* Original Notebook: [On-Time Flight Performance with GraphFrames with Apache Spark Notebook](http://cdn2.hubspot.net/hubfs/438089/notebooks/Samples/Miscellaneous/On-Time_Flight_Performance.html)\n",
        "\n",
        "\n",
        "Source Data: \n",
        "* [OpenFlights: Airport, airline and route data](http://openflights.org/data.html)\n",
        "* [United States Department of Transportation: Bureau of Transportation Statistics (TranStats)](http://www.transtats.bts.gov/DL_SelectFields.asp?Table_ID=236&DB_Short_Name=On-Time)\n",
        " * Note, the data used here was extracted from the US DOT:BTS between 1/1/2014 and 3/31/2014*\n",
        "\n",
        "References:\n",
        "* [GraphFrames User Guide](http://graphframes.github.io/user-guide.html)\n",
        "* [GraphFrames: DataFrame-based Graphs (GitHub)](https://github.com/graphframes/graphframes)\n",
        "* [D3 Airports Example](http://mbostock.github.io/d3/talk/20111116/airports.html)"
      ]
    },
    {
      "cell_type": "markdown",
      "metadata": {
        "id": "iUqLh9qfCHy0"
      },
      "source": [
        "### Preparation\n",
        "Extract the Airports and Departure Delays information from S3 / DBFS"
      ]
    },
    {
      "cell_type": "code",
      "metadata": {
        "id": "-DmLBbJKCHy0",
        "outputId": "452f2d41-4a37-4b4a-d20d-7a690afb4006",
        "colab": {
          "base_uri": "https://localhost:8080/"
        }
      },
      "source": [
        "# %fs ls /databricks-datasets/flights/"
      ],
      "execution_count": 2,
      "outputs": [
        {
          "output_type": "stream",
          "text": [
            "UsageError: Line magic function `%fs` not found.\n"
          ],
          "name": "stderr"
        }
      ]
    },
    {
      "cell_type": "code",
      "metadata": {
        "id": "qTXukQIrCHy1",
        "outputId": "00f69a4b-29c8-4a26-869e-f6dccc3c3adf",
        "colab": {
          "base_uri": "https://localhost:8080/"
        }
      },
      "source": [
        "# Set File Paths\n",
        "# tripdelaysFilePath = \"/databricks-datasets/flights/departuredelays.csv\"\n",
        "# airportsnaFilePath = \"/databricks-datasets/flights/airport-codes-na.txt\"\n",
        "tripdelaysFilePath = \"/content/drive/MyDrive/Colab Notebooks/data/departuredelays.csv\"\n",
        "airportsnaFilePath = \"/content/drive/MyDrive/Colab Notebooks/data/airport-codes-na.txt\"\n",
        "\n",
        "# Obtain airports dataset\n",
        "airportsna = spark.read.csv(airportsnaFilePath, header='true', inferSchema='true', sep='\\t')\n",
        "airportsna.createOrReplaceTempView(\"airports_na\")\n",
        "\n",
        "# Obtain departure Delays data\n",
        "departureDelays = spark.read.csv(tripdelaysFilePath, header='true')\n",
        "departureDelays.createOrReplaceTempView(\"departureDelays\")\n",
        "departureDelays.cache()\n",
        "\n",
        "# Available IATA codes from the departuredelays sample dataset\n",
        "tripIATA = spark.sql(\"select distinct iata from (select distinct origin as iata from departureDelays union all select distinct destination as iata from departureDelays) a\")\n",
        "tripIATA.createOrReplaceTempView(\"tripIATA\")\n",
        "\n",
        "# Only include airports with atleast one trip from the departureDelays dataset\n",
        "airports = spark.sql(\"select f.IATA, f.City, f.State, f.Country from airports_na f join tripIATA t on t.IATA = f.IATA\")\n",
        "airports.createOrReplaceTempView(\"airports\")\n",
        "airports.cache()"
      ],
      "execution_count": 6,
      "outputs": [
        {
          "output_type": "execute_result",
          "data": {
            "text/plain": [
              "DataFrame[IATA: string, City: string, State: string, Country: string]"
            ]
          },
          "metadata": {
            "tags": []
          },
          "execution_count": 6
        }
      ]
    },
    {
      "cell_type": "code",
      "metadata": {
        "id": "agign8vTCHy2",
        "outputId": "723c945a-9b00-4bee-f962-bf7c36b8771b",
        "colab": {
          "base_uri": "https://localhost:8080/"
        }
      },
      "source": [
        "departureDelays.count()"
      ],
      "execution_count": 7,
      "outputs": [
        {
          "output_type": "execute_result",
          "data": {
            "text/plain": [
              "1391578"
            ]
          },
          "metadata": {
            "tags": []
          },
          "execution_count": 7
        }
      ]
    },
    {
      "cell_type": "code",
      "metadata": {
        "id": "62V7yA6fCHy2",
        "outputId": "b3dd4560-17f8-4e22-fa85-9af296542e51",
        "colab": {
          "base_uri": "https://localhost:8080/"
        }
      },
      "source": [
        "# Build `departureDelays_geo` DataFrame\n",
        "#  Obtain key attributes such as Date of flight, delays, distance, and airport information (Origin, Destination)  \n",
        "departureDelays_geo = spark.sql(\"select cast(f.date as int) as tripid, cast(concat(concat(concat(concat(concat(concat('2014-', concat(concat(substr(cast(f.date as string), 1, 2), '-')), substr(cast(f.date as string), 3, 2)), ' '), substr(cast(f.date as string), 5, 2)), ':'), substr(cast(f.date as string), 7, 2)), ':00') as timestamp) as `localdate`, cast(f.delay as int), cast(f.distance as int), f.origin as src, f.destination as dst, o.city as city_src, d.city as city_dst, o.state as state_src, d.state as state_dst from departuredelays f join airports o on o.iata = f.origin join airports d on d.iata = f.destination\") \n",
        "\n",
        "# Create Temporary View and cache\n",
        "departureDelays_geo.createOrReplaceTempView(\"departureDelays_geo\")\n",
        "departureDelays_geo.cache()\n",
        "\n",
        "# Count\n",
        "departureDelays_geo.count()"
      ],
      "execution_count": 8,
      "outputs": [
        {
          "output_type": "execute_result",
          "data": {
            "text/plain": [
              "1361141"
            ]
          },
          "metadata": {
            "tags": []
          },
          "execution_count": 8
        }
      ]
    },
    {
      "cell_type": "code",
      "metadata": {
        "id": "plp4vUv4CHy4",
        "outputId": "9f750e7e-3520-4e9f-ec5c-8d89d6c56769",
        "colab": {
          "base_uri": "https://localhost:8080/"
        }
      },
      "source": [
        "# Review the top 10 rows of the `departureDelays_geo` DataFrame\n",
        "departureDelays_geo.show(10)"
      ],
      "execution_count": 9,
      "outputs": [
        {
          "output_type": "stream",
          "text": [
            "+-------+-------------------+-----+--------+---+---+-----------+-------------------+---------+---------+\n",
            "| tripid|          localdate|delay|distance|src|dst|   city_src|           city_dst|state_src|state_dst|\n",
            "+-------+-------------------+-----+--------+---+---+-----------+-------------------+---------+---------+\n",
            "|1011111|2014-01-01 11:11:00|   -5|     221|MSP|INL|Minneapolis|International Falls|       MN|       MN|\n",
            "|1021111|2014-01-02 11:11:00|    7|     221|MSP|INL|Minneapolis|International Falls|       MN|       MN|\n",
            "|1031111|2014-01-03 11:11:00|    0|     221|MSP|INL|Minneapolis|International Falls|       MN|       MN|\n",
            "|1041925|2014-01-04 19:25:00|    0|     221|MSP|INL|Minneapolis|International Falls|       MN|       MN|\n",
            "|1061115|2014-01-06 11:15:00|   33|     221|MSP|INL|Minneapolis|International Falls|       MN|       MN|\n",
            "|1071115|2014-01-07 11:15:00|   23|     221|MSP|INL|Minneapolis|International Falls|       MN|       MN|\n",
            "|1081115|2014-01-08 11:15:00|   -9|     221|MSP|INL|Minneapolis|International Falls|       MN|       MN|\n",
            "|1091115|2014-01-09 11:15:00|   11|     221|MSP|INL|Minneapolis|International Falls|       MN|       MN|\n",
            "|1101115|2014-01-10 11:15:00|   -3|     221|MSP|INL|Minneapolis|International Falls|       MN|       MN|\n",
            "|1112015|2014-01-11 20:15:00|   -7|     221|MSP|INL|Minneapolis|International Falls|       MN|       MN|\n",
            "+-------+-------------------+-----+--------+---+---+-----------+-------------------+---------+---------+\n",
            "only showing top 10 rows\n",
            "\n"
          ],
          "name": "stdout"
        }
      ]
    },
    {
      "cell_type": "code",
      "metadata": {
        "id": "_D5I8WwCCHy4",
        "outputId": "e4c0499d-dd4d-4588-d9e6-bf9b4f6d2c32",
        "colab": {
          "base_uri": "https://localhost:8080/",
          "height": 34
        }
      },
      "source": [
        "# Using `display` to view the data\n",
        "display(departureDelays_geo)"
      ],
      "execution_count": 10,
      "outputs": [
        {
          "output_type": "display_data",
          "data": {
            "text/plain": [
              "DataFrame[tripid: int, localdate: timestamp, delay: int, distance: int, src: string, dst: string, city_src: string, city_dst: string, state_src: string, state_dst: string]"
            ]
          },
          "metadata": {
            "tags": []
          }
        }
      ]
    },
    {
      "cell_type": "markdown",
      "metadata": {
        "id": "y4oSU7r_CHy6"
      },
      "source": [
        "## Building the Graph\n",
        "Now that we've imported our data, we're going to need to build our graph. To do so we're going to do two things: we are going to build the structure of the vertices (or nodes) and we're going to build the structure of the edges. What's awesome about GraphFrames is that this process is incredibly simple. \n",
        "* Rename IATA airport code to **id** in the Vertices Table\n",
        "* Start and End airports to **src** and **dst** for the Edges Table (flights)\n",
        "\n",
        "These are required naming conventions for vertices and edges in GraphFrames as of the time of this writing (Feb. 2016)."
      ]
    },
    {
      "cell_type": "markdown",
      "metadata": {
        "id": "UzMbmctGCHy6"
      },
      "source": [
        "**WARNING:** If the graphframes package, required in the cell below, is not installed, follow the instructions [here](http://cdn2.hubspot.net/hubfs/438089/notebooks/help/Setup_graphframes_package.html)."
      ]
    },
    {
      "cell_type": "code",
      "metadata": {
        "id": "uPxlpNr2CHy7",
        "outputId": "63432df9-c191-4362-cd72-87d64d1acbf9",
        "colab": {
          "base_uri": "https://localhost:8080/"
        }
      },
      "source": [
        "# Note, ensure you have already installed the GraphFrames spack-package\n",
        "from pyspark.sql.functions import *\n",
        "from graphframes import *\n",
        "\n",
        "# Create Vertices (airports) and Edges (flights)\n",
        "tripVertices = airports.withColumnRenamed(\"IATA\", \"id\").distinct()\n",
        "tripEdges = departureDelays_geo.select(\"tripid\", \"delay\", \"src\", \"dst\", \"city_dst\", \"state_dst\")\n",
        "\n",
        "# Cache Vertices and Edges\n",
        "tripEdges.cache()\n",
        "tripVertices.cache()"
      ],
      "execution_count": 24,
      "outputs": [
        {
          "output_type": "execute_result",
          "data": {
            "text/plain": [
              "DataFrame[id: string, City: string, State: string, Country: string]"
            ]
          },
          "metadata": {
            "tags": []
          },
          "execution_count": 24
        }
      ]
    },
    {
      "cell_type": "code",
      "metadata": {
        "id": "f8Az63muCHy7",
        "outputId": "a37c5c34-021c-49e0-90c9-c3043e9bccc2",
        "colab": {
          "base_uri": "https://localhost:8080/",
          "height": 34
        }
      },
      "source": [
        "# Vertices\n",
        "#   The vertices of our graph are the airports\n",
        "display(tripVertices)"
      ],
      "execution_count": 25,
      "outputs": [
        {
          "output_type": "display_data",
          "data": {
            "text/plain": [
              "DataFrame[id: string, City: string, State: string, Country: string]"
            ]
          },
          "metadata": {
            "tags": []
          }
        }
      ]
    },
    {
      "cell_type": "code",
      "metadata": {
        "id": "DhA3GvOZCHy8",
        "outputId": "5e7101b1-c397-423c-f764-6a24d2222d55",
        "colab": {
          "base_uri": "https://localhost:8080/",
          "height": 34
        }
      },
      "source": [
        "# Edges\n",
        "#  The edges of our graph are the flights between airports\n",
        "display(tripEdges)"
      ],
      "execution_count": 26,
      "outputs": [
        {
          "output_type": "display_data",
          "data": {
            "text/plain": [
              "DataFrame[tripid: int, delay: int, src: string, dst: string, city_dst: string, state_dst: string]"
            ]
          },
          "metadata": {
            "tags": []
          }
        }
      ]
    },
    {
      "cell_type": "code",
      "metadata": {
        "id": "_ZAD-TKtCHy8",
        "outputId": "7005097a-6ba1-4c2c-f802-48a0b33460eb",
        "colab": {
          "base_uri": "https://localhost:8080/",
          "height": 651
        }
      },
      "source": [
        "\n",
        "\n",
        "# Build `tripGraph` GraphFrame\n",
        "#  This GraphFrame builds up on the vertices and edges based on our trips (flights)\n",
        "tripGraph = GraphFrame(tripVertices, tripEdges)\n",
        "print tripGraph\n",
        "\n",
        "# Build `tripGraphPrime` GraphFrame\n",
        "#   This graphframe contains a smaller subset of data to make it easier to display motifs and subgraphs (below)\n",
        "tripEdgesPrime = departureDelays_geo.select(\"tripid\", \"delay\", \"src\", \"dst\")\n",
        "tripGraphPrime = GraphFrame(tripVertices, tripEdgesPrime)"
      ],
      "execution_count": 29,
      "outputs": [
        {
          "output_type": "error",
          "ename": "Py4JJavaError",
          "evalue": "ignored",
          "traceback": [
            "\u001b[0;31m---------------------------------------------------------------------------\u001b[0m",
            "\u001b[0;31mPy4JJavaError\u001b[0m                             Traceback (most recent call last)",
            "\u001b[0;32m<ipython-input-29-04c24467b763>\u001b[0m in \u001b[0;36m<module>\u001b[0;34m()\u001b[0m\n\u001b[1;32m      1\u001b[0m \u001b[0;31m# Build `tripGraph` GraphFrame\u001b[0m\u001b[0;34m\u001b[0m\u001b[0;34m\u001b[0m\u001b[0;34m\u001b[0m\u001b[0m\n\u001b[1;32m      2\u001b[0m \u001b[0;31m#  This GraphFrame builds up on the vertices and edges based on our trips (flights)\u001b[0m\u001b[0;34m\u001b[0m\u001b[0;34m\u001b[0m\u001b[0;34m\u001b[0m\u001b[0m\n\u001b[0;32m----> 3\u001b[0;31m \u001b[0mtripGraph\u001b[0m \u001b[0;34m=\u001b[0m \u001b[0mGraphFrame\u001b[0m\u001b[0;34m(\u001b[0m\u001b[0mtripVertices\u001b[0m\u001b[0;34m,\u001b[0m \u001b[0mtripEdges\u001b[0m\u001b[0;34m)\u001b[0m\u001b[0;34m\u001b[0m\u001b[0;34m\u001b[0m\u001b[0m\n\u001b[0m\u001b[1;32m      4\u001b[0m \u001b[0;31m# print tripGraph\u001b[0m\u001b[0;34m\u001b[0m\u001b[0;34m\u001b[0m\u001b[0;34m\u001b[0m\u001b[0m\n\u001b[1;32m      5\u001b[0m \u001b[0;34m\u001b[0m\u001b[0m\n",
            "\u001b[0;32m/usr/local/lib/python3.7/dist-packages/graphframes/graphframe.py\u001b[0m in \u001b[0;36m__init__\u001b[0;34m(self, v, e)\u001b[0m\n\u001b[1;32m     63\u001b[0m         \u001b[0mself\u001b[0m\u001b[0;34m.\u001b[0m\u001b[0m_sqlContext\u001b[0m \u001b[0;34m=\u001b[0m \u001b[0mv\u001b[0m\u001b[0;34m.\u001b[0m\u001b[0msql_ctx\u001b[0m\u001b[0;34m\u001b[0m\u001b[0;34m\u001b[0m\u001b[0m\n\u001b[1;32m     64\u001b[0m         \u001b[0mself\u001b[0m\u001b[0;34m.\u001b[0m\u001b[0m_sc\u001b[0m \u001b[0;34m=\u001b[0m \u001b[0mself\u001b[0m\u001b[0;34m.\u001b[0m\u001b[0m_sqlContext\u001b[0m\u001b[0;34m.\u001b[0m\u001b[0m_sc\u001b[0m\u001b[0;34m\u001b[0m\u001b[0;34m\u001b[0m\u001b[0m\n\u001b[0;32m---> 65\u001b[0;31m         \u001b[0mself\u001b[0m\u001b[0;34m.\u001b[0m\u001b[0m_jvm_gf_api\u001b[0m \u001b[0;34m=\u001b[0m \u001b[0m_java_api\u001b[0m\u001b[0;34m(\u001b[0m\u001b[0mself\u001b[0m\u001b[0;34m.\u001b[0m\u001b[0m_sc\u001b[0m\u001b[0;34m)\u001b[0m\u001b[0;34m\u001b[0m\u001b[0;34m\u001b[0m\u001b[0m\n\u001b[0m\u001b[1;32m     66\u001b[0m \u001b[0;34m\u001b[0m\u001b[0m\n\u001b[1;32m     67\u001b[0m         \u001b[0mself\u001b[0m\u001b[0;34m.\u001b[0m\u001b[0mID\u001b[0m \u001b[0;34m=\u001b[0m \u001b[0mself\u001b[0m\u001b[0;34m.\u001b[0m\u001b[0m_jvm_gf_api\u001b[0m\u001b[0;34m.\u001b[0m\u001b[0mID\u001b[0m\u001b[0;34m(\u001b[0m\u001b[0;34m)\u001b[0m\u001b[0;34m\u001b[0m\u001b[0;34m\u001b[0m\u001b[0m\n",
            "\u001b[0;32m/usr/local/lib/python3.7/dist-packages/graphframes/graphframe.py\u001b[0m in \u001b[0;36m_java_api\u001b[0;34m(jsc)\u001b[0m\n\u001b[1;32m     36\u001b[0m \u001b[0;32mdef\u001b[0m \u001b[0m_java_api\u001b[0m\u001b[0;34m(\u001b[0m\u001b[0mjsc\u001b[0m\u001b[0;34m)\u001b[0m\u001b[0;34m:\u001b[0m\u001b[0;34m\u001b[0m\u001b[0;34m\u001b[0m\u001b[0m\n\u001b[1;32m     37\u001b[0m     \u001b[0mjavaClassName\u001b[0m \u001b[0;34m=\u001b[0m \u001b[0;34m\"org.graphframes.GraphFramePythonAPI\"\u001b[0m\u001b[0;34m\u001b[0m\u001b[0;34m\u001b[0m\u001b[0m\n\u001b[0;32m---> 38\u001b[0;31m     \u001b[0;32mreturn\u001b[0m \u001b[0mjsc\u001b[0m\u001b[0;34m.\u001b[0m\u001b[0m_jvm\u001b[0m\u001b[0;34m.\u001b[0m\u001b[0mThread\u001b[0m\u001b[0;34m.\u001b[0m\u001b[0mcurrentThread\u001b[0m\u001b[0;34m(\u001b[0m\u001b[0;34m)\u001b[0m\u001b[0;34m.\u001b[0m\u001b[0mgetContextClassLoader\u001b[0m\u001b[0;34m(\u001b[0m\u001b[0;34m)\u001b[0m\u001b[0;34m.\u001b[0m\u001b[0mloadClass\u001b[0m\u001b[0;34m(\u001b[0m\u001b[0mjavaClassName\u001b[0m\u001b[0;34m)\u001b[0m\u001b[0;31m \u001b[0m\u001b[0;31m\\\u001b[0m\u001b[0;34m\u001b[0m\u001b[0;34m\u001b[0m\u001b[0m\n\u001b[0m\u001b[1;32m     39\u001b[0m             \u001b[0;34m.\u001b[0m\u001b[0mnewInstance\u001b[0m\u001b[0;34m(\u001b[0m\u001b[0;34m)\u001b[0m\u001b[0;34m\u001b[0m\u001b[0;34m\u001b[0m\u001b[0m\n\u001b[1;32m     40\u001b[0m \u001b[0;34m\u001b[0m\u001b[0m\n",
            "\u001b[0;32m/content/spark-2.3.1-bin-hadoop2.7/python/lib/py4j-0.10.7-src.zip/py4j/java_gateway.py\u001b[0m in \u001b[0;36m__call__\u001b[0;34m(self, *args)\u001b[0m\n\u001b[1;32m   1255\u001b[0m         \u001b[0manswer\u001b[0m \u001b[0;34m=\u001b[0m \u001b[0mself\u001b[0m\u001b[0;34m.\u001b[0m\u001b[0mgateway_client\u001b[0m\u001b[0;34m.\u001b[0m\u001b[0msend_command\u001b[0m\u001b[0;34m(\u001b[0m\u001b[0mcommand\u001b[0m\u001b[0;34m)\u001b[0m\u001b[0;34m\u001b[0m\u001b[0;34m\u001b[0m\u001b[0m\n\u001b[1;32m   1256\u001b[0m         return_value = get_return_value(\n\u001b[0;32m-> 1257\u001b[0;31m             answer, self.gateway_client, self.target_id, self.name)\n\u001b[0m\u001b[1;32m   1258\u001b[0m \u001b[0;34m\u001b[0m\u001b[0m\n\u001b[1;32m   1259\u001b[0m         \u001b[0;32mfor\u001b[0m \u001b[0mtemp_arg\u001b[0m \u001b[0;32min\u001b[0m \u001b[0mtemp_args\u001b[0m\u001b[0;34m:\u001b[0m\u001b[0;34m\u001b[0m\u001b[0;34m\u001b[0m\u001b[0m\n",
            "\u001b[0;32m/content/spark-2.3.1-bin-hadoop2.7/python/pyspark/sql/utils.py\u001b[0m in \u001b[0;36mdeco\u001b[0;34m(*a, **kw)\u001b[0m\n\u001b[1;32m     61\u001b[0m     \u001b[0;32mdef\u001b[0m \u001b[0mdeco\u001b[0m\u001b[0;34m(\u001b[0m\u001b[0;34m*\u001b[0m\u001b[0ma\u001b[0m\u001b[0;34m,\u001b[0m \u001b[0;34m**\u001b[0m\u001b[0mkw\u001b[0m\u001b[0;34m)\u001b[0m\u001b[0;34m:\u001b[0m\u001b[0;34m\u001b[0m\u001b[0;34m\u001b[0m\u001b[0m\n\u001b[1;32m     62\u001b[0m         \u001b[0;32mtry\u001b[0m\u001b[0;34m:\u001b[0m\u001b[0;34m\u001b[0m\u001b[0;34m\u001b[0m\u001b[0m\n\u001b[0;32m---> 63\u001b[0;31m             \u001b[0;32mreturn\u001b[0m \u001b[0mf\u001b[0m\u001b[0;34m(\u001b[0m\u001b[0;34m*\u001b[0m\u001b[0ma\u001b[0m\u001b[0;34m,\u001b[0m \u001b[0;34m**\u001b[0m\u001b[0mkw\u001b[0m\u001b[0;34m)\u001b[0m\u001b[0;34m\u001b[0m\u001b[0;34m\u001b[0m\u001b[0m\n\u001b[0m\u001b[1;32m     64\u001b[0m         \u001b[0;32mexcept\u001b[0m \u001b[0mpy4j\u001b[0m\u001b[0;34m.\u001b[0m\u001b[0mprotocol\u001b[0m\u001b[0;34m.\u001b[0m\u001b[0mPy4JJavaError\u001b[0m \u001b[0;32mas\u001b[0m \u001b[0me\u001b[0m\u001b[0;34m:\u001b[0m\u001b[0;34m\u001b[0m\u001b[0;34m\u001b[0m\u001b[0m\n\u001b[1;32m     65\u001b[0m             \u001b[0ms\u001b[0m \u001b[0;34m=\u001b[0m \u001b[0me\u001b[0m\u001b[0;34m.\u001b[0m\u001b[0mjava_exception\u001b[0m\u001b[0;34m.\u001b[0m\u001b[0mtoString\u001b[0m\u001b[0;34m(\u001b[0m\u001b[0;34m)\u001b[0m\u001b[0;34m\u001b[0m\u001b[0;34m\u001b[0m\u001b[0m\n",
            "\u001b[0;32m/content/spark-2.3.1-bin-hadoop2.7/python/lib/py4j-0.10.7-src.zip/py4j/protocol.py\u001b[0m in \u001b[0;36mget_return_value\u001b[0;34m(answer, gateway_client, target_id, name)\u001b[0m\n\u001b[1;32m    326\u001b[0m                 raise Py4JJavaError(\n\u001b[1;32m    327\u001b[0m                     \u001b[0;34m\"An error occurred while calling {0}{1}{2}.\\n\"\u001b[0m\u001b[0;34m.\u001b[0m\u001b[0;34m\u001b[0m\u001b[0;34m\u001b[0m\u001b[0m\n\u001b[0;32m--> 328\u001b[0;31m                     format(target_id, \".\", name), value)\n\u001b[0m\u001b[1;32m    329\u001b[0m             \u001b[0;32melse\u001b[0m\u001b[0;34m:\u001b[0m\u001b[0;34m\u001b[0m\u001b[0;34m\u001b[0m\u001b[0m\n\u001b[1;32m    330\u001b[0m                 raise Py4JError(\n",
            "\u001b[0;31mPy4JJavaError\u001b[0m: An error occurred while calling o153.loadClass.\n: java.lang.ClassNotFoundException: org.graphframes.GraphFramePythonAPI\n\tat java.net.URLClassLoader.findClass(URLClassLoader.java:382)\n\tat java.lang.ClassLoader.loadClass(ClassLoader.java:418)\n\tat java.lang.ClassLoader.loadClass(ClassLoader.java:351)\n\tat sun.reflect.NativeMethodAccessorImpl.invoke0(Native Method)\n\tat sun.reflect.NativeMethodAccessorImpl.invoke(NativeMethodAccessorImpl.java:62)\n\tat sun.reflect.DelegatingMethodAccessorImpl.invoke(DelegatingMethodAccessorImpl.java:43)\n\tat java.lang.reflect.Method.invoke(Method.java:498)\n\tat py4j.reflection.MethodInvoker.invoke(MethodInvoker.java:244)\n\tat py4j.reflection.ReflectionEngine.invoke(ReflectionEngine.java:357)\n\tat py4j.Gateway.invoke(Gateway.java:282)\n\tat py4j.commands.AbstractCommand.invokeMethod(AbstractCommand.java:132)\n\tat py4j.commands.CallCommand.execute(CallCommand.java:79)\n\tat py4j.GatewayConnection.run(GatewayConnection.java:238)\n\tat java.lang.Thread.run(Thread.java:748)\n"
          ]
        }
      ]
    },
    {
      "cell_type": "markdown",
      "metadata": {
        "id": "S4x7pTl1CHy9"
      },
      "source": [
        "## Simple Queries\n",
        "Let's start with a set of simple graph queries to understand flight performance and departure delays"
      ]
    },
    {
      "cell_type": "markdown",
      "metadata": {
        "id": "hfutGRUZCHy9"
      },
      "source": [
        "#### Determine the number of airports and trips"
      ]
    },
    {
      "cell_type": "code",
      "metadata": {
        "id": "-MDzhULTCHy9"
      },
      "source": [
        "print \"Airports: %d\" % tripGraph.vertices.count()\n",
        "print \"Trips: %d\" % tripGraph.edges.count()\n"
      ],
      "execution_count": null,
      "outputs": []
    },
    {
      "cell_type": "markdown",
      "metadata": {
        "id": "I_CYNw0xCHy9"
      },
      "source": [
        "#### Determining the longest delay in this dataset"
      ]
    },
    {
      "cell_type": "code",
      "metadata": {
        "id": "2JmaGyNPCHy9"
      },
      "source": [
        "tripGraph.edges.groupBy().max(\"delay\").show()"
      ],
      "execution_count": null,
      "outputs": []
    },
    {
      "cell_type": "code",
      "metadata": {
        "id": "Wzj6R155CHy-"
      },
      "source": [
        "# Finding the longest Delay\n",
        "longestDelay = tripGraph.edges.groupBy().max(\"delay\")\n",
        "display(longestDelay)"
      ],
      "execution_count": null,
      "outputs": []
    },
    {
      "cell_type": "markdown",
      "metadata": {
        "id": "9zapYC1ECHy_"
      },
      "source": [
        "#### Determining the number of delayed vs. on-time / early flights"
      ]
    },
    {
      "cell_type": "code",
      "metadata": {
        "id": "fExBVX3VCHy_"
      },
      "source": [
        "# Determining number of on-time / early flights vs. delayed flights\n",
        "print \"On-time / Early Flights: %d\" % tripGraph.edges.filter(\"delay <= 0\").count()\n",
        "print \"Delayed Flights: %d\" % tripGraph.edges.filter(\"delay > 0\").count()"
      ],
      "execution_count": null,
      "outputs": []
    },
    {
      "cell_type": "markdown",
      "metadata": {
        "id": "8oSvdDb_CHzA"
      },
      "source": [
        "#### What flights departing SEA are most likely to have significant delays\n",
        "Note, delay can be <= 0 meaning the flight left on time or early"
      ]
    },
    {
      "cell_type": "code",
      "metadata": {
        "id": "9r2VJ8KaCHzA"
      },
      "source": [
        "tripGraph.edges\\\n",
        "  .filter(\"src = 'SEA' and delay > 0\")\\\n",
        "  .groupBy(\"src\", \"dst\")\\\n",
        "  .avg(\"delay\")\\\n",
        "  .sort(desc(\"avg(delay)\"))\\\n",
        "  .show(5)\n",
        "  "
      ],
      "execution_count": null,
      "outputs": []
    },
    {
      "cell_type": "code",
      "metadata": {
        "id": "w-hU_rPFCHzA"
      },
      "source": [
        "display(tripGraph.edges.filter(\"src = 'SEA' and delay > 0\").groupBy(\"src\", \"dst\").avg(\"delay\").sort(desc(\"avg(delay)\")))"
      ],
      "execution_count": null,
      "outputs": []
    },
    {
      "cell_type": "markdown",
      "metadata": {
        "id": "wK1UFTPZCHzA"
      },
      "source": [
        "#### What destinations tend to have delays"
      ]
    },
    {
      "cell_type": "code",
      "metadata": {
        "id": "Cu95J7QFCHzA"
      },
      "source": [
        "# After displaying tripDelays, use Plot Options to set `state_dst` as a Key.\n",
        "tripDelays = tripGraph.edges.filter(\"delay > 0\")\n",
        "display(tripDelays)"
      ],
      "execution_count": null,
      "outputs": []
    },
    {
      "cell_type": "markdown",
      "metadata": {
        "id": "f0ItaJwaCHzB"
      },
      "source": [
        "#### What destinations tend to have significant delays departing from SEA"
      ]
    },
    {
      "cell_type": "code",
      "metadata": {
        "id": "l4kmiO-2CHzB"
      },
      "source": [
        "# States with the longest cumulative delays (with individual delays > 100 minutes) (origin: Seattle)\n",
        "display(tripGraph.edges.filter(\"src = 'SEA' and delay > 100\"))"
      ],
      "execution_count": null,
      "outputs": []
    },
    {
      "cell_type": "markdown",
      "metadata": {
        "id": "w00-S7JQCHzB"
      },
      "source": [
        "## Vertex Degrees\n",
        "* `inDegrees`: Incoming connections to the airport\n",
        "* `outDegrees`: Outgoing connections from the airport \n",
        "* `degrees`: Total connections to and from the airport\n",
        "\n",
        "Reviewing the various properties of the property graph to understand the incoming and outgoing connections between airports."
      ]
    },
    {
      "cell_type": "code",
      "metadata": {
        "id": "b2vcUYkZCHzB"
      },
      "source": [
        "# Degrees\n",
        "#  The number of degrees - the number of incoming and outgoing connections - for various airports within this sample dataset\n",
        "display(tripGraph.degrees.sort(desc(\"degree\")).limit(20))"
      ],
      "execution_count": null,
      "outputs": []
    },
    {
      "cell_type": "code",
      "metadata": {
        "id": "gMiSyvvBCHzC"
      },
      "source": [
        "# inDegrees\n",
        "#  The number of degrees - the number of incoming connections - for various airports within this sample dataset\n",
        "display(tripGraph.inDegrees.sort(desc(\"inDegree\")).limit(20))"
      ],
      "execution_count": null,
      "outputs": []
    },
    {
      "cell_type": "code",
      "metadata": {
        "id": "sSHKixBwCHzC"
      },
      "source": [
        "# outDegrees\n",
        "#  The number of degrees - the number of outgoing connections - for various airports within this sample dataset\n",
        "display(tripGraph.outDegrees.sort(desc(\"outDegree\")).limit(20))"
      ],
      "execution_count": null,
      "outputs": []
    },
    {
      "cell_type": "markdown",
      "metadata": {
        "id": "LFq4KWdtCHzD"
      },
      "source": [
        "## City / Flight Relationships through Motif Finding\n",
        "To more easily understand the complex relationship of city airports and their flights with each other, we can use motifs to find patterns of airports (i.e. vertices) connected by flights (i.e. edges). The result is a DataFrame in which the column names are given by the motif keys."
      ]
    },
    {
      "cell_type": "markdown",
      "metadata": {
        "id": "u0cCuLeaCHzD"
      },
      "source": [
        "#### What delays might we blame on SFO"
      ]
    },
    {
      "cell_type": "code",
      "metadata": {
        "id": "iKlSo6-sCHzD"
      },
      "source": [
        "# Using tripGraphPrime to more easily display \n",
        "#   - The associated edge (ab, bc) relationships \n",
        "#   - With the different the city / airports (a, b, c) where SFO is the connecting city (b)\n",
        "#   - Ensuring that flight ab (i.e. the flight to SFO) occured before flight bc (i.e. flight leaving SFO)\n",
        "#   - Note, TripID was generated based on time in the format of MMDDHHMM converted to int\n",
        "#       - Therefore bc.tripid < ab.tripid + 10000 means the second flight (bc) occured within approx a day of the first flight (ab)\n",
        "# Note: In reality, we would need to be more careful to link trips ab and bc.\n",
        "motifs = tripGraphPrime.find(\"(a)-[ab]->(b); (b)-[bc]->(c)\")\\\n",
        "  .filter(\"(b.id = 'SFO') and (ab.delay > 500 or bc.delay > 500) and bc.tripid > ab.tripid and bc.tripid < ab.tripid + 10000\")\n",
        "display(motifs)"
      ],
      "execution_count": null,
      "outputs": []
    },
    {
      "cell_type": "markdown",
      "metadata": {
        "id": "kcUxEMgsCHzD"
      },
      "source": [
        "## Determining Airport Ranking using PageRank\n",
        "There are a large number of flights and connections through these various airports included in this Departure Delay Dataset.  Using the `pageRank` algorithm, Spark iteratively traverses the graph and determines a rough estimate of how important the airport is."
      ]
    },
    {
      "cell_type": "code",
      "metadata": {
        "id": "sn_y3CXbCHzD"
      },
      "source": [
        "# Determining Airport ranking of importance using `pageRank`\n",
        "ranks = tripGraph.pageRank(resetProbability=0.15, maxIter=5)\n",
        "display(ranks.vertices.orderBy(ranks.vertices.pagerank.desc()).limit(10))"
      ],
      "execution_count": null,
      "outputs": []
    },
    {
      "cell_type": "markdown",
      "metadata": {
        "id": "p49cC2a_CHzE"
      },
      "source": [
        "## Most popular flights (single city hops)\n",
        "Using the `tripGraph`, we can quickly determine what are the most popular single city hop flights"
      ]
    },
    {
      "cell_type": "code",
      "metadata": {
        "id": "PJqKbR8BCHzE"
      },
      "source": [
        "# Determine the most popular flights (single city hops)\n",
        "import pyspark.sql.functions as func\n",
        "topTrips = tripGraph \\\n",
        "  .edges \\\n",
        "  .groupBy(\"src\", \"dst\") \\\n",
        "  .agg(func.count(\"delay\").alias(\"trips\")) "
      ],
      "execution_count": null,
      "outputs": []
    },
    {
      "cell_type": "code",
      "metadata": {
        "id": "wHKmMMnoCHzE"
      },
      "source": [
        "# Show the top 20 most popular flights (single city hops)\n",
        "display(topTrips.orderBy(topTrips.trips.desc()).limit(10))"
      ],
      "execution_count": null,
      "outputs": []
    },
    {
      "cell_type": "markdown",
      "metadata": {
        "id": "Dm2tqEGiCHzE"
      },
      "source": [
        "## Top Transfer Cities\n",
        "Many airports are used as transfer points instead of the final Destination.  An easy way to calculate this is by calculating the ratio of inDegree (the number of flights to the airport) / outDegree (the number of flights leaving the airport).  Values close to 1 may indicate many transfers, whereas values < 1 indicate many outgoing flights and > 1 indicate many incoming flights.  Note, this is a simple calculation that does not take into account of timing or scheduling of flights, just the overall aggregate number within the dataset."
      ]
    },
    {
      "cell_type": "code",
      "metadata": {
        "id": "BoWWn7HTCHzE"
      },
      "source": [
        "# Calculate the inDeg (flights into the airport) and outDeg (flights leaving the airport)\n",
        "inDeg = tripGraph.inDegrees\n",
        "outDeg = tripGraph.outDegrees\n",
        "\n",
        "# Calculate the degreeRatio (inDeg/outDeg)\n",
        "degreeRatio = inDeg.join(outDeg, inDeg.id == outDeg.id) \\\n",
        "  .drop(outDeg.id) \\\n",
        "  .selectExpr(\"id\", \"double(inDegree)/double(outDegree) as degreeRatio\") \\\n",
        "  .cache()\n",
        "\n",
        "# Join back to the `airports` DataFrame (instead of registering temp table as above)\n",
        "nonTransferAirports = degreeRatio.join(airports, degreeRatio.id == airports.IATA) \\\n",
        "  .selectExpr(\"id\", \"city\", \"degreeRatio\") \\\n",
        "  .filter(\"degreeRatio < .9 or degreeRatio > 1.1\")\n",
        "\n",
        "# List out the city airports which have abnormal degree ratios.\n",
        "display(nonTransferAirports)"
      ],
      "execution_count": null,
      "outputs": []
    },
    {
      "cell_type": "code",
      "metadata": {
        "id": "J_U2F7IXCHzE"
      },
      "source": [
        "# Join back to the `airports` DataFrame (instead of registering temp table as above)\n",
        "transferAirports = degreeRatio.join(airports, degreeRatio.id == airports.IATA) \\\n",
        "  .selectExpr(\"id\", \"city\", \"degreeRatio\") \\\n",
        "  .filter(\"degreeRatio between 0.9 and 1.1\")\n",
        "  \n",
        "# List out the top 10 transfer city airports\n",
        "display(transferAirports.orderBy(\"degreeRatio\").limit(10))"
      ],
      "execution_count": null,
      "outputs": []
    },
    {
      "cell_type": "markdown",
      "metadata": {
        "id": "s5wc-yPeCHzF"
      },
      "source": [
        "## Breadth First Search \n",
        "Breadth-first search (BFS) is designed to traverse the graph to quickly find the desired vertices (i.e. airports) and edges (i.e flights).  Let's try to find the shortest number of connections between cities based on the dataset.  Note, these examples do not take into account of time or distance, just hops between cities."
      ]
    },
    {
      "cell_type": "code",
      "metadata": {
        "id": "pzAZmpI8CHzF"
      },
      "source": [
        "# Example 1: Direct Seattle to San Francisco \n",
        "filteredPaths = tripGraph.bfs(\n",
        "  fromExpr = \"id = 'SEA'\",\n",
        "  toExpr = \"id = 'SFO'\",\n",
        "  maxPathLength = 1)\n",
        "display(filteredPaths)"
      ],
      "execution_count": null,
      "outputs": []
    },
    {
      "cell_type": "markdown",
      "metadata": {
        "id": "nZ_ir2TiCHzF"
      },
      "source": [
        "As you can see, there are a number of direct flights between Seattle and San Francisco."
      ]
    },
    {
      "cell_type": "code",
      "metadata": {
        "id": "6gVcGsHKCHzF"
      },
      "source": [
        "# Example 2: Direct San Francisco and Buffalo\n",
        "filteredPaths = tripGraph.bfs(\n",
        "  fromExpr = \"id = 'SFO'\",\n",
        "  toExpr = \"id = 'BUF'\",\n",
        "  maxPathLength = 1)\n",
        "display(filteredPaths)"
      ],
      "execution_count": null,
      "outputs": []
    },
    {
      "cell_type": "markdown",
      "metadata": {
        "id": "zIVYdzvGCHzF"
      },
      "source": [
        "But there are no direct flights between San Francisco and Buffalo."
      ]
    },
    {
      "cell_type": "code",
      "metadata": {
        "id": "xkzFYWZTCHzF"
      },
      "source": [
        "# Example 2a: Flying from San Francisco to Buffalo\n",
        "filteredPaths = tripGraph.bfs(\n",
        "  fromExpr = \"id = 'SFO'\",\n",
        "  toExpr = \"id = 'BUF'\",\n",
        "  maxPathLength = 2)\n",
        "display(filteredPaths)"
      ],
      "execution_count": null,
      "outputs": []
    },
    {
      "cell_type": "markdown",
      "metadata": {
        "id": "KtVReDUtCHzF"
      },
      "source": [
        "But there are flights from San Francisco to Buffalo with Minneapolis as the transfer point.  But what are the most popular layovers between `SFO` and `BUF`?"
      ]
    },
    {
      "cell_type": "code",
      "metadata": {
        "id": "JslF1SecCHzF"
      },
      "source": [
        "# Display most popular layover cities by descending count\n",
        "display(filteredPaths.groupBy(\"v1.id\", \"v1.City\").count().orderBy(desc(\"count\")).limit(10))"
      ],
      "execution_count": null,
      "outputs": []
    },
    {
      "cell_type": "markdown",
      "metadata": {
        "id": "ZjjXxAXeCHzG"
      },
      "source": [
        "## Loading the D3 Visualization\n",
        "Using the airports D3 visualization to visualize airports and flight paths"
      ]
    },
    {
      "cell_type": "code",
      "metadata": {
        "id": "liuiC-AOCHzG"
      },
      "source": [
        "%scala\n",
        "package d3a\n",
        "// We use a package object so that we can define top level classes like Edge that need to be used in other cells\n",
        "\n",
        "import org.apache.spark.sql._\n",
        "import com.databricks.backend.daemon.driver.EnhancedRDDFunctions.displayHTML\n",
        "\n",
        "case class Edge(src: String, dest: String, count: Long)\n",
        "\n",
        "case class Node(name: String)\n",
        "case class Link(source: Int, target: Int, value: Long)\n",
        "case class Graph(nodes: Seq[Node], links: Seq[Link])\n",
        "\n",
        "object graphs {\n",
        "val sqlContext = SQLContext.getOrCreate(org.apache.spark.SparkContext.getOrCreate())\n",
        "import sqlContext.implicits._\n",
        "\n",
        "def force(clicks: Dataset[Edge], height: Int = 100, width: Int = 960): Unit = {\n",
        "  val data = clicks.collect()\n",
        "  val nodes = (data.map(_.src) ++ data.map(_.dest)).map(_.replaceAll(\"_\", \" \")).toSet.toSeq.map(Node)\n",
        "  val links = data.map { t =>\n",
        "    Link(nodes.indexWhere(_.name == t.src.replaceAll(\"_\", \" \")), nodes.indexWhere(_.name == t.dest.replaceAll(\"_\", \" \")), t.count / 20 + 1)\n",
        "  }\n",
        "  showGraph(height, width, Seq(Graph(nodes, links)).toDF().toJSON.first())\n",
        "}\n",
        "\n",
        "/**\n",
        " * Displays a force directed graph using d3\n",
        " * input: {\"nodes\": [{\"name\": \"...\"}], \"links\": [{\"source\": 1, \"target\": 2, \"value\": 0}]}\n",
        " */\n",
        "def showGraph(height: Int, width: Int, graph: String): Unit = {\n",
        "\n",
        "displayHTML(s\"\"\"<!DOCTYPE html>\n",
        "<html>\n",
        "  <head>\n",
        "    <link type=\"text/css\" rel=\"stylesheet\" href=\"https://mbostock.github.io/d3/talk/20111116/style.css\"/>\n",
        "    <style type=\"text/css\">\n",
        "      #states path {\n",
        "        fill: #ccc;\n",
        "        stroke: #fff;\n",
        "      }\n",
        "\n",
        "      path.arc {\n",
        "        pointer-events: none;\n",
        "        fill: none;\n",
        "        stroke: #000;\n",
        "        display: none;\n",
        "      }\n",
        "\n",
        "      path.cell {\n",
        "        fill: none;\n",
        "        pointer-events: all;\n",
        "      }\n",
        "\n",
        "      circle {\n",
        "        fill: steelblue;\n",
        "        fill-opacity: .8;\n",
        "        stroke: #fff;\n",
        "      }\n",
        "\n",
        "      #cells.voronoi path.cell {\n",
        "        stroke: brown;\n",
        "      }\n",
        "\n",
        "      #cells g:hover path.arc {\n",
        "        display: inherit;\n",
        "      }\n",
        "    </style>\n",
        "  </head>\n",
        "  <body>\n",
        "    <script src=\"https://mbostock.github.io/d3/talk/20111116/d3/d3.js\"></script>\n",
        "    <script src=\"https://mbostock.github.io/d3/talk/20111116/d3/d3.csv.js\"></script>\n",
        "    <script src=\"https://mbostock.github.io/d3/talk/20111116/d3/d3.geo.js\"></script>\n",
        "    <script src=\"https://mbostock.github.io/d3/talk/20111116/d3/d3.geom.js\"></script>\n",
        "    <script>\n",
        "      var graph = $graph;\n",
        "      var w = $width;\n",
        "      var h = $height;\n",
        "\n",
        "      var linksByOrigin = {};\n",
        "      var countByAirport = {};\n",
        "      var locationByAirport = {};\n",
        "      var positions = [];\n",
        "\n",
        "      var projection = d3.geo.azimuthal()\n",
        "          .mode(\"equidistant\")\n",
        "          .origin([-98, 38])\n",
        "          .scale(1400)\n",
        "          .translate([640, 360]);\n",
        "\n",
        "      var path = d3.geo.path()\n",
        "          .projection(projection);\n",
        "\n",
        "      var svg = d3.select(\"body\")\n",
        "          .insert(\"svg:svg\", \"h2\")\n",
        "          .attr(\"width\", w)\n",
        "          .attr(\"height\", h);\n",
        "\n",
        "      var states = svg.append(\"svg:g\")\n",
        "          .attr(\"id\", \"states\");\n",
        "\n",
        "      var circles = svg.append(\"svg:g\")\n",
        "          .attr(\"id\", \"circles\");\n",
        "\n",
        "      var cells = svg.append(\"svg:g\")\n",
        "          .attr(\"id\", \"cells\");\n",
        "\n",
        "      var arc = d3.geo.greatArc()\n",
        "          .source(function(d) { return locationByAirport[d.source]; })\n",
        "          .target(function(d) { return locationByAirport[d.target]; });\n",
        "\n",
        "      d3.select(\"input[type=checkbox]\").on(\"change\", function() {\n",
        "        cells.classed(\"voronoi\", this.checked);\n",
        "      });\n",
        "\n",
        "      // Draw US map.\n",
        "      d3.json(\"https://mbostock.github.io/d3/talk/20111116/us-states.json\", function(collection) {\n",
        "        states.selectAll(\"path\")\n",
        "          .data(collection.features)\n",
        "          .enter().append(\"svg:path\")\n",
        "          .attr(\"d\", path);\n",
        "      });\n",
        "\n",
        "      // Parse links\n",
        "      graph.links.forEach(function(link) {\n",
        "        var origin = graph.nodes[link.source].name;\n",
        "        var destination = graph.nodes[link.target].name;\n",
        "\n",
        "        var links = linksByOrigin[origin] || (linksByOrigin[origin] = []);\n",
        "        links.push({ source: origin, target: destination });\n",
        "\n",
        "        countByAirport[origin] = (countByAirport[origin] || 0) + 1;\n",
        "        countByAirport[destination] = (countByAirport[destination] || 0) + 1;\n",
        "      });\n",
        "\n",
        "      d3.csv(\"https://mbostock.github.io/d3/talk/20111116/airports.csv\", function(data) {\n",
        "\n",
        "        // Build list of airports.\n",
        "        var airports = graph.nodes.map(function(node) {\n",
        "          return data.find(function(airport) {\n",
        "            if (airport.iata === node.name) {\n",
        "              var location = [+airport.longitude, +airport.latitude];\n",
        "              locationByAirport[airport.iata] = location;\n",
        "              positions.push(projection(location));\n",
        "\n",
        "              return true;\n",
        "            } else {\n",
        "              return false;\n",
        "            }\n",
        "          });\n",
        "        });\n",
        "\n",
        "        // Compute the Voronoi diagram of airports' projected positions.\n",
        "        var polygons = d3.geom.voronoi(positions);\n",
        "\n",
        "        var g = cells.selectAll(\"g\")\n",
        "            .data(airports)\n",
        "          .enter().append(\"svg:g\");\n",
        "\n",
        "        g.append(\"svg:path\")\n",
        "            .attr(\"class\", \"cell\")\n",
        "            .attr(\"d\", function(d, i) { return \"M\" + polygons[i].join(\"L\") + \"Z\"; })\n",
        "            .on(\"mouseover\", function(d, i) { d3.select(\"h2 span\").text(d.name); });\n",
        "\n",
        "        g.selectAll(\"path.arc\")\n",
        "            .data(function(d) { return linksByOrigin[d.iata] || []; })\n",
        "          .enter().append(\"svg:path\")\n",
        "            .attr(\"class\", \"arc\")\n",
        "            .attr(\"d\", function(d) { return path(arc(d)); });\n",
        "\n",
        "        circles.selectAll(\"circle\")\n",
        "            .data(airports)\n",
        "            .enter().append(\"svg:circle\")\n",
        "            .attr(\"cx\", function(d, i) { return positions[i][0]; })\n",
        "            .attr(\"cy\", function(d, i) { return positions[i][1]; })\n",
        "            .attr(\"r\", function(d, i) { return Math.sqrt(countByAirport[d.iata]); })\n",
        "            .sort(function(a, b) { return countByAirport[b.iata] - countByAirport[a.iata]; });\n",
        "      });\n",
        "    </script>\n",
        "  </body>\n",
        "</html>\"\"\")\n",
        "  }\n",
        "\n",
        "  def help() = {\n",
        "displayHTML(\"\"\"\n",
        "<p>\n",
        "Produces a force-directed graph given a collection of edges of the following form:</br>\n",
        "<tt><font color=\"#a71d5d\">case class</font> <font color=\"#795da3\">Edge</font>(<font color=\"#ed6a43\">src</font>: <font color=\"#a71d5d\">String</font>, <font color=\"#ed6a43\">dest</font>: <font color=\"#a71d5d\">String</font>, <font color=\"#ed6a43\">count</font>: <font color=\"#a71d5d\">Long</font>)</tt>\n",
        "</p>\n",
        "<p>Usage:<br/>\n",
        "<tt>%scala</tt></br>\n",
        "<tt><font color=\"#a71d5d\">import</font> <font color=\"#ed6a43\">d3._</font></tt><br/>\n",
        "<tt><font color=\"#795da3\">graphs.force</font>(</br>\n",
        "&nbsp;&nbsp;<font color=\"#ed6a43\">height</font> = <font color=\"#795da3\">500</font>,<br/>\n",
        "&nbsp;&nbsp;<font color=\"#ed6a43\">width</font> = <font color=\"#795da3\">500</font>,<br/>\n",
        "&nbsp;&nbsp;<font color=\"#ed6a43\">clicks</font>: <font color=\"#795da3\">Dataset</font>[<font color=\"#795da3\">Edge</font>])</tt>\n",
        "</p>\"\"\")\n",
        "  }\n",
        "}"
      ],
      "execution_count": null,
      "outputs": []
    },
    {
      "cell_type": "code",
      "metadata": {
        "id": "z5WJEBi_CHzG"
      },
      "source": [
        "%scala d3a.graphs.help()"
      ],
      "execution_count": null,
      "outputs": []
    },
    {
      "cell_type": "markdown",
      "metadata": {
        "id": "6As-kLO6CHzG"
      },
      "source": [
        "#### Visualize On-time and Early Arrivals"
      ]
    },
    {
      "cell_type": "code",
      "metadata": {
        "id": "cyCwybuWCHzG",
        "outputId": "de316995-c545-495d-b839-32ebe0107b8b",
        "colab": {
          "base_uri": "https://localhost:8080/",
          "height": 136
        }
      },
      "source": [
        "%scala\n",
        "// On-time and Early Arrivals\n",
        "import d3a._\n",
        "graphs.force(\n",
        "  height = 800,\n",
        "  width = 1200,\n",
        "  clicks = sql(\"\"\"select src, dst as dest, count(1) as count from departureDelays_geo where delay <= 0 group by src, dst\"\"\").as[Edge])"
      ],
      "execution_count": 30,
      "outputs": [
        {
          "output_type": "error",
          "ename": "SyntaxError",
          "evalue": "ignored",
          "traceback": [
            "\u001b[0;36m  File \u001b[0;32m\"<ipython-input-30-84244024fe46>\"\u001b[0;36m, line \u001b[0;32m2\u001b[0m\n\u001b[0;31m    (/, On-time, and, Early, Arrivals)\u001b[0m\n\u001b[0m     ^\u001b[0m\n\u001b[0;31mSyntaxError\u001b[0m\u001b[0;31m:\u001b[0m invalid syntax\n"
          ]
        }
      ]
    },
    {
      "cell_type": "markdown",
      "metadata": {
        "id": "OfAX_mmaCHzH"
      },
      "source": [
        "#### Visualize Delayed Trips Departing from the West Coast\n",
        "\n",
        "Notice that most of the delayed trips are with Western US cities"
      ]
    },
    {
      "cell_type": "code",
      "metadata": {
        "id": "OlVl04spCHzH",
        "outputId": "00589a9b-dfb7-4dec-9d02-c8f13d850b4e",
        "colab": {
          "base_uri": "https://localhost:8080/",
          "height": 136
        }
      },
      "source": [
        "%scala\n",
        "// Delayed Trips from CA, OR, and/or WA\n",
        "import d3a._\n",
        "graphs.force(\n",
        "  height = 800,\n",
        "  width = 1200,\n",
        "  clicks = sql(\"\"\"select src, dst as dest, count(1) as count from departureDelays_geo where state_src in ('CA', 'OR', 'WA') and delay > 0 group by src, dst\"\"\").as[Edge])"
      ],
      "execution_count": 31,
      "outputs": [
        {
          "output_type": "error",
          "ename": "SyntaxError",
          "evalue": "ignored",
          "traceback": [
            "\u001b[0;36m  File \u001b[0;32m\"<ipython-input-31-4bbabbb68b82>\"\u001b[0;36m, line \u001b[0;32m2\u001b[0m\n\u001b[0;31m    (/, Delayed, Trips, from, CA,, OR,, and/or, WA)\u001b[0m\n\u001b[0m     ^\u001b[0m\n\u001b[0;31mSyntaxError\u001b[0m\u001b[0;31m:\u001b[0m invalid syntax\n"
          ]
        }
      ]
    },
    {
      "cell_type": "markdown",
      "metadata": {
        "id": "Qkkz_fDuCHzH"
      },
      "source": [
        "#### Visualize All Flights (from this dataset)"
      ]
    },
    {
      "cell_type": "code",
      "metadata": {
        "id": "ec3GMWFdCHzH"
      },
      "source": [
        "%scala\n",
        "// Trips (from DepartureDelays Dataset)\n",
        "import d3a._\n",
        "graphs.force(\n",
        "  height = 800,\n",
        "  width = 1200,\n",
        "  clicks = sql(\"\"\"select src, dst as dest, count(1) as count from departureDelays_geo group by src, dst\"\"\").as[Edge])"
      ],
      "execution_count": null,
      "outputs": []
    }
  ]
}