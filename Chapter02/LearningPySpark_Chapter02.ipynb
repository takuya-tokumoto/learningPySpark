{
  "nbformat": 4,
  "nbformat_minor": 0,
  "metadata": {
    "kernelspec": {
      "display_name": "Python 3",
      "language": "python",
      "name": "python3"
    },
    "language_info": {
      "codemirror_mode": {
        "name": "ipython",
        "version": 3
      },
      "file_extension": ".py",
      "mimetype": "text/x-python",
      "name": "python",
      "nbconvert_exporter": "python",
      "pygments_lexer": "ipython3",
      "version": "3.5.2"
    },
    "colab": {
      "name": "LearningPySpark_Chapter02.ipynb",
      "provenance": []
    }
  },
  "cells": [
    {
      "cell_type": "code",
      "metadata": {
        "id": "cf85OMCAwHaK"
      },
      "source": [
        "!apt-get update\n",
        "!apt-get install openjdk-8-jdk-headless -qq > /dev/null\n",
        "!wget -q http://archive.apache.org/dist/spark/spark-2.3.1/spark-2.3.1-bin-hadoop2.7.tgz\n",
        "!tar xf spark-2.3.1-bin-hadoop2.7.tgz\n",
        "!pip install -q findspark\n",
        "\n",
        "import os\n",
        "os.environ[\"JAVA_HOME\"] = \"/usr/lib/jvm/java-8-openjdk-amd64\"\n",
        "os.environ[\"SPARK_HOME\"] = \"/content/spark-2.3.1-bin-hadoop2.7\"\n",
        "\n",
        "import findspark\n",
        "findspark.init()\n",
        "\n",
        "import pyspark\n",
        "\n",
        "# SparkContext\n",
        "from pyspark import SparkConf, SparkContext\n",
        "conf = SparkConf().setMaster(\"local\").setAppName(\"My App\")\n",
        "sc = SparkContext(conf=conf)\n",
        "\n",
        "# SparkSession\n",
        "from pyspark.sql import SparkSession\n",
        "\n",
        "#spark = SparkSession.builder.getOrCreate() \n",
        "spark = SparkSession.builder.appName(\"My App\").getOrCreate()"
      ],
      "execution_count": null,
      "outputs": []
    },
    {
      "cell_type": "markdown",
      "metadata": {
        "id": "EhT13hdmwFxF"
      },
      "source": [
        "# Chapter 3 - Learning PySpark\n",
        "## Resilient Distributed Datasets"
      ]
    },
    {
      "cell_type": "markdown",
      "metadata": {
        "id": "eK-Gw1cowFxI"
      },
      "source": [
        "### Creating RDDs"
      ]
    },
    {
      "cell_type": "markdown",
      "metadata": {
        "id": "nR2co5RGwFxI"
      },
      "source": [
        "There are two ways to create an RDD in PySpark. You can parallelize a list"
      ]
    },
    {
      "cell_type": "code",
      "metadata": {
        "collapsed": true,
        "id": "34nfZgAewFxJ"
      },
      "source": [
        "data = sc.parallelize(\n",
        "    [('Amber', 22), ('Alfred', 23), ('Skye',4), ('Albert', 12), \n",
        "     ('Amber', 9)])"
      ],
      "execution_count": null,
      "outputs": []
    },
    {
      "cell_type": "markdown",
      "metadata": {
        "id": "c5xtrN3iwFxL"
      },
      "source": [
        "or read from a repository (a file or a database)"
      ]
    },
    {
      "cell_type": "code",
      "metadata": {
        "collapsed": true,
        "id": "n3G1jG1jwFxL"
      },
      "source": [
        "data_from_file = sc.\\\n",
        "    textFile(\n",
        "        '/Users/drabast/Documents/PySpark_Data/VS14MORT.txt.gz', \n",
        "        4)"
      ],
      "execution_count": null,
      "outputs": []
    },
    {
      "cell_type": "markdown",
      "metadata": {
        "id": "1COkhgc9wFxM"
      },
      "source": [
        "Note, that to execute the code above you will have to change the path where the data is stored. The dataset can be downloaded from http://tomdrabas.com/data/VS14MORT.txt.gz"
      ]
    },
    {
      "cell_type": "markdown",
      "metadata": {
        "id": "X50lcJahwFxO"
      },
      "source": [
        "#### Schema"
      ]
    },
    {
      "cell_type": "markdown",
      "metadata": {
        "id": "HBp-YVmCwFxP"
      },
      "source": [
        "RDDs are *schema-less* data structures."
      ]
    },
    {
      "cell_type": "code",
      "metadata": {
        "id": "z3hfSHJjwFxQ",
        "outputId": "2e1f715a-379d-4c7c-f4dc-add7e1fb57a1"
      },
      "source": [
        "data_heterogenous = sc.parallelize([('Ferrari', 'fast'), {'Porsche': 100000}, ['Spain','visited', 4504]]).collect()\n",
        "data_heterogenous"
      ],
      "execution_count": null,
      "outputs": [
        {
          "output_type": "execute_result",
          "data": {
            "text/plain": [
              "[('Ferrari', 'fast'), {'Porsche': 100000}, ['Spain', 'visited', 4504]]"
            ]
          },
          "metadata": {
            "tags": []
          },
          "execution_count": 3
        }
      ]
    },
    {
      "cell_type": "markdown",
      "metadata": {
        "id": "BEXYhKIpwFxR"
      },
      "source": [
        "You can access the data in the object as you would normally do in Python."
      ]
    },
    {
      "cell_type": "code",
      "metadata": {
        "id": "_BhvwpEqwFxR",
        "outputId": "a45e9f2e-7199-4c47-e231-8c3ad510db7b"
      },
      "source": [
        "data_heterogenous[1]['Porsche']"
      ],
      "execution_count": null,
      "outputs": [
        {
          "output_type": "execute_result",
          "data": {
            "text/plain": [
              "100000"
            ]
          },
          "metadata": {
            "tags": []
          },
          "execution_count": 4
        }
      ]
    },
    {
      "cell_type": "markdown",
      "metadata": {
        "id": "-9v_pnrMwFxS"
      },
      "source": [
        "#### Reading from files"
      ]
    },
    {
      "cell_type": "markdown",
      "metadata": {
        "id": "rJ0LvKC1wFxT"
      },
      "source": [
        "When you read from a text file, each row from the file forms an element of an RDD."
      ]
    },
    {
      "cell_type": "code",
      "metadata": {
        "id": "XUKy9dmAwFxT",
        "outputId": "5ed65245-d7fc-4c9e-f236-15adf5d287bc"
      },
      "source": [
        "data_from_file.take(1)"
      ],
      "execution_count": null,
      "outputs": [
        {
          "output_type": "execute_result",
          "data": {
            "text/plain": [
              "['                   1                                          2101  M1087 432311  4M4                2014U7CN                                    I64 238 070   24 0111I64                                                                                                                                                                           01 I64                                                                                                  01  11                                 100 601']"
            ]
          },
          "metadata": {
            "tags": []
          },
          "execution_count": 5
        }
      ]
    },
    {
      "cell_type": "markdown",
      "metadata": {
        "id": "h4Z9ApbOwFxU"
      },
      "source": [
        "#### User defined functions"
      ]
    },
    {
      "cell_type": "markdown",
      "metadata": {
        "id": "Q9v-qrfgwFxV"
      },
      "source": [
        "You can create *longer* method to transform your data instead of using the `lambda` expression."
      ]
    },
    {
      "cell_type": "code",
      "metadata": {
        "id": "MfVbYCbTwFxV"
      },
      "source": [
        "def extractInformation(row):\n",
        "    import re\n",
        "    import numpy as np\n",
        "\n",
        "    selected_indices = [\n",
        "         2,4,5,6,7,9,10,11,12,13,14,15,16,17,18,\n",
        "         19,21,22,23,24,25,27,28,29,30,32,33,34,\n",
        "         36,37,38,39,40,41,42,43,44,45,46,47,48,\n",
        "         49,50,51,52,53,54,55,56,58,60,61,62,63,\n",
        "         64,65,66,67,68,69,70,71,72,73,74,75,76,\n",
        "         77,78,79,81,82,83,84,85,87,89\n",
        "    ]\n",
        "\n",
        "    '''\n",
        "        Input record schema\n",
        "        schema: n-m (o) -- xxx\n",
        "            n - position from\n",
        "            m - position to\n",
        "            o - number of characters\n",
        "            xxx - description\n",
        "        1. 1-19 (19) -- reserved positions\n",
        "        2. 20 (1) -- resident status\n",
        "        3. 21-60 (40) -- reserved positions\n",
        "        4. 61-62 (2) -- education code (1989 revision)\n",
        "        5. 63 (1) -- education code (2003 revision)\n",
        "        6. 64 (1) -- education reporting flag\n",
        "        7. 65-66 (2) -- month of death\n",
        "        8. 67-68 (2) -- reserved positions\n",
        "        9. 69 (1) -- sex\n",
        "        10. 70 (1) -- age: 1-years, 2-months, 4-days, 5-hours, 6-minutes, 9-not stated\n",
        "        11. 71-73 (3) -- number of units (years, months etc)\n",
        "        12. 74 (1) -- age substitution flag (if the age reported in positions 70-74 is calculated using dates of birth and death)\n",
        "        13. 75-76 (2) -- age recoded into 52 categories\n",
        "        14. 77-78 (2) -- age recoded into 27 categories\n",
        "        15. 79-80 (2) -- age recoded into 12 categories\n",
        "        16. 81-82 (2) -- infant age recoded into 22 categories\n",
        "        17. 83 (1) -- place of death\n",
        "        18. 84 (1) -- marital status\n",
        "        19. 85 (1) -- day of the week of death\n",
        "        20. 86-101 (16) -- reserved positions\n",
        "        21. 102-105 (4) -- current year\n",
        "        22. 106 (1) -- injury at work\n",
        "        23. 107 (1) -- manner of death\n",
        "        24. 108 (1) -- manner of disposition\n",
        "        25. 109 (1) -- autopsy\n",
        "        26. 110-143 (34) -- reserved positions\n",
        "        27. 144 (1) -- activity code\n",
        "        28. 145 (1) -- place of injury\n",
        "        29. 146-149 (4) -- ICD code\n",
        "        30. 150-152 (3) -- 358 cause recode\n",
        "        31. 153 (1) -- reserved position\n",
        "        32. 154-156 (3) -- 113 cause recode\n",
        "        33. 157-159 (3) -- 130 infant cause recode\n",
        "        34. 160-161 (2) -- 39 cause recode\n",
        "        35. 162 (1) -- reserved position\n",
        "        36. 163-164 (2) -- number of entity-axis conditions\n",
        "        37-56. 165-304 (140) -- list of up to 20 conditions\n",
        "        57. 305-340 (36) -- reserved positions\n",
        "        58. 341-342 (2) -- number of record axis conditions\n",
        "        59. 343 (1) -- reserved position\n",
        "        60-79. 344-443 (100) -- record axis conditions\n",
        "        80. 444 (1) -- reserve position\n",
        "        81. 445-446 (2) -- race\n",
        "        82. 447 (1) -- bridged race flag\n",
        "        83. 448 (1) -- race imputation flag\n",
        "        84. 449 (1) -- race recode (3 categories)\n",
        "        85. 450 (1) -- race recode (5 categories)\n",
        "        86. 461-483 (33) -- reserved positions\n",
        "        87. 484-486 (3) -- Hispanic origin\n",
        "        88. 487 (1) -- reserved\n",
        "        89. 488 (1) -- Hispanic origin/race recode\n",
        "     '''\n",
        "\n",
        "    record_split = re\\\n",
        "        .compile(\n",
        "            r'([\\s]{19})([0-9]{1})([\\s]{40})([0-9\\s]{2})([0-9\\s]{1})([0-9]{1})([0-9]{2})' + \n",
        "            r'([\\s]{2})([FM]{1})([0-9]{1})([0-9]{3})([0-9\\s]{1})([0-9]{2})([0-9]{2})' + \n",
        "            r'([0-9]{2})([0-9\\s]{2})([0-9]{1})([SMWDU]{1})([0-9]{1})([\\s]{16})([0-9]{4})' +\n",
        "            r'([YNU]{1})([0-9\\s]{1})([BCOU]{1})([YNU]{1})([\\s]{34})([0-9\\s]{1})([0-9\\s]{1})' +\n",
        "            r'([A-Z0-9\\s]{4})([0-9]{3})([\\s]{1})([0-9\\s]{3})([0-9\\s]{3})([0-9\\s]{2})([\\s]{1})' + \n",
        "            r'([0-9\\s]{2})([A-Z0-9\\s]{7})([A-Z0-9\\s]{7})([A-Z0-9\\s]{7})([A-Z0-9\\s]{7})' + \n",
        "            r'([A-Z0-9\\s]{7})([A-Z0-9\\s]{7})([A-Z0-9\\s]{7})([A-Z0-9\\s]{7})([A-Z0-9\\s]{7})' + \n",
        "            r'([A-Z0-9\\s]{7})([A-Z0-9\\s]{7})([A-Z0-9\\s]{7})([A-Z0-9\\s]{7})([A-Z0-9\\s]{7})' + \n",
        "            r'([A-Z0-9\\s]{7})([A-Z0-9\\s]{7})([A-Z0-9\\s]{7})([A-Z0-9\\s]{7})([A-Z0-9\\s]{7})' + \n",
        "            r'([A-Z0-9\\s]{7})([\\s]{36})([A-Z0-9\\s]{2})([\\s]{1})([A-Z0-9\\s]{5})([A-Z0-9\\s]{5})' + \n",
        "            r'([A-Z0-9\\s]{5})([A-Z0-9\\s]{5})([A-Z0-9\\s]{5})([A-Z0-9\\s]{5})([A-Z0-9\\s]{5})' + \n",
        "            r'([A-Z0-9\\s]{5})([A-Z0-9\\s]{5})([A-Z0-9\\s]{5})([A-Z0-9\\s]{5})([A-Z0-9\\s]{5})' + \n",
        "            r'([A-Z0-9\\s]{5})([A-Z0-9\\s]{5})([A-Z0-9\\s]{5})([A-Z0-9\\s]{5})([A-Z0-9\\s]{5})' + \n",
        "            r'([A-Z0-9\\s]{5})([A-Z0-9\\s]{5})([A-Z0-9\\s]{5})([\\s]{1})([0-9\\s]{2})([0-9\\s]{1})' + \n",
        "            r'([0-9\\s]{1})([0-9\\s]{1})([0-9\\s]{1})([\\s]{33})([0-9\\s]{3})([0-9\\s]{1})([0-9\\s]{1})')\n",
        "    try:\n",
        "        rs = np.array(record_split.split(row))[selected_indices]\n",
        "    except:\n",
        "        rs = np.array(['-99'] * len(selected_indices))\n",
        "    return rs\n",
        "#     return record_split.split(row)"
      ],
      "execution_count": null,
      "outputs": []
    },
    {
      "cell_type": "markdown",
      "metadata": {
        "id": "Ntj-m-zWwFxY"
      },
      "source": [
        "Now, instead of using `lambda` we will use the `extractInformation(...)` method to split and convert our dataset."
      ]
    },
    {
      "cell_type": "code",
      "metadata": {
        "id": "fx2pyC6CwFxa",
        "outputId": "9a04c66e-02ac-4dc4-e84d-f9abbc90bacb"
      },
      "source": [
        "data_from_file_conv = data_from_file.map(extractInformation)\n",
        "data_from_file_conv.map(lambda row: row).take(1)"
      ],
      "execution_count": null,
      "outputs": [
        {
          "output_type": "execute_result",
          "data": {
            "text/plain": [
              "[array(['1', '  ', '2', '1', '01', 'M', '1', '087', ' ', '43', '23', '11',\n",
              "        '  ', '4', 'M', '4', '2014', 'U', '7', 'C', 'N', ' ', ' ', 'I64 ',\n",
              "        '238', '070', '   ', '24', '01', '11I64  ', '       ', '       ',\n",
              "        '       ', '       ', '       ', '       ', '       ', '       ',\n",
              "        '       ', '       ', '       ', '       ', '       ', '       ',\n",
              "        '       ', '       ', '       ', '       ', '       ', '01',\n",
              "        'I64  ', '     ', '     ', '     ', '     ', '     ', '     ',\n",
              "        '     ', '     ', '     ', '     ', '     ', '     ', '     ',\n",
              "        '     ', '     ', '     ', '     ', '     ', '     ', '01', ' ',\n",
              "        ' ', '1', '1', '100', '6'], \n",
              "       dtype='<U40')]"
            ]
          },
          "metadata": {
            "tags": []
          },
          "execution_count": 7
        }
      ]
    },
    {
      "cell_type": "markdown",
      "metadata": {
        "id": "BTgEEZmFwFxa"
      },
      "source": [
        "### Transformations"
      ]
    },
    {
      "cell_type": "markdown",
      "metadata": {
        "id": "Mtwi5GMBwFxa"
      },
      "source": [
        "#### .map(...)"
      ]
    },
    {
      "cell_type": "markdown",
      "metadata": {
        "id": "dkqYwv2XwFxa"
      },
      "source": [
        "The method is applied to each element of the RDD: in the case for the `data_from_file_conv` dataset you can think of this as a transformation of each row."
      ]
    },
    {
      "cell_type": "code",
      "metadata": {
        "id": "QaGbFIEGwFxb",
        "outputId": "50298e8e-b802-4f84-a9c8-f969d60922a1"
      },
      "source": [
        "data_2014 = data_from_file_conv.map(lambda row: int(row[16]))\n",
        "data_2014.take(10)"
      ],
      "execution_count": null,
      "outputs": [
        {
          "output_type": "execute_result",
          "data": {
            "text/plain": [
              "[2014, 2014, 2014, 2014, 2014, 2014, 2014, 2014, 2014, -99]"
            ]
          },
          "metadata": {
            "tags": []
          },
          "execution_count": 8
        }
      ]
    },
    {
      "cell_type": "markdown",
      "metadata": {
        "id": "KdogLHmywFxb"
      },
      "source": [
        "You can combine more columns."
      ]
    },
    {
      "cell_type": "code",
      "metadata": {
        "id": "RahDfHwcwFxb",
        "outputId": "d5540aae-4dc6-4b0f-86b0-83a71a3ffedd"
      },
      "source": [
        "data_2014_2 = data_from_file_conv.map(lambda row: (row[16], int(row[16])))\n",
        "data_2014_2.take(10)"
      ],
      "execution_count": null,
      "outputs": [
        {
          "output_type": "execute_result",
          "data": {
            "text/plain": [
              "[('2014', 2014),\n",
              " ('2014', 2014),\n",
              " ('2014', 2014),\n",
              " ('2014', 2014),\n",
              " ('2014', 2014),\n",
              " ('2014', 2014),\n",
              " ('2014', 2014),\n",
              " ('2014', 2014),\n",
              " ('2014', 2014),\n",
              " ('-99', -99)]"
            ]
          },
          "metadata": {
            "tags": []
          },
          "execution_count": 9
        }
      ]
    },
    {
      "cell_type": "markdown",
      "metadata": {
        "id": "w452r5pYwFxb"
      },
      "source": [
        "#### .filter(...)"
      ]
    },
    {
      "cell_type": "markdown",
      "metadata": {
        "id": "nt4StZ86wFxb"
      },
      "source": [
        "The `.filter(...)` method allows you to select elements of your dataset that fit specified criteria."
      ]
    },
    {
      "cell_type": "code",
      "metadata": {
        "id": "rB4OdAN4wFxc",
        "outputId": "e86637e7-7ae4-47cd-e3a9-dc4ccbae44a0"
      },
      "source": [
        "data_filtered = data_from_file_conv.filter(lambda row: row[5] == 'F' and row[21] == '0')\n",
        "data_filtered.count()"
      ],
      "execution_count": null,
      "outputs": [
        {
          "output_type": "execute_result",
          "data": {
            "text/plain": [
              "6"
            ]
          },
          "metadata": {
            "tags": []
          },
          "execution_count": 10
        }
      ]
    },
    {
      "cell_type": "markdown",
      "metadata": {
        "id": "eB1BsrQowFxc"
      },
      "source": [
        "#### .flatMap(...)"
      ]
    },
    {
      "cell_type": "markdown",
      "metadata": {
        "id": "I9y8o4rcwFxc"
      },
      "source": [
        "The `.flatMap(...)` method works similarly to `.map(...)` but returns a flattened results instead of a list. "
      ]
    },
    {
      "cell_type": "code",
      "metadata": {
        "id": "yCfMqUDkwFxc",
        "outputId": "5d3b8ea3-e817-4e0a-8048-8581a68487f0"
      },
      "source": [
        "data_2014_flat = data_from_file_conv.flatMap(lambda row: (row[16], int(row[16]) + 1))\n",
        "data_2014_flat.take(10)"
      ],
      "execution_count": null,
      "outputs": [
        {
          "output_type": "execute_result",
          "data": {
            "text/plain": [
              "['2014', 2015, '2014', 2015, '2014', 2015, '2014', 2015, '2014', 2015]"
            ]
          },
          "metadata": {
            "tags": []
          },
          "execution_count": 11
        }
      ]
    },
    {
      "cell_type": "markdown",
      "metadata": {
        "id": "RrpOZPR3wFxc"
      },
      "source": [
        "#### .distinct()"
      ]
    },
    {
      "cell_type": "markdown",
      "metadata": {
        "id": "_TlPlW7qwFxd"
      },
      "source": [
        "This method returns a list of distinct values in a specified column."
      ]
    },
    {
      "cell_type": "code",
      "metadata": {
        "id": "CO3hHJlIwFxd",
        "outputId": "3e10d8b9-654f-4a0e-8df2-a492b42c658b"
      },
      "source": [
        "distinct_gender = data_from_file_conv.map(lambda row: row[5]).distinct().collect()\n",
        "distinct_gender"
      ],
      "execution_count": null,
      "outputs": [
        {
          "output_type": "execute_result",
          "data": {
            "text/plain": [
              "['-99', 'M', 'F']"
            ]
          },
          "metadata": {
            "tags": []
          },
          "execution_count": 12
        }
      ]
    },
    {
      "cell_type": "markdown",
      "metadata": {
        "id": "jcpipm4ewFxd"
      },
      "source": [
        "#### .sample(...)"
      ]
    },
    {
      "cell_type": "markdown",
      "metadata": {
        "id": "6f3_xLtZwFxd"
      },
      "source": [
        "The `.sample()` method returns a randomized sample from the dataset."
      ]
    },
    {
      "cell_type": "code",
      "metadata": {
        "id": "IpZL8S3-wFxd",
        "outputId": "2f5733cc-67ce-4fe7-9864-5d122173a104"
      },
      "source": [
        "fraction = 0.1\n",
        "data_sample = data_from_file_conv.sample(False, fraction, 666)\n",
        "\n",
        "data_sample.take(1)"
      ],
      "execution_count": null,
      "outputs": [
        {
          "output_type": "execute_result",
          "data": {
            "text/plain": [
              "[array(['1', '  ', '5', '1', '01', 'F', '1', '082', ' ', '42', '22', '10',\n",
              "        '  ', '4', 'W', '5', '2014', 'U', '7', 'C', 'N', ' ', ' ', 'I251',\n",
              "        '215', '063', '   ', '21', '02', '11I350 ', '21I251 ', '       ',\n",
              "        '       ', '       ', '       ', '       ', '       ', '       ',\n",
              "        '       ', '       ', '       ', '       ', '       ', '       ',\n",
              "        '       ', '       ', '       ', '       ', '       ', '02',\n",
              "        'I251 ', 'I350 ', '     ', '     ', '     ', '     ', '     ',\n",
              "        '     ', '     ', '     ', '     ', '     ', '     ', '     ',\n",
              "        '     ', '     ', '     ', '     ', '     ', '     ', '28', ' ',\n",
              "        ' ', '2', '4', '100', '8'], \n",
              "       dtype='<U40')]"
            ]
          },
          "metadata": {
            "tags": []
          },
          "execution_count": 13
        }
      ]
    },
    {
      "cell_type": "markdown",
      "metadata": {
        "id": "JY5aVPKFwFxe"
      },
      "source": [
        "Let's confirm that we really got 10% of all the records."
      ]
    },
    {
      "cell_type": "code",
      "metadata": {
        "id": "fKvlV-RqwFxe",
        "outputId": "fa5383f8-14bc-4f60-cb80-b6579b65b470"
      },
      "source": [
        "print('Original dataset: {0}, sample: {1}'.format(data_from_file_conv.count(), data_sample.count()))"
      ],
      "execution_count": null,
      "outputs": [
        {
          "output_type": "stream",
          "text": [
            "Original dataset: 2631171, sample: 263247\n"
          ],
          "name": "stdout"
        }
      ]
    },
    {
      "cell_type": "markdown",
      "metadata": {
        "id": "K0g4dWE8wFxe"
      },
      "source": [
        "#### .leftOuterJoin(...)"
      ]
    },
    {
      "cell_type": "markdown",
      "metadata": {
        "id": "OoQlvxmhwFxe"
      },
      "source": [
        "Left outer join, just like the SQL world, joins two RDDs based on the values found in both datasets, and returns records from the left RDD with records from the right one appended where the two RDDs match."
      ]
    },
    {
      "cell_type": "code",
      "metadata": {
        "id": "Q9zjbrZwwFxe",
        "outputId": "9a88a99a-c0de-4473-cbb0-10671ce105a2"
      },
      "source": [
        "rdd1 = sc.parallelize([('a', 1), ('b', 4), ('c',10)])\n",
        "rdd2 = sc.parallelize([('a', 4), ('a', 1), ('b', '6'), ('d', 15)])\n",
        "\n",
        "rdd3 = rdd1.leftOuterJoin(rdd2)\n",
        "rdd3.take(5)"
      ],
      "execution_count": null,
      "outputs": [
        {
          "output_type": "execute_result",
          "data": {
            "text/plain": [
              "[('c', (10, None)), ('b', (4, '6')), ('a', (1, 4)), ('a', (1, 1))]"
            ]
          },
          "metadata": {
            "tags": []
          },
          "execution_count": 15
        }
      ]
    },
    {
      "cell_type": "markdown",
      "metadata": {
        "id": "jm6xhIowwFxe"
      },
      "source": [
        "If we used `.join(...)` method instead we would have gotten only the values for `'a'` and `'b'` as these two values intersect between these two RDDs."
      ]
    },
    {
      "cell_type": "code",
      "metadata": {
        "id": "bJoc0b7twFxe",
        "outputId": "466835a1-1d44-4367-dcfa-bbbd1d050903"
      },
      "source": [
        "rdd4 = rdd1.join(rdd2)\n",
        "rdd4.collect()"
      ],
      "execution_count": null,
      "outputs": [
        {
          "output_type": "execute_result",
          "data": {
            "text/plain": [
              "[('b', (4, '6')), ('a', (1, 4)), ('a', (1, 1))]"
            ]
          },
          "metadata": {
            "tags": []
          },
          "execution_count": 16
        }
      ]
    },
    {
      "cell_type": "markdown",
      "metadata": {
        "id": "oqLVuSpawFxf"
      },
      "source": [
        "Another useful method is the `.intersection(...)` that returns the records that are *equal* in both RDDs."
      ]
    },
    {
      "cell_type": "code",
      "metadata": {
        "id": "fY2Szt8IwFxf",
        "outputId": "427ae3d7-a0a4-43f4-fb3a-0a9362c6f97d"
      },
      "source": [
        "rdd5 = rdd1.intersection(rdd2)\n",
        "rdd5.collect()"
      ],
      "execution_count": null,
      "outputs": [
        {
          "output_type": "execute_result",
          "data": {
            "text/plain": [
              "[('a', 1)]"
            ]
          },
          "metadata": {
            "tags": []
          },
          "execution_count": 17
        }
      ]
    },
    {
      "cell_type": "markdown",
      "metadata": {
        "id": "zqBPxmitwFxf"
      },
      "source": [
        "#### .repartition(...)"
      ]
    },
    {
      "cell_type": "markdown",
      "metadata": {
        "id": "1lSxQ6_jwFxf"
      },
      "source": [
        "Repartitioning the dataset changes the number of partitions the dataset is divided into."
      ]
    },
    {
      "cell_type": "code",
      "metadata": {
        "id": "lH121LFcwFxf",
        "outputId": "0543362d-d82b-4cf2-e288-1f2e15daa687"
      },
      "source": [
        "rdd1 = rdd1.repartition(4)\n",
        "\n",
        "len(rdd1.glom().collect())"
      ],
      "execution_count": null,
      "outputs": [
        {
          "output_type": "execute_result",
          "data": {
            "text/plain": [
              "4"
            ]
          },
          "metadata": {
            "tags": []
          },
          "execution_count": 18
        }
      ]
    },
    {
      "cell_type": "markdown",
      "metadata": {
        "id": "dJ4DnETNwFxf"
      },
      "source": [
        "### Actions"
      ]
    },
    {
      "cell_type": "markdown",
      "metadata": {
        "id": "sdPPusIVwFxf"
      },
      "source": [
        "#### .take(...)"
      ]
    },
    {
      "cell_type": "markdown",
      "metadata": {
        "id": "d29ONez4wFxf"
      },
      "source": [
        "The method returns `n` top rows from a single data partition."
      ]
    },
    {
      "cell_type": "code",
      "metadata": {
        "id": "_nLu_aRnwFxf",
        "outputId": "506f435d-1c9d-4a75-b11b-73cac4cef1e1"
      },
      "source": [
        "data_first = data_from_file_conv.take(1)\n",
        "data_first"
      ],
      "execution_count": null,
      "outputs": [
        {
          "output_type": "execute_result",
          "data": {
            "text/plain": [
              "[array(['1', '  ', '2', '1', '01', 'M', '1', '087', ' ', '43', '23', '11',\n",
              "        '  ', '4', 'M', '4', '2014', 'U', '7', 'C', 'N', ' ', ' ', 'I64 ',\n",
              "        '238', '070', '   ', '24', '01', '11I64  ', '       ', '       ',\n",
              "        '       ', '       ', '       ', '       ', '       ', '       ',\n",
              "        '       ', '       ', '       ', '       ', '       ', '       ',\n",
              "        '       ', '       ', '       ', '       ', '       ', '01',\n",
              "        'I64  ', '     ', '     ', '     ', '     ', '     ', '     ',\n",
              "        '     ', '     ', '     ', '     ', '     ', '     ', '     ',\n",
              "        '     ', '     ', '     ', '     ', '     ', '     ', '01', ' ',\n",
              "        ' ', '1', '1', '100', '6'], \n",
              "       dtype='<U40')]"
            ]
          },
          "metadata": {
            "tags": []
          },
          "execution_count": 19
        }
      ]
    },
    {
      "cell_type": "markdown",
      "metadata": {
        "id": "_t9zC2tGwFxg"
      },
      "source": [
        "If you want somewhat randomized records you can use `.takeSample(...)` instead."
      ]
    },
    {
      "cell_type": "code",
      "metadata": {
        "id": "-bVn8-SwwFxg",
        "outputId": "ddc9dbf3-025b-4d68-e793-39820fa23668"
      },
      "source": [
        "data_take_sampled = data_from_file_conv.takeSample(False, 1, 667)\n",
        "data_take_sampled"
      ],
      "execution_count": null,
      "outputs": [
        {
          "output_type": "execute_result",
          "data": {
            "text/plain": [
              "[array(['2', '17', ' ', '0', '08', 'M', '1', '069', ' ', '39', '19', '09',\n",
              "        '  ', '1', 'M', '7', '2014', 'U', '7', 'U', 'N', ' ', ' ', 'I251',\n",
              "        '215', '063', '   ', '21', '06', '11I500 ', '21I251 ', '61I499 ',\n",
              "        '62I10  ', '63N189 ', '64K761 ', '       ', '       ', '       ',\n",
              "        '       ', '       ', '       ', '       ', '       ', '       ',\n",
              "        '       ', '       ', '       ', '       ', '       ', '05',\n",
              "        'I251 ', 'I120 ', 'I499 ', 'I500 ', 'K761 ', '     ', '     ',\n",
              "        '     ', '     ', '     ', '     ', '     ', '     ', '     ',\n",
              "        '     ', '     ', '     ', '     ', '     ', '     ', '01', ' ',\n",
              "        ' ', '1', '1', '100', '6'], \n",
              "       dtype='<U40')]"
            ]
          },
          "metadata": {
            "tags": []
          },
          "execution_count": 20
        }
      ]
    },
    {
      "cell_type": "markdown",
      "metadata": {
        "id": "56l7uNr4wFxg"
      },
      "source": [
        "#### .reduce(...)"
      ]
    },
    {
      "cell_type": "markdown",
      "metadata": {
        "id": "4wRqZc-DwFxg"
      },
      "source": [
        "Another action that processes your data, the `.reduce(...)` method *reduces* the elements of an RDD using a specified method."
      ]
    },
    {
      "cell_type": "code",
      "metadata": {
        "id": "1ZFHuvU4wFxg",
        "outputId": "54fb2054-b0de-4a32-f7d0-d109dc71afe7"
      },
      "source": [
        "rdd1.map(lambda row: row[1]).reduce(lambda x, y: x + y)"
      ],
      "execution_count": null,
      "outputs": [
        {
          "output_type": "execute_result",
          "data": {
            "text/plain": [
              "15"
            ]
          },
          "metadata": {
            "tags": []
          },
          "execution_count": 21
        }
      ]
    },
    {
      "cell_type": "markdown",
      "metadata": {
        "id": "6QiqpkbfwFxg"
      },
      "source": [
        "If the reducing function is not associative and commutative you will sometimes get wrong results depending how your data is partitioned."
      ]
    },
    {
      "cell_type": "code",
      "metadata": {
        "id": "0LKTRbH4wFxg"
      },
      "source": [
        "data_reduce = sc.parallelize([1, 2, .5, .1, 5, .2], 1)"
      ],
      "execution_count": null,
      "outputs": []
    },
    {
      "cell_type": "markdown",
      "metadata": {
        "id": "acOdaKJTwFxh"
      },
      "source": [
        "I we were to reduce the data in a manner that we would like to *divide* the current result by the subsequent one, we would expect a value of 10"
      ]
    },
    {
      "cell_type": "code",
      "metadata": {
        "id": "jOSTXMYMwFxh",
        "outputId": "e1dd8bb0-c870-4301-d8db-2c121299bc31"
      },
      "source": [
        "works = data_reduce.reduce(lambda x, y: x / y)\n",
        "works"
      ],
      "execution_count": null,
      "outputs": [
        {
          "output_type": "execute_result",
          "data": {
            "text/plain": [
              "10.0"
            ]
          },
          "metadata": {
            "tags": []
          },
          "execution_count": 23
        }
      ]
    },
    {
      "cell_type": "markdown",
      "metadata": {
        "id": "nZcyd5DywFxh"
      },
      "source": [
        "However, if you were to partition the data into 3 partitions, the result will be wrong."
      ]
    },
    {
      "cell_type": "code",
      "metadata": {
        "id": "VWCuq7G2wFxh",
        "outputId": "e4cd586f-0571-4dbb-8f14-9edabc8d46ad"
      },
      "source": [
        "data_reduce = sc.parallelize([1, 2, .5, .1, 5, .2], 3)\n",
        "data_reduce.reduce(lambda x, y: x / y)"
      ],
      "execution_count": null,
      "outputs": [
        {
          "output_type": "execute_result",
          "data": {
            "text/plain": [
              "0.004"
            ]
          },
          "metadata": {
            "tags": []
          },
          "execution_count": 24
        }
      ]
    },
    {
      "cell_type": "markdown",
      "metadata": {
        "id": "AqLn6JzswFxh"
      },
      "source": [
        "The `.reduceByKey(...)` method works in a similar way to the `.reduce(...)` method but performs a reduction on a key-by-key basis."
      ]
    },
    {
      "cell_type": "code",
      "metadata": {
        "id": "DlsmFc8KwFxh",
        "outputId": "b436f441-4e08-49f9-8a34-c6595253664b"
      },
      "source": [
        "data_key = sc.parallelize([('a', 4),('b', 3),('c', 2),('a', 8),('d', 2),('b', 1),('d', 3)],4)\n",
        "data_key.reduceByKey(lambda x, y: x + y).collect()"
      ],
      "execution_count": null,
      "outputs": [
        {
          "output_type": "execute_result",
          "data": {
            "text/plain": [
              "[('b', 4), ('c', 2), ('a', 12), ('d', 5)]"
            ]
          },
          "metadata": {
            "tags": []
          },
          "execution_count": 22
        }
      ]
    },
    {
      "cell_type": "markdown",
      "metadata": {
        "id": "CUzl-r0XwFxh"
      },
      "source": [
        "#### .count()"
      ]
    },
    {
      "cell_type": "markdown",
      "metadata": {
        "id": "gwP4TP2ewFxh"
      },
      "source": [
        "The `.count()` method counts the number of elements in the RDD."
      ]
    },
    {
      "cell_type": "code",
      "metadata": {
        "id": "LVe-wB03wFxi",
        "outputId": "d2452600-66db-42f9-d4a0-cd4b50f0c748"
      },
      "source": [
        "data_reduce.count()"
      ],
      "execution_count": null,
      "outputs": [
        {
          "output_type": "execute_result",
          "data": {
            "text/plain": [
              "6"
            ]
          },
          "metadata": {
            "tags": []
          },
          "execution_count": 26
        }
      ]
    },
    {
      "cell_type": "markdown",
      "metadata": {
        "id": "PoNFqQ6IwFxi"
      },
      "source": [
        "It has the same effect as the method below but does not require shifting the data to the driver."
      ]
    },
    {
      "cell_type": "code",
      "metadata": {
        "id": "BrFdksVXwFxi",
        "outputId": "521ea799-2bd1-40a9-9ec5-5669f7ad4820"
      },
      "source": [
        "len(data_reduce.collect()) # WRONG -- DON'T DO THIS!"
      ],
      "execution_count": null,
      "outputs": [
        {
          "output_type": "execute_result",
          "data": {
            "text/plain": [
              "6"
            ]
          },
          "metadata": {
            "tags": []
          },
          "execution_count": 27
        }
      ]
    },
    {
      "cell_type": "markdown",
      "metadata": {
        "id": "s2zrljOWwFxi"
      },
      "source": [
        "If your dataset is in a form of a *key-value* you can use the `.countByKey()` method to get the counts of distinct keys."
      ]
    },
    {
      "cell_type": "code",
      "metadata": {
        "id": "6KrA756EwFxi",
        "outputId": "7ad15372-7d8b-4020-f0e7-31b1c6903f2f"
      },
      "source": [
        "data_key.countByKey().items()"
      ],
      "execution_count": null,
      "outputs": [
        {
          "output_type": "execute_result",
          "data": {
            "text/plain": [
              "dict_items([('a', 2), ('b', 2), ('d', 2), ('c', 1)])"
            ]
          },
          "metadata": {
            "tags": []
          },
          "execution_count": 28
        }
      ]
    },
    {
      "cell_type": "markdown",
      "metadata": {
        "id": "6RRKKI-PwFxi"
      },
      "source": [
        "#### .saveAsTextFile(...)"
      ]
    },
    {
      "cell_type": "markdown",
      "metadata": {
        "id": "SW_Iv4TjwFxi"
      },
      "source": [
        "As the name suggests, the `.saveAsTextFile()` the RDD and saves it to text files: each partition to a separate file."
      ]
    },
    {
      "cell_type": "code",
      "metadata": {
        "id": "ihXyHXgDwFxi"
      },
      "source": [
        "data_key.saveAsTextFile('/Users/drabast/Documents/PySpark_Data/data_key.txt')"
      ],
      "execution_count": null,
      "outputs": []
    },
    {
      "cell_type": "markdown",
      "metadata": {
        "id": "P-EoxsoEwFxi"
      },
      "source": [
        "To read it back, you need to parse it back as, as before, all the rows are treated as strings."
      ]
    },
    {
      "cell_type": "code",
      "metadata": {
        "id": "AivgN2eVwFxi",
        "outputId": "791bc4cd-acbd-4a7d-ca21-ea388b825c0a"
      },
      "source": [
        "def parseInput(row):\n",
        "    import re\n",
        "    \n",
        "    pattern = re.compile(r'\\(\\'([a-z])\\', ([0-9])\\)')\n",
        "    row_split = pattern.split(row)\n",
        "    \n",
        "    return (row_split[1], int(row_split[2]))\n",
        "    \n",
        "data_key_reread = sc \\\n",
        "    .textFile('/Users/drabast/Documents/PySpark_Data/data_key.txt') \\\n",
        "    .map(parseInput)\n",
        "data_key_reread.collect()"
      ],
      "execution_count": null,
      "outputs": [
        {
          "output_type": "execute_result",
          "data": {
            "text/plain": [
              "[('a', 4), ('b', 3), ('c', 2), ('a', 8), ('d', 2), ('b', 1), ('d', 3)]"
            ]
          },
          "metadata": {
            "tags": []
          },
          "execution_count": 31
        }
      ]
    },
    {
      "cell_type": "markdown",
      "metadata": {
        "id": "-0fQj9qvwFxj"
      },
      "source": [
        "**.foreach(...)**"
      ]
    },
    {
      "cell_type": "markdown",
      "metadata": {
        "id": "8phfrrxIwFxj"
      },
      "source": [
        "A method that applies the same function to each element of the RDD in an iterative way."
      ]
    },
    {
      "cell_type": "code",
      "metadata": {
        "id": "uIJtkfdKwFxj"
      },
      "source": [
        "def f(x): \n",
        "    print(x)\n",
        "\n",
        "data_key.foreach(f)"
      ],
      "execution_count": null,
      "outputs": []
    }
  ]
}