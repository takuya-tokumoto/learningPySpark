{
  "nbformat": 4,
  "nbformat_minor": 0,
  "metadata": {
    "colab": {
      "name": "LearningPySpark_Chapter02.ipynb",
      "provenance": [],
      "collapsed_sections": [],
      "toc_visible": true
    },
    "kernelspec": {
      "display_name": "Python 3",
      "language": "python",
      "name": "python3"
    },
    "language_info": {
      "codemirror_mode": {
        "name": "ipython",
        "version": 3
      },
      "file_extension": ".py",
      "mimetype": "text/x-python",
      "name": "python",
      "nbconvert_exporter": "python",
      "pygments_lexer": "ipython3",
      "version": "3.5.2"
    }
  },
  "cells": [
    {
      "cell_type": "code",
      "metadata": {
        "colab": {
          "base_uri": "https://localhost:8080/",
          "height": 762
        },
        "id": "xqrUOZ7vfwVy",
        "outputId": "1a4dd90d-715d-4683-a461-5314950bd432"
      },
      "source": [
        "!apt-get update\n",
        "!apt-get install openjdk-8-jdk-headless -qq > /dev/null\n",
        "!wget -q http://archive.apache.org/dist/spark/spark-2.3.1/spark-2.3.1-bin-hadoop2.7.tgz\n",
        "!tar xf spark-2.3.1-bin-hadoop2.7.tgz\n",
        "!pip install -q findspark\n",
        "\n",
        "import os\n",
        "os.environ[\"JAVA_HOME\"] = \"/usr/lib/jvm/java-8-openjdk-amd64\"\n",
        "os.environ[\"SPARK_HOME\"] = \"/content/spark-2.3.1-bin-hadoop2.7\"\n",
        "\n",
        "import findspark\n",
        "findspark.init()\n",
        "\n",
        "import pyspark\n",
        "\n",
        "# SparkContext\n",
        "from pyspark import SparkConf, SparkContext\n",
        "conf = SparkConf().setMaster(\"local\").setAppName(\"My App\")\n",
        "sc = SparkContext(conf=conf)\n",
        "\n",
        "# SparkSession\n",
        "from pyspark.sql import SparkSession\n",
        "\n",
        "#spark = SparkSession.builder.getOrCreate() \n",
        "spark = SparkSession.builder.appName(\"My App\").getOrCreate()\n",
        "spark"
      ],
      "execution_count": 1,
      "outputs": [
        {
          "output_type": "stream",
          "text": [
            "Get:1 https://cloud.r-project.org/bin/linux/ubuntu bionic-cran40/ InRelease [3,626 B]\n",
            "Ign:2 https://developer.download.nvidia.com/compute/cuda/repos/ubuntu1804/x86_64  InRelease\n",
            "Get:3 http://security.ubuntu.com/ubuntu bionic-security InRelease [88.7 kB]\n",
            "Ign:4 https://developer.download.nvidia.com/compute/machine-learning/repos/ubuntu1804/x86_64  InRelease\n",
            "Get:5 https://developer.download.nvidia.com/compute/cuda/repos/ubuntu1804/x86_64  Release [697 B]\n",
            "Get:6 http://ppa.launchpad.net/c2d4u.team/c2d4u4.0+/ubuntu bionic InRelease [15.9 kB]\n",
            "Hit:7 https://developer.download.nvidia.com/compute/machine-learning/repos/ubuntu1804/x86_64  Release\n",
            "Get:8 https://developer.download.nvidia.com/compute/cuda/repos/ubuntu1804/x86_64  Release.gpg [836 B]\n",
            "Get:9 https://cloud.r-project.org/bin/linux/ubuntu bionic-cran40/ Packages [66.2 kB]\n",
            "Hit:10 http://archive.ubuntu.com/ubuntu bionic InRelease\n",
            "Get:12 http://archive.ubuntu.com/ubuntu bionic-updates InRelease [88.7 kB]\n",
            "Hit:13 http://ppa.launchpad.net/cran/libgit2/ubuntu bionic InRelease\n",
            "Ign:14 https://developer.download.nvidia.com/compute/cuda/repos/ubuntu1804/x86_64  Packages\n",
            "Get:14 https://developer.download.nvidia.com/compute/cuda/repos/ubuntu1804/x86_64  Packages [695 kB]\n",
            "Get:15 http://ppa.launchpad.net/deadsnakes/ppa/ubuntu bionic InRelease [15.9 kB]\n",
            "Get:16 http://archive.ubuntu.com/ubuntu bionic-backports InRelease [74.6 kB]\n",
            "Get:17 http://ppa.launchpad.net/graphics-drivers/ppa/ubuntu bionic InRelease [21.3 kB]\n",
            "Get:18 http://security.ubuntu.com/ubuntu bionic-security/universe amd64 Packages [1,421 kB]\n",
            "Get:19 http://archive.ubuntu.com/ubuntu bionic-updates/restricted amd64 Packages [544 kB]\n",
            "Get:20 http://ppa.launchpad.net/c2d4u.team/c2d4u4.0+/ubuntu bionic/main Sources [1,786 kB]\n",
            "Get:21 http://security.ubuntu.com/ubuntu bionic-security/restricted amd64 Packages [510 kB]\n",
            "Get:22 http://security.ubuntu.com/ubuntu bionic-security/main amd64 Packages [2,263 kB]\n",
            "Get:23 http://archive.ubuntu.com/ubuntu bionic-updates/main amd64 Packages [2,699 kB]\n",
            "Get:24 http://security.ubuntu.com/ubuntu bionic-security/multiverse amd64 Packages [26.7 kB]\n",
            "Get:25 http://archive.ubuntu.com/ubuntu bionic-updates/multiverse amd64 Packages [39.4 kB]\n",
            "Get:26 http://archive.ubuntu.com/ubuntu bionic-updates/universe amd64 Packages [2,196 kB]\n",
            "Get:27 http://ppa.launchpad.net/c2d4u.team/c2d4u4.0+/ubuntu bionic/main amd64 Packages [914 kB]\n",
            "Get:28 http://ppa.launchpad.net/deadsnakes/ppa/ubuntu bionic/main amd64 Packages [40.9 kB]\n",
            "Get:29 http://ppa.launchpad.net/graphics-drivers/ppa/ubuntu bionic/main amd64 Packages [44.1 kB]\n",
            "Fetched 13.6 MB in 8s (1,636 kB/s)\n",
            "Reading package lists... Done\n"
          ],
          "name": "stdout"
        },
        {
          "output_type": "execute_result",
          "data": {
            "text/html": [
              "\n",
              "            <div>\n",
              "                <p><b>SparkSession - in-memory</b></p>\n",
              "                \n",
              "        <div>\n",
              "            <p><b>SparkContext</b></p>\n",
              "\n",
              "            <p><a href=\"http://463fafa181e9:4040\">Spark UI</a></p>\n",
              "\n",
              "            <dl>\n",
              "              <dt>Version</dt>\n",
              "                <dd><code>v2.3.1</code></dd>\n",
              "              <dt>Master</dt>\n",
              "                <dd><code>local</code></dd>\n",
              "              <dt>AppName</dt>\n",
              "                <dd><code>My App</code></dd>\n",
              "            </dl>\n",
              "        </div>\n",
              "        \n",
              "            </div>\n",
              "        "
            ],
            "text/plain": [
              "<pyspark.sql.session.SparkSession at 0x7f2029d35050>"
            ]
          },
          "metadata": {
            "tags": []
          },
          "execution_count": 1
        }
      ]
    },
    {
      "cell_type": "code",
      "metadata": {
        "id": "k4hysB_ih-83",
        "colab": {
          "base_uri": "https://localhost:8080/"
        },
        "outputId": "31961109-5154-42b9-8138-0296a523f6a4"
      },
      "source": [
        "# google driveに配置しているファイルにアクセス\n",
        "from google.colab import drive\n",
        "drive.mount('/content/drive')"
      ],
      "execution_count": 3,
      "outputs": [
        {
          "output_type": "stream",
          "text": [
            "Drive already mounted at /content/drive; to attempt to forcibly remount, call drive.mount(\"/content/drive\", force_remount=True).\n"
          ],
          "name": "stdout"
        }
      ]
    },
    {
      "cell_type": "markdown",
      "metadata": {
        "id": "UTeiVGXUfuff"
      },
      "source": [
        "# Chapter 3 - Learning PySpark\n",
        "## Resilient Distributed Datasets"
      ]
    },
    {
      "cell_type": "markdown",
      "metadata": {
        "id": "DIwBqQrjfufj"
      },
      "source": [
        "### Creating RDDs"
      ]
    },
    {
      "cell_type": "markdown",
      "metadata": {
        "id": "qI30AcIqfufk"
      },
      "source": [
        "PySparkでRDDを作るには2つの方法があります。リストを並列化する方法"
      ]
    },
    {
      "cell_type": "code",
      "metadata": {
        "collapsed": true,
        "id": "cBVnvIfNfufl"
      },
      "source": [
        "data = sc.parallelize(\n",
        "    [('Amber', 22), ('Alfred', 23), ('Skye',4), ('Albert', 12), \n",
        "     ('Amber', 9)])"
      ],
      "execution_count": 4,
      "outputs": []
    },
    {
      "cell_type": "markdown",
      "metadata": {
        "id": "TgFZ49-cfufm"
      },
      "source": [
        "またはリポジトリ（ファイルやデータベース）からの読み込み"
      ]
    },
    {
      "cell_type": "code",
      "metadata": {
        "collapsed": true,
        "id": "ozaBLY3lfufm"
      },
      "source": [
        "data_from_file = sc.\\\n",
        "    textFile(\n",
        "        '/content/drive/MyDrive/Colab Notebooks/data/VS14MORT.txt.gz', # ファイルパス指定\n",
        "        4)"
      ],
      "execution_count": 5,
      "outputs": []
    },
    {
      "cell_type": "markdown",
      "metadata": {
        "id": "1feBe3Yzfufn"
      },
      "source": [
        "上記のコードを実行するには、データが保存されているパスを変更する必要があることに注意してください。データセットは、 http://tomdrabas.com/data/VS14MORT.txt.gz からダウンロードできます。"
      ]
    },
    {
      "cell_type": "markdown",
      "metadata": {
        "id": "ssnRjMKcfufo"
      },
      "source": [
        "#### Schema"
      ]
    },
    {
      "cell_type": "markdown",
      "metadata": {
        "id": "Rdn7jsXbfufp"
      },
      "source": [
        "RDDはスキーマレスな構造をとる\n",
        "\n"
      ]
    },
    {
      "cell_type": "code",
      "metadata": {
        "colab": {
          "base_uri": "https://localhost:8080/"
        },
        "id": "ZRig4tJKfufq",
        "outputId": "1d7a5716-d899-4a3a-c024-780a77ebdccc"
      },
      "source": [
        "data_heterogenous = sc.parallelize([('Ferrari', 'fast'), {'Porsche': 100000}, ['Spain','visited', 4504]]).collect()\n",
        "data_heterogenous"
      ],
      "execution_count": 6,
      "outputs": [
        {
          "output_type": "execute_result",
          "data": {
            "text/plain": [
              "[('Ferrari', 'fast'), {'Porsche': 100000}, ['Spain', 'visited', 4504]]"
            ]
          },
          "metadata": {
            "tags": []
          },
          "execution_count": 6
        }
      ]
    },
    {
      "cell_type": "markdown",
      "metadata": {
        "id": "3aPXeBX8fufs"
      },
      "source": [
        ".collect()でドライバへデータを戻すアクションを実行  \n",
        "あとはpythonでのやり方でオブジェクト内のデータにアクセスできる"
      ]
    },
    {
      "cell_type": "code",
      "metadata": {
        "colab": {
          "base_uri": "https://localhost:8080/"
        },
        "id": "QiAUSXhefufs",
        "outputId": "59f2b98e-258e-4dff-c4fe-ca339c51da3c"
      },
      "source": [
        "data_heterogenous[1]['Porsche']"
      ],
      "execution_count": 7,
      "outputs": [
        {
          "output_type": "execute_result",
          "data": {
            "text/plain": [
              "100000"
            ]
          },
          "metadata": {
            "tags": []
          },
          "execution_count": 7
        }
      ]
    },
    {
      "cell_type": "markdown",
      "metadata": {
        "id": "hZiyJecWfuft"
      },
      "source": [
        "#### Reading from files"
      ]
    },
    {
      "cell_type": "markdown",
      "metadata": {
        "id": "ICUlKefAfuft"
      },
      "source": [
        "テキストファイルから読み取ると、ファイルの各行がRDDの要素となります。"
      ]
    },
    {
      "cell_type": "code",
      "metadata": {
        "colab": {
          "base_uri": "https://localhost:8080/"
        },
        "id": "Q2KRPxoEfuft",
        "outputId": "029870ac-61b4-4e65-db88-c09227d08eba"
      },
      "source": [
        "data_from_file.take(1)"
      ],
      "execution_count": 8,
      "outputs": [
        {
          "output_type": "execute_result",
          "data": {
            "text/plain": [
              "['                   1                                          2101  M1087 432311  4M4                2014U7CN                                    I64 238 070   24 0111I64                                                                                                                                                                           01 I64                                                                                                  01  11                                 100 601']"
            ]
          },
          "metadata": {
            "tags": []
          },
          "execution_count": 8
        }
      ]
    },
    {
      "cell_type": "markdown",
      "metadata": {
        "id": "h5YaoaYIfufu"
      },
      "source": [
        "#### User defined functions"
      ]
    },
    {
      "cell_type": "markdown",
      "metadata": {
        "id": "8iG5_KsEfufu"
      },
      "source": [
        "ラムダ式を使用する代わりに、より長いメソッドを作成してデータを変換することができます。  \n",
        "先ほど読めなかった行をパース（構文解析）して利用できるものに変換"
      ]
    },
    {
      "cell_type": "code",
      "metadata": {
        "id": "MljnjQVqfufu"
      },
      "source": [
        "def extractInformation(row):\n",
        "    import re\n",
        "    import numpy as np\n",
        "\n",
        "    selected_indices = [\n",
        "         2,4,5,6,7,9,10,11,12,13,14,15,16,17,18,\n",
        "         19,21,22,23,24,25,27,28,29,30,32,33,34,\n",
        "         36,37,38,39,40,41,42,43,44,45,46,47,48,\n",
        "         49,50,51,52,53,54,55,56,58,60,61,62,63,\n",
        "         64,65,66,67,68,69,70,71,72,73,74,75,76,\n",
        "         77,78,79,81,82,83,84,85,87,89\n",
        "    ]\n",
        "\n",
        "    '''\n",
        "        Input record schema\n",
        "        schema: n-m (o) -- xxx\n",
        "            n - position from\n",
        "            m - position to\n",
        "            o - number of characters\n",
        "            xxx - description\n",
        "        1. 1-19 (19) -- reserved positions\n",
        "        2. 20 (1) -- resident status\n",
        "        3. 21-60 (40) -- reserved positions\n",
        "        4. 61-62 (2) -- education code (1989 revision)\n",
        "        5. 63 (1) -- education code (2003 revision)\n",
        "        6. 64 (1) -- education reporting flag\n",
        "        7. 65-66 (2) -- month of death\n",
        "        8. 67-68 (2) -- reserved positions\n",
        "        9. 69 (1) -- sex\n",
        "        10. 70 (1) -- age: 1-years, 2-months, 4-days, 5-hours, 6-minutes, 9-not stated\n",
        "        11. 71-73 (3) -- number of units (years, months etc)\n",
        "        12. 74 (1) -- age substitution flag (if the age reported in positions 70-74 is calculated using dates of birth and death)\n",
        "        13. 75-76 (2) -- age recoded into 52 categories\n",
        "        14. 77-78 (2) -- age recoded into 27 categories\n",
        "        15. 79-80 (2) -- age recoded into 12 categories\n",
        "        16. 81-82 (2) -- infant age recoded into 22 categories\n",
        "        17. 83 (1) -- place of death\n",
        "        18. 84 (1) -- marital status\n",
        "        19. 85 (1) -- day of the week of death\n",
        "        20. 86-101 (16) -- reserved positions\n",
        "        21. 102-105 (4) -- current year\n",
        "        22. 106 (1) -- injury at work\n",
        "        23. 107 (1) -- manner of death\n",
        "        24. 108 (1) -- manner of disposition\n",
        "        25. 109 (1) -- autopsy\n",
        "        26. 110-143 (34) -- reserved positions\n",
        "        27. 144 (1) -- activity code\n",
        "        28. 145 (1) -- place of injury\n",
        "        29. 146-149 (4) -- ICD code\n",
        "        30. 150-152 (3) -- 358 cause recode\n",
        "        31. 153 (1) -- reserved position\n",
        "        32. 154-156 (3) -- 113 cause recode\n",
        "        33. 157-159 (3) -- 130 infant cause recode\n",
        "        34. 160-161 (2) -- 39 cause recode\n",
        "        35. 162 (1) -- reserved position\n",
        "        36. 163-164 (2) -- number of entity-axis conditions\n",
        "        37-56. 165-304 (140) -- list of up to 20 conditions\n",
        "        57. 305-340 (36) -- reserved positions\n",
        "        58. 341-342 (2) -- number of record axis conditions\n",
        "        59. 343 (1) -- reserved position\n",
        "        60-79. 344-443 (100) -- record axis conditions\n",
        "        80. 444 (1) -- reserve position\n",
        "        81. 445-446 (2) -- race\n",
        "        82. 447 (1) -- bridged race flag\n",
        "        83. 448 (1) -- race imputation flag\n",
        "        84. 449 (1) -- race recode (3 categories)\n",
        "        85. 450 (1) -- race recode (5 categories)\n",
        "        86. 461-483 (33) -- reserved positions\n",
        "        87. 484-486 (3) -- Hispanic origin\n",
        "        88. 487 (1) -- reserved\n",
        "        89. 488 (1) -- Hispanic origin/race recode\n",
        "     '''\n",
        "\n",
        "    record_split = re\\\n",
        "        .compile(\n",
        "            r'([\\s]{19})([0-9]{1})([\\s]{40})([0-9\\s]{2})([0-9\\s]{1})([0-9]{1})([0-9]{2})' + \n",
        "            r'([\\s]{2})([FM]{1})([0-9]{1})([0-9]{3})([0-9\\s]{1})([0-9]{2})([0-9]{2})' + \n",
        "            r'([0-9]{2})([0-9\\s]{2})([0-9]{1})([SMWDU]{1})([0-9]{1})([\\s]{16})([0-9]{4})' +\n",
        "            r'([YNU]{1})([0-9\\s]{1})([BCOU]{1})([YNU]{1})([\\s]{34})([0-9\\s]{1})([0-9\\s]{1})' +\n",
        "            r'([A-Z0-9\\s]{4})([0-9]{3})([\\s]{1})([0-9\\s]{3})([0-9\\s]{3})([0-9\\s]{2})([\\s]{1})' + \n",
        "            r'([0-9\\s]{2})([A-Z0-9\\s]{7})([A-Z0-9\\s]{7})([A-Z0-9\\s]{7})([A-Z0-9\\s]{7})' + \n",
        "            r'([A-Z0-9\\s]{7})([A-Z0-9\\s]{7})([A-Z0-9\\s]{7})([A-Z0-9\\s]{7})([A-Z0-9\\s]{7})' + \n",
        "            r'([A-Z0-9\\s]{7})([A-Z0-9\\s]{7})([A-Z0-9\\s]{7})([A-Z0-9\\s]{7})([A-Z0-9\\s]{7})' + \n",
        "            r'([A-Z0-9\\s]{7})([A-Z0-9\\s]{7})([A-Z0-9\\s]{7})([A-Z0-9\\s]{7})([A-Z0-9\\s]{7})' + \n",
        "            r'([A-Z0-9\\s]{7})([\\s]{36})([A-Z0-9\\s]{2})([\\s]{1})([A-Z0-9\\s]{5})([A-Z0-9\\s]{5})' + \n",
        "            r'([A-Z0-9\\s]{5})([A-Z0-9\\s]{5})([A-Z0-9\\s]{5})([A-Z0-9\\s]{5})([A-Z0-9\\s]{5})' + \n",
        "            r'([A-Z0-9\\s]{5})([A-Z0-9\\s]{5})([A-Z0-9\\s]{5})([A-Z0-9\\s]{5})([A-Z0-9\\s]{5})' + \n",
        "            r'([A-Z0-9\\s]{5})([A-Z0-9\\s]{5})([A-Z0-9\\s]{5})([A-Z0-9\\s]{5})([A-Z0-9\\s]{5})' + \n",
        "            r'([A-Z0-9\\s]{5})([A-Z0-9\\s]{5})([A-Z0-9\\s]{5})([\\s]{1})([0-9\\s]{2})([0-9\\s]{1})' + \n",
        "            r'([0-9\\s]{1})([0-9\\s]{1})([0-9\\s]{1})([\\s]{33})([0-9\\s]{3})([0-9\\s]{1})([0-9\\s]{1})')\n",
        "    try:\n",
        "        rs = np.array(record_split.split(row))[selected_indices]\n",
        "    except:\n",
        "        rs = np.array(['-99'] * len(selected_indices))\n",
        "    return rs\n",
        "#     return record_split.split(row)"
      ],
      "execution_count": 9,
      "outputs": []
    },
    {
      "cell_type": "markdown",
      "metadata": {
        "id": "k1iGN-iHfufw"
      },
      "source": [
        "ここでは、`lambda`を使う代わりに、`extractInformation(...)`メソッドを使って、データセットの分割と変換を行います。"
      ]
    },
    {
      "cell_type": "code",
      "metadata": {
        "colab": {
          "base_uri": "https://localhost:8080/"
        },
        "id": "iZN-jSClfufy",
        "outputId": "a44462e1-7d5c-4938-f477-6ed56ecba345"
      },
      "source": [
        "data_from_file_conv = data_from_file.map(extractInformation)\n",
        "data_from_file_conv.map(lambda row: row).take(1)"
      ],
      "execution_count": 10,
      "outputs": [
        {
          "output_type": "execute_result",
          "data": {
            "text/plain": [
              "[array(['1', '  ', '2', '1', '01', 'M', '1', '087', ' ', '43', '23', '11',\n",
              "        '  ', '4', 'M', '4', '2014', 'U', '7', 'C', 'N', ' ', ' ', 'I64 ',\n",
              "        '238', '070', '   ', '24', '01', '11I64  ', '       ', '       ',\n",
              "        '       ', '       ', '       ', '       ', '       ', '       ',\n",
              "        '       ', '       ', '       ', '       ', '       ', '       ',\n",
              "        '       ', '       ', '       ', '       ', '       ', '01',\n",
              "        'I64  ', '     ', '     ', '     ', '     ', '     ', '     ',\n",
              "        '     ', '     ', '     ', '     ', '     ', '     ', '     ',\n",
              "        '     ', '     ', '     ', '     ', '     ', '     ', '01', ' ',\n",
              "        ' ', '1', '1', '100', '6'], dtype='<U40')]"
            ]
          },
          "metadata": {
            "tags": []
          },
          "execution_count": 10
        }
      ]
    },
    {
      "cell_type": "code",
      "metadata": {
        "colab": {
          "base_uri": "https://localhost:8080/"
        },
        "id": "X2OLjXyGrpYO",
        "outputId": "cb8b0fd6-1441-45bf-d94c-cf3e237117f8"
      },
      "source": [
        "data_from_file_conv.take(3)"
      ],
      "execution_count": 11,
      "outputs": [
        {
          "output_type": "execute_result",
          "data": {
            "text/plain": [
              "[array(['1', '  ', '2', '1', '01', 'M', '1', '087', ' ', '43', '23', '11',\n",
              "        '  ', '4', 'M', '4', '2014', 'U', '7', 'C', 'N', ' ', ' ', 'I64 ',\n",
              "        '238', '070', '   ', '24', '01', '11I64  ', '       ', '       ',\n",
              "        '       ', '       ', '       ', '       ', '       ', '       ',\n",
              "        '       ', '       ', '       ', '       ', '       ', '       ',\n",
              "        '       ', '       ', '       ', '       ', '       ', '01',\n",
              "        'I64  ', '     ', '     ', '     ', '     ', '     ', '     ',\n",
              "        '     ', '     ', '     ', '     ', '     ', '     ', '     ',\n",
              "        '     ', '     ', '     ', '     ', '     ', '     ', '01', ' ',\n",
              "        ' ', '1', '1', '100', '6'], dtype='<U40'),\n",
              " array(['1', '  ', '2', '1', '01', 'M', '1', '058', ' ', '37', '17', '08',\n",
              "        '  ', '4', 'D', '3', '2014', 'U', '7', 'C', 'N', ' ', ' ', 'I250',\n",
              "        '214', '062', '   ', '21', '03', '11I250 ', '61I272 ', '62E669 ',\n",
              "        '       ', '       ', '       ', '       ', '       ', '       ',\n",
              "        '       ', '       ', '       ', '       ', '       ', '       ',\n",
              "        '       ', '       ', '       ', '       ', '       ', '03',\n",
              "        'I250 ', 'E669 ', 'I272 ', '     ', '     ', '     ', '     ',\n",
              "        '     ', '     ', '     ', '     ', '     ', '     ', '     ',\n",
              "        '     ', '     ', '     ', '     ', '     ', '     ', '01', ' ',\n",
              "        ' ', '1', '1', '100', '6'], dtype='<U40'),\n",
              " array(['1', '  ', '7', '1', '01', 'F', '1', '075', ' ', '41', '21', '10',\n",
              "        '  ', '4', 'W', '2', '2014', 'U', '7', 'C', 'N', ' ', ' ', 'J449',\n",
              "        '267', '086', '   ', '28', '02', '11J449 ', '61F179 ', '       ',\n",
              "        '       ', '       ', '       ', '       ', '       ', '       ',\n",
              "        '       ', '       ', '       ', '       ', '       ', '       ',\n",
              "        '       ', '       ', '       ', '       ', '       ', '02',\n",
              "        'J449 ', 'F179 ', '     ', '     ', '     ', '     ', '     ',\n",
              "        '     ', '     ', '     ', '     ', '     ', '     ', '     ',\n",
              "        '     ', '     ', '     ', '     ', '     ', '     ', '01', ' ',\n",
              "        ' ', '1', '1', '100', '6'], dtype='<U40')]"
            ]
          },
          "metadata": {
            "tags": []
          },
          "execution_count": 11
        }
      ]
    },
    {
      "cell_type": "markdown",
      "metadata": {
        "id": "_eseupIGfufy"
      },
      "source": [
        "### Transformations"
      ]
    },
    {
      "cell_type": "markdown",
      "metadata": {
        "id": "wNlyqaNPfufy"
      },
      "source": [
        "#### .map(...)"
      ]
    },
    {
      "cell_type": "markdown",
      "metadata": {
        "id": "uF4BdTq1fufz"
      },
      "source": [
        "このメソッドは、RDDの各要素に適用されます。`data_from_file_conv`データセットの場合、これは各行の変換と考えることができます。"
      ]
    },
    {
      "cell_type": "code",
      "metadata": {
        "colab": {
          "base_uri": "https://localhost:8080/"
        },
        "id": "qLwIPmSkfufz",
        "outputId": "916d6cce-69d7-44e7-e799-797688e8a40c"
      },
      "source": [
        "data_2014 = data_from_file_conv.map(lambda row: int(row[16])) # 16列目のデータを行毎に適用\n",
        "data_2014.take(10)"
      ],
      "execution_count": 12,
      "outputs": [
        {
          "output_type": "execute_result",
          "data": {
            "text/plain": [
              "[2014, 2014, 2014, 2014, 2014, 2014, 2014, 2014, 2014, -99]"
            ]
          },
          "metadata": {
            "tags": []
          },
          "execution_count": 12
        }
      ]
    },
    {
      "cell_type": "markdown",
      "metadata": {
        "id": "HN_3npOEfufz"
      },
      "source": [
        "より多くの列を組み合わせることができます。"
      ]
    },
    {
      "cell_type": "code",
      "metadata": {
        "colab": {
          "base_uri": "https://localhost:8080/"
        },
        "id": "4b4QXiQEfufz",
        "outputId": "0a79e398-7070-411e-a2c1-ac1ee0cb919a"
      },
      "source": [
        "data_2014_2 = data_from_file_conv.map(lambda row: (row[16], int(row[16])))\n",
        "data_2014_2.take(10)"
      ],
      "execution_count": 13,
      "outputs": [
        {
          "output_type": "execute_result",
          "data": {
            "text/plain": [
              "[('2014', 2014),\n",
              " ('2014', 2014),\n",
              " ('2014', 2014),\n",
              " ('2014', 2014),\n",
              " ('2014', 2014),\n",
              " ('2014', 2014),\n",
              " ('2014', 2014),\n",
              " ('2014', 2014),\n",
              " ('2014', 2014),\n",
              " ('-99', -99)]"
            ]
          },
          "metadata": {
            "tags": []
          },
          "execution_count": 13
        }
      ]
    },
    {
      "cell_type": "markdown",
      "metadata": {
        "id": "SipY36tNfufz"
      },
      "source": [
        "#### .filter(...)"
      ]
    },
    {
      "cell_type": "markdown",
      "metadata": {
        "id": "rK-WZ2_5fufz"
      },
      "source": [
        "`.filter(...)`メソッドは、指定された条件に合うデータセットの要素を選択することができます。"
      ]
    },
    {
      "cell_type": "code",
      "metadata": {
        "colab": {
          "base_uri": "https://localhost:8080/"
        },
        "id": "0-B7W5S5fuf0",
        "outputId": "6477ea1e-1c79-4418-f7a5-91476b8f5364"
      },
      "source": [
        "data_filtered = data_from_file_conv.filter(lambda row: row[5] == 'F' and row[21] == '0')\n",
        "data_filtered.count()"
      ],
      "execution_count": 14,
      "outputs": [
        {
          "output_type": "execute_result",
          "data": {
            "text/plain": [
              "6"
            ]
          },
          "metadata": {
            "tags": []
          },
          "execution_count": 14
        }
      ]
    },
    {
      "cell_type": "markdown",
      "metadata": {
        "id": "sa4b1b1pfuf0"
      },
      "source": [
        "#### .flatMap(...)"
      ]
    },
    {
      "cell_type": "markdown",
      "metadata": {
        "id": "-g3u16oHfuf0"
      },
      "source": [
        "`.flatMap(...)`メソッドは、`.map(...)`と同様に動作しますが、リストではなくフラット化された結果を返します。"
      ]
    },
    {
      "cell_type": "code",
      "metadata": {
        "colab": {
          "base_uri": "https://localhost:8080/"
        },
        "id": "kw3Lxq4Yfuf0",
        "outputId": "b3d60c8e-73e3-43ee-e462-ade227a87703"
      },
      "source": [
        "data_2014_flat = data_from_file_conv.flatMap(lambda row: (row[16], int(row[16]) + 1))\n",
        "data_2014_flat.take(10)"
      ],
      "execution_count": 15,
      "outputs": [
        {
          "output_type": "execute_result",
          "data": {
            "text/plain": [
              "['2014', 2015, '2014', 2015, '2014', 2015, '2014', 2015, '2014', 2015]"
            ]
          },
          "metadata": {
            "tags": []
          },
          "execution_count": 15
        }
      ]
    },
    {
      "cell_type": "markdown",
      "metadata": {
        "id": "eR6YgoLpfuf0"
      },
      "source": [
        "#### .distinct()"
      ]
    },
    {
      "cell_type": "markdown",
      "metadata": {
        "id": "9mVFe6wbfuf1"
      },
      "source": [
        "このメソッドは、指定された列の異なる値のリストを返します。"
      ]
    },
    {
      "cell_type": "code",
      "metadata": {
        "colab": {
          "base_uri": "https://localhost:8080/"
        },
        "id": "AyFntq_efuf1",
        "outputId": "e9639d4e-d0dd-43db-d27b-22213069b92f"
      },
      "source": [
        "distinct_gender = data_from_file_conv.map(lambda row: row[5]).distinct().collect()\n",
        "distinct_gender"
      ],
      "execution_count": 16,
      "outputs": [
        {
          "output_type": "execute_result",
          "data": {
            "text/plain": [
              "['M', 'F', '-99']"
            ]
          },
          "metadata": {
            "tags": []
          },
          "execution_count": 16
        }
      ]
    },
    {
      "cell_type": "markdown",
      "metadata": {
        "id": "NYvrCuyyfuf1"
      },
      "source": [
        "#### .sample(...)"
      ]
    },
    {
      "cell_type": "markdown",
      "metadata": {
        "id": "rkkP4f6rfuf1"
      },
      "source": [
        "`.sample()`メソッドは、データセットから無作為に抽出したサンプルを返します。"
      ]
    },
    {
      "cell_type": "code",
      "metadata": {
        "colab": {
          "base_uri": "https://localhost:8080/"
        },
        "id": "XGIfdnkefuf1",
        "outputId": "ca215d5e-b741-4fc3-f3d5-18ad93ee3dd3"
      },
      "source": [
        "fraction = 0.1\n",
        "data_sample = data_from_file_conv.sample(False, fraction, 666)\n",
        "\n",
        "data_sample.take(1)"
      ],
      "execution_count": 17,
      "outputs": [
        {
          "output_type": "execute_result",
          "data": {
            "text/plain": [
              "[array(['1', '  ', '5', '1', '01', 'F', '1', '082', ' ', '42', '22', '10',\n",
              "        '  ', '4', 'W', '5', '2014', 'U', '7', 'C', 'N', ' ', ' ', 'I251',\n",
              "        '215', '063', '   ', '21', '02', '11I350 ', '21I251 ', '       ',\n",
              "        '       ', '       ', '       ', '       ', '       ', '       ',\n",
              "        '       ', '       ', '       ', '       ', '       ', '       ',\n",
              "        '       ', '       ', '       ', '       ', '       ', '02',\n",
              "        'I251 ', 'I350 ', '     ', '     ', '     ', '     ', '     ',\n",
              "        '     ', '     ', '     ', '     ', '     ', '     ', '     ',\n",
              "        '     ', '     ', '     ', '     ', '     ', '     ', '28', ' ',\n",
              "        ' ', '2', '4', '100', '8'], dtype='<U40')]"
            ]
          },
          "metadata": {
            "tags": []
          },
          "execution_count": 17
        }
      ]
    },
    {
      "cell_type": "markdown",
      "metadata": {
        "id": "Yr58wVUDfuf2"
      },
      "source": [
        "本当に全体の10％の記録が取れたのか確認してみましょう。"
      ]
    },
    {
      "cell_type": "code",
      "metadata": {
        "colab": {
          "base_uri": "https://localhost:8080/"
        },
        "id": "aON7u_rTfuf2",
        "outputId": "3f705d8a-3fa3-483a-aee4-c94444a86f74"
      },
      "source": [
        "print('Original dataset: {0}, sample: {1}'.format(data_from_file_conv.count(), data_sample.count()))"
      ],
      "execution_count": 18,
      "outputs": [
        {
          "output_type": "stream",
          "text": [
            "Original dataset: 2631171, sample: 263247\n"
          ],
          "name": "stdout"
        }
      ]
    },
    {
      "cell_type": "markdown",
      "metadata": {
        "id": "GZGLjuDifuf2"
      },
      "source": [
        "#### .leftOuterJoin(...)"
      ]
    },
    {
      "cell_type": "markdown",
      "metadata": {
        "id": "cOe4EI1yfuf2"
      },
      "source": [
        "left outer join は、SQLと同じように、2つのRDDを両方のデータセットにある値に基づいて結合し、左のRDDからのレコードを返し、2つのRDDが一致するところに右のRDDからのレコードを追加します。"
      ]
    },
    {
      "cell_type": "code",
      "metadata": {
        "colab": {
          "base_uri": "https://localhost:8080/"
        },
        "id": "VmNDKEbVfuf2",
        "outputId": "dda00c39-1a04-4668-ac6a-4ce404b752d6"
      },
      "source": [
        "rdd1 = sc.parallelize([('a', 1), ('b', 4), ('c',10)])\n",
        "rdd2 = sc.parallelize([('a', 4), ('a', 1), ('b', '6'), ('d', 15)])\n",
        "\n",
        "rdd3 = rdd1.leftOuterJoin(rdd2)\n",
        "rdd3.take(2)"
      ],
      "execution_count": 19,
      "outputs": [
        {
          "output_type": "execute_result",
          "data": {
            "text/plain": [
              "[('b', (4, '6')), ('c', (10, None))]"
            ]
          },
          "metadata": {
            "tags": []
          },
          "execution_count": 19
        }
      ]
    },
    {
      "cell_type": "markdown",
      "metadata": {
        "id": "JlnwC1Ipfuf2"
      },
      "source": [
        "もし代わりに.`join(...)`メソッドを使っていたら、`'a'`と`'b'`の2つの値がこれらの2つのRDDの間で交差しているので、`'a'`と`'b'`の値だけを得ることができたでしょう。"
      ]
    },
    {
      "cell_type": "code",
      "metadata": {
        "colab": {
          "base_uri": "https://localhost:8080/"
        },
        "id": "vCJouOyYfuf2",
        "outputId": "a222dcaa-a078-4e63-f2d7-1fa324e35472"
      },
      "source": [
        "rdd4 = rdd1.join(rdd2)\n",
        "rdd4.collect()"
      ],
      "execution_count": 20,
      "outputs": [
        {
          "output_type": "execute_result",
          "data": {
            "text/plain": [
              "[('b', (4, '6')), ('a', (1, 4)), ('a', (1, 1))]"
            ]
          },
          "metadata": {
            "tags": []
          },
          "execution_count": 20
        }
      ]
    },
    {
      "cell_type": "markdown",
      "metadata": {
        "id": "tTl8B5MWfuf3"
      },
      "source": [
        "もうひとつの便利なメソッドは、両方のRDDで等しいレコードを返す.intersection(...)です"
      ]
    },
    {
      "cell_type": "code",
      "metadata": {
        "colab": {
          "base_uri": "https://localhost:8080/"
        },
        "id": "YDwLljdmfuf3",
        "outputId": "0395c11e-761c-4c44-a191-8ccbd6b9bfdb"
      },
      "source": [
        "rdd5 = rdd1.intersection(rdd2)\n",
        "rdd5.collect()"
      ],
      "execution_count": 21,
      "outputs": [
        {
          "output_type": "execute_result",
          "data": {
            "text/plain": [
              "[('a', 1)]"
            ]
          },
          "metadata": {
            "tags": []
          },
          "execution_count": 21
        }
      ]
    },
    {
      "cell_type": "markdown",
      "metadata": {
        "id": "cm0vb-Zrfuf3"
      },
      "source": [
        "#### .repartition(...)"
      ]
    },
    {
      "cell_type": "markdown",
      "metadata": {
        "id": "Nsm4G5VGfuf3"
      },
      "source": [
        "データセットの再分割は、データセットを分割するパーティションの数を変えます。"
      ]
    },
    {
      "cell_type": "code",
      "metadata": {
        "colab": {
          "base_uri": "https://localhost:8080/"
        },
        "id": "y3l4TVo-fuf3",
        "outputId": "6a7cfa35-5d28-4e79-ae89-156e38769427"
      },
      "source": [
        "rdd1 = rdd1.repartition(4)\n",
        "\n",
        "len(rdd1.glom().collect())"
      ],
      "execution_count": 22,
      "outputs": [
        {
          "output_type": "execute_result",
          "data": {
            "text/plain": [
              "4"
            ]
          },
          "metadata": {
            "tags": []
          },
          "execution_count": 22
        }
      ]
    },
    {
      "cell_type": "markdown",
      "metadata": {
        "id": "Kh-mmy3_fuf3"
      },
      "source": [
        "### Actions"
      ]
    },
    {
      "cell_type": "markdown",
      "metadata": {
        "id": "iqv47bGefuf3"
      },
      "source": [
        "#### .take(...)"
      ]
    },
    {
      "cell_type": "markdown",
      "metadata": {
        "id": "vdLCiy-Vfuf3"
      },
      "source": [
        "このメソッドは、1つのデータパーティションから `n` 個の先頭行を返します。"
      ]
    },
    {
      "cell_type": "code",
      "metadata": {
        "colab": {
          "base_uri": "https://localhost:8080/"
        },
        "id": "y-oPGWtFfuf3",
        "outputId": "72c0a1bf-7069-441d-80ec-010ebcd5ee40"
      },
      "source": [
        "data_first = data_from_file_conv.take(1)\n",
        "data_first"
      ],
      "execution_count": 23,
      "outputs": [
        {
          "output_type": "execute_result",
          "data": {
            "text/plain": [
              "[array(['1', '  ', '2', '1', '01', 'M', '1', '087', ' ', '43', '23', '11',\n",
              "        '  ', '4', 'M', '4', '2014', 'U', '7', 'C', 'N', ' ', ' ', 'I64 ',\n",
              "        '238', '070', '   ', '24', '01', '11I64  ', '       ', '       ',\n",
              "        '       ', '       ', '       ', '       ', '       ', '       ',\n",
              "        '       ', '       ', '       ', '       ', '       ', '       ',\n",
              "        '       ', '       ', '       ', '       ', '       ', '01',\n",
              "        'I64  ', '     ', '     ', '     ', '     ', '     ', '     ',\n",
              "        '     ', '     ', '     ', '     ', '     ', '     ', '     ',\n",
              "        '     ', '     ', '     ', '     ', '     ', '     ', '01', ' ',\n",
              "        ' ', '1', '1', '100', '6'], dtype='<U40')]"
            ]
          },
          "metadata": {
            "tags": []
          },
          "execution_count": 23
        }
      ]
    },
    {
      "cell_type": "markdown",
      "metadata": {
        "id": "Ae15SnOwfuf4"
      },
      "source": [
        "ある程度ランダムなデータが必要な場合は、代わりに`.takeSample(...)` を使うことができます。"
      ]
    },
    {
      "cell_type": "code",
      "metadata": {
        "colab": {
          "base_uri": "https://localhost:8080/"
        },
        "id": "PpFF8GY4fuf4",
        "outputId": "62743d07-37a3-4967-fa6d-7c0cbad1ab9c"
      },
      "source": [
        "data_take_sampled = data_from_file_conv.takeSample(False, 1, 667)\n",
        "data_take_sampled"
      ],
      "execution_count": 24,
      "outputs": [
        {
          "output_type": "execute_result",
          "data": {
            "text/plain": [
              "[array(['2', '17', ' ', '0', '08', 'M', '1', '069', ' ', '39', '19', '09',\n",
              "        '  ', '1', 'M', '7', '2014', 'U', '7', 'U', 'N', ' ', ' ', 'I251',\n",
              "        '215', '063', '   ', '21', '06', '11I500 ', '21I251 ', '61I499 ',\n",
              "        '62I10  ', '63N189 ', '64K761 ', '       ', '       ', '       ',\n",
              "        '       ', '       ', '       ', '       ', '       ', '       ',\n",
              "        '       ', '       ', '       ', '       ', '       ', '05',\n",
              "        'I251 ', 'I120 ', 'I499 ', 'I500 ', 'K761 ', '     ', '     ',\n",
              "        '     ', '     ', '     ', '     ', '     ', '     ', '     ',\n",
              "        '     ', '     ', '     ', '     ', '     ', '     ', '01', ' ',\n",
              "        ' ', '1', '1', '100', '6'], dtype='<U40')]"
            ]
          },
          "metadata": {
            "tags": []
          },
          "execution_count": 24
        }
      ]
    },
    {
      "cell_type": "markdown",
      "metadata": {
        "id": "V2y-JmQQfuf4"
      },
      "source": [
        "#### .reduce(...)"
      ]
    },
    {
      "cell_type": "markdown",
      "metadata": {
        "id": "kvMyyvQAfuf4"
      },
      "source": [
        "データを処理するもう一つのアクションである.reduce(...)メソッドは、指定されたメソッドを使ってRDDの要素にreduceの処理(RDD要素の合計値を求めるなど)をかける。"
      ]
    },
    {
      "cell_type": "code",
      "metadata": {
        "colab": {
          "base_uri": "https://localhost:8080/"
        },
        "id": "92laIAUEfuf4",
        "outputId": "56c6b020-c7f7-43fa-f74c-79f2a1e21761"
      },
      "source": [
        "rdd1.map(lambda row: row[1]).reduce(lambda x, y: x + y)"
      ],
      "execution_count": 25,
      "outputs": [
        {
          "output_type": "execute_result",
          "data": {
            "text/plain": [
              "15"
            ]
          },
          "metadata": {
            "tags": []
          },
          "execution_count": 25
        }
      ]
    },
    {
      "cell_type": "markdown",
      "metadata": {
        "id": "r1GDmjotfuf4"
      },
      "source": [
        "データの分割方法によっては間違った結果が得られることがあります。"
      ]
    },
    {
      "cell_type": "code",
      "metadata": {
        "id": "FvWClsFBfuf5"
      },
      "source": [
        "data_reduce = sc.parallelize([1, 2, .5, .1, 5, .2], 1)"
      ],
      "execution_count": 26,
      "outputs": []
    },
    {
      "cell_type": "markdown",
      "metadata": {
        "id": "OeFS0w7Ifuf5"
      },
      "source": [
        "現在の結果を後続の結果で割るように`.reduce()`を適用すると、10という値が期待できます。"
      ]
    },
    {
      "cell_type": "code",
      "metadata": {
        "colab": {
          "base_uri": "https://localhost:8080/"
        },
        "id": "zcKI4yMvfuf5",
        "outputId": "233760ee-4f59-4e63-d119-a44fd62e0752"
      },
      "source": [
        "works = data_reduce.reduce(lambda x, y: x / y)\n",
        "works"
      ],
      "execution_count": 27,
      "outputs": [
        {
          "output_type": "execute_result",
          "data": {
            "text/plain": [
              "10.0"
            ]
          },
          "metadata": {
            "tags": []
          },
          "execution_count": 27
        }
      ]
    },
    {
      "cell_type": "markdown",
      "metadata": {
        "id": "wJbVygbwfuf5"
      },
      "source": [
        "しかし、仮にデータを3つのパーティションに分割した場合、その結果は間違ったものになります。"
      ]
    },
    {
      "cell_type": "code",
      "metadata": {
        "colab": {
          "base_uri": "https://localhost:8080/"
        },
        "id": "rKbZV38Efuf5",
        "outputId": "140c7fe2-3e12-43e6-b795-067f60f5e188"
      },
      "source": [
        "data_reduce = sc.parallelize([1, 2, .5, .1, 5, .2], 3)\n",
        "data_reduce.reduce(lambda x, y: x / y)"
      ],
      "execution_count": 28,
      "outputs": [
        {
          "output_type": "execute_result",
          "data": {
            "text/plain": [
              "0.004"
            ]
          },
          "metadata": {
            "tags": []
          },
          "execution_count": 28
        }
      ]
    },
    {
      "cell_type": "markdown",
      "metadata": {
        "id": "KJT7srvHfuf5"
      },
      "source": [
        "`.reduceByKey(...)`メソッドは、`.reduce(...)`メソッドと同じように動作しますが、キーごとにreduceを適用する。"
      ]
    },
    {
      "cell_type": "code",
      "metadata": {
        "colab": {
          "base_uri": "https://localhost:8080/"
        },
        "id": "6xIFaxpcfuf5",
        "outputId": "a55ca092-3bff-4edc-fb04-bbeec52b88b3"
      },
      "source": [
        "data_key = sc.parallelize([('a', 4),('b', 3),('c', 2),('a', 8),('d', 2),('b', 1),('d', 3)],4)\n",
        "data_key.reduceByKey(lambda x, y: x + y).collect()"
      ],
      "execution_count": 29,
      "outputs": [
        {
          "output_type": "execute_result",
          "data": {
            "text/plain": [
              "[('b', 4), ('c', 2), ('a', 12), ('d', 5)]"
            ]
          },
          "metadata": {
            "tags": []
          },
          "execution_count": 29
        }
      ]
    },
    {
      "cell_type": "markdown",
      "metadata": {
        "id": "2CUTbaCofuf5"
      },
      "source": [
        "#### .count()"
      ]
    },
    {
      "cell_type": "markdown",
      "metadata": {
        "id": "Laag8AIgfuf6"
      },
      "source": [
        "`.count()`メソッドは、RDDの要素数をカウントします。"
      ]
    },
    {
      "cell_type": "code",
      "metadata": {
        "colab": {
          "base_uri": "https://localhost:8080/"
        },
        "id": "pYw0QS4Efuf6",
        "outputId": "bb31fd50-d996-40ec-cd79-838280c7fb93"
      },
      "source": [
        "data_reduce.count()"
      ],
      "execution_count": 30,
      "outputs": [
        {
          "output_type": "execute_result",
          "data": {
            "text/plain": [
              "6"
            ]
          },
          "metadata": {
            "tags": []
          },
          "execution_count": 30
        }
      ]
    },
    {
      "cell_type": "markdown",
      "metadata": {
        "id": "LrsJlfzGfuf6"
      },
      "source": [
        "下記の方法と同じ効果がありますが、データをドライバーに移す必要はありません。"
      ]
    },
    {
      "cell_type": "code",
      "metadata": {
        "colab": {
          "base_uri": "https://localhost:8080/"
        },
        "id": "B492MVhWfuf6",
        "outputId": "96326212-df8e-4970-cd50-b1c2db68e813"
      },
      "source": [
        "len(data_reduce.collect()) # WRONG -- DON'T DO THIS!"
      ],
      "execution_count": 31,
      "outputs": [
        {
          "output_type": "execute_result",
          "data": {
            "text/plain": [
              "6"
            ]
          },
          "metadata": {
            "tags": []
          },
          "execution_count": 31
        }
      ]
    },
    {
      "cell_type": "markdown",
      "metadata": {
        "id": "p5vUTv9Ofuf6"
      },
      "source": [
        "データセットが*key-value*の形をしている場合、`.countByKey()`メソッドを使って、異なるキーの数を得ることができます。"
      ]
    },
    {
      "cell_type": "code",
      "metadata": {
        "colab": {
          "base_uri": "https://localhost:8080/"
        },
        "id": "NW435F-Zfuf6",
        "outputId": "a494e145-35b5-4101-e953-c9200e2f22d0"
      },
      "source": [
        "data_key.countByKey().items()"
      ],
      "execution_count": 32,
      "outputs": [
        {
          "output_type": "execute_result",
          "data": {
            "text/plain": [
              "dict_items([('a', 2), ('b', 2), ('c', 1), ('d', 2)])"
            ]
          },
          "metadata": {
            "tags": []
          },
          "execution_count": 32
        }
      ]
    },
    {
      "cell_type": "markdown",
      "metadata": {
        "id": "9Ftera6qfuf6"
      },
      "source": [
        "#### .saveAsTextFile(...)"
      ]
    },
    {
      "cell_type": "markdown",
      "metadata": {
        "id": "P5t39CBZfuf6"
      },
      "source": [
        "その名の通り、.saveAsTextFile()はRDDをテキストファイルに保存します：各パーティションを別々のファイルに。"
      ]
    },
    {
      "cell_type": "code",
      "metadata": {
        "id": "Cjv4AsSefuf6",
        "colab": {
          "base_uri": "https://localhost:8080/",
          "height": 35
        },
        "outputId": "b027a1fd-9024-45c7-d91f-3a709a7a43da"
      },
      "source": [
        "'''\n",
        "data_key.saveAsTextFile('/Users/drabast/Documents/PySpark_Data/data_key.txt')\n",
        "'''"
      ],
      "execution_count": 33,
      "outputs": [
        {
          "output_type": "execute_result",
          "data": {
            "application/vnd.google.colaboratory.intrinsic+json": {
              "type": "string"
            },
            "text/plain": [
              "\"\\ndata_key.saveAsTextFile('/Users/drabast/Documents/PySpark_Data/data_key.txt')\\n\""
            ]
          },
          "metadata": {
            "tags": []
          },
          "execution_count": 33
        }
      ]
    },
    {
      "cell_type": "markdown",
      "metadata": {
        "id": "-PEq7knufuf7"
      },
      "source": [
        "それを読み返すには、先ほどと同じように、すべての行を文字列として扱うようにパースする必要があります。"
      ]
    },
    {
      "cell_type": "code",
      "metadata": {
        "colab": {
          "base_uri": "https://localhost:8080/",
          "height": 53
        },
        "id": "KHg5dV2sfuf7",
        "outputId": "1eb00525-df12-4c69-dd1e-4b7c5f2df3a5"
      },
      "source": [
        "'''def parseInput(row):\n",
        "    import re\n",
        "    \n",
        "    pattern = re.compile(r'\\(\\'([a-z])\\', ([0-9])\\)')\n",
        "    row_split = pattern.split(row)\n",
        "    \n",
        "    return (row_split[1], int(row_split[2]))\n",
        "    \n",
        "data_key_reread = sc \\\n",
        "    .textFile('/Users/drabast/Documents/PySpark_Data/data_key.txt') \\\n",
        "    .map(parseInput)\n",
        "data_key_reread.collect()'''"
      ],
      "execution_count": 34,
      "outputs": [
        {
          "output_type": "execute_result",
          "data": {
            "application/vnd.google.colaboratory.intrinsic+json": {
              "type": "string"
            },
            "text/plain": [
              "\"def parseInput(row):\\n    import re\\n    \\n    pattern = re.compile(r'\\\\('([a-z])', ([0-9])\\\\)')\\n    row_split = pattern.split(row)\\n    \\n    return (row_split[1], int(row_split[2]))\\n    \\ndata_key_reread = sc     .textFile('/Users/drabast/Documents/PySpark_Data/data_key.txt')     .map(parseInput)\\ndata_key_reread.collect()\""
            ]
          },
          "metadata": {
            "tags": []
          },
          "execution_count": 34
        }
      ]
    },
    {
      "cell_type": "markdown",
      "metadata": {
        "id": "UTXBL_oYfuf7"
      },
      "source": [
        "**.foreach(...)**"
      ]
    },
    {
      "cell_type": "markdown",
      "metadata": {
        "id": "pazKQHRDfuf7"
      },
      "source": [
        "RDDの各要素に同じ関数を反復的に適用する方法。"
      ]
    },
    {
      "cell_type": "code",
      "metadata": {
        "id": "QFQp0bEdfuf7"
      },
      "source": [
        "def f(x): \n",
        "    print(x)\n",
        "\n",
        "data_key.foreach(f)"
      ],
      "execution_count": 35,
      "outputs": []
    },
    {
      "cell_type": "code",
      "metadata": {
        "id": "Jgdf1K-x-AJd"
      },
      "source": [
        "　"
      ],
      "execution_count": 35,
      "outputs": []
    }
  ]
}